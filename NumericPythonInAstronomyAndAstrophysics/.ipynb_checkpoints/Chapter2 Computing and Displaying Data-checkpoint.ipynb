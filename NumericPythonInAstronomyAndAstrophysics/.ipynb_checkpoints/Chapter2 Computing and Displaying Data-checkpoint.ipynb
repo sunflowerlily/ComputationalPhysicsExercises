{
 "cells": [
  {
   "cell_type": "markdown",
   "id": "eac68953-e2b9-46a9-a28b-769631f5d79e",
   "metadata": {},
   "source": [
    "### 2.1.1 太阳的纬度(Declination of the Sun)"
   ]
  },
  {
   "cell_type": "markdown",
   "id": "608a29ff-5f47-43b0-9ff4-c42a41307ac5",
   "metadata": {},
   "source": [
    "在冬至或者是夏至日(solstice)，太阳光与地球赤道的夹角达到最大值$23^{\\circ}44'$. 所以在北半球，夏至日的$\\delta_{\\odot}=23^{\\circ}44'$, 冬至日$\\delta_{\\odot}=-23^{\\circ}44'$. 在春分或秋分(equinox)点，太阳通过天赤道，所以$\\delta_{\\odot}=0^{\\circ}$.\n",
    "\n",
    "太阳在任意时刻的纬度可以用下面的公式计算\n",
    "$\\delta_{\\odot}=\\arcsin[\\sin(-23.44^{\\circ})\\cdot\\sin(EL)]$\n",
    "其中$EL$是ecliptic longitude (黄道经度，地球在轨道上的位置)。因为地球轨道是椭圆，用圆近似会产生$1^{\\circ}$的误差. 圆近似意味着地球在春分点的位置比夏至日小$90^{\\circ}$。 所以$\\sin(EL)$可以写成$\\sin(90+NDS)=\\cos(NDS)$, 其中$NDS$是12月冬至日之后的天数\n",
    "\n",
    "$\\delta_{\\odot}=-\\arcsin\\left[\\sin\\epsilon_0\\cos\\left(\\frac{360^{\\circ}}{365.24}(N+10)\\right)\\right]$\n",
    "\n",
    "进一步可以将$\\arcsin[\\sin(d)\\cdot\\cos(NDS)$近似为$d\\cdot\\cos(NDS)$， 就得到下面的常用公式：\n",
    "\n",
    "$\\delta_{\\odot}=-23.44^{\\circ}\\cdot\\cos\\left[\\frac{360^{\\circ}}{365.24}\\cdot(N+10)\\right]$\n",
    "\n",
    "其中$N$是一年中距离1月1日的天数, $N=0$是Universal Time (UT) 1月1日午夜。10是1月1日到12月夏至日时间差的一个近似值。\n",
    "\n",
    "计算误差分析：\n",
    "这个公式计算的倾角在9月秋分点时误差为$+1.5^{\\circ}$.\n",
    "1. 正弦函数近似导致$0.26^{\\circ}$的误差\n",
    "2. 选择午夜作为一天的开始时刻\n",
    "\n",
    "\n",
    "更精确的计算方法是不采用上面两个近似，以及采用地球轨道参数估计EL:\n",
    "\n",
    "$\\delta_{\\odot}=-\\arcsin\\left[\\sin\\epsilon_0\\cos\\left(\\frac{360^{\\circ}}{365.24}(N+10)+\\frac{360^{\\circ}}{\\pi}\\cdot 0.0167\\sin\\left(\\frac{360^{\\circ}}{365.24}(N-2)\\right)\\right)\\right]$\n",
    "\n",
    "$N$是距离1月1日午夜的天数，$(N-2)$中的2是1月1日到地球近日点之间相差的天数的近似值. 0.0167是地球轨道的椭率，它变化很缓慢，可视为常数。这个公式的最大误差是$\\pm0.2^{\\circ}$, 如果可以把$(N+10)$中的10调整为夏至日到$N=0$的更准确的值，其误差可以小于$\\pm0.03^{\\circ}$."
   ]
  },
  {
   "cell_type": "code",
   "execution_count": 12,
   "id": "f6205da9-e8f6-4750-89ab-7f9e24b6ee36",
   "metadata": {},
   "outputs": [
    {
     "name": "stdout",
     "output_type": "stream",
     "text": [
      "declination = -0.53 deg\n",
      "declination = -0.83 deg\n",
      "declination = 23.44 deg\n",
      "declination = -23.44 deg\n"
     ]
    }
   ],
   "source": [
    "import numpy as np\n",
    "\n",
    "N = np.array([80,266,172,355]) # day of 1st solstice\n",
    "\n",
    "omega = 360/365.24 # angular velocity in rad/day\n",
    "\n",
    "ecl = 23.44 # obliquity of the ecliptic\n",
    "\n",
    "# approximate expression for declination of the Sun\n",
    "\n",
    "delta = -ecl*np.cos(np.radians(omega)*(N+10))\n",
    "for each in delta:\n",
    "    print(\"declination = {:.2f} deg\".format(each))"
   ]
  },
  {
   "cell_type": "code",
   "execution_count": 2,
   "id": "128bb29d",
   "metadata": {},
   "outputs": [
    {
     "name": "stdout",
     "output_type": "stream",
     "text": [
      "declination = 23.43 deg\n"
     ]
    }
   ],
   "source": [
    "import numpy as np\n",
    "\n",
    "N = 171 # day of 1st solstice\n",
    "\n",
    "omega = 2*np.pi/365.24 # angular velocity in rad/day\n",
    "\n",
    "ecl = np.radians(23.44) # obliquity of the ecliptic\n",
    "\n",
    "# approximate expression for declination of the Sun\n",
    "\n",
    "delta = -np.arcsin(np.sin(ecl)*np.cos(omega*(N+10)))\n",
    "\n",
    "print(\"declination = {:.2f} deg\".format(np.degrees(delta)))"
   ]
  },
  {
   "cell_type": "markdown",
   "id": "0b59188c-beac-4b83-bf37-d7ce17362409",
   "metadata": {},
   "source": [
    "### 2.1.2 日周弧的定义\n",
    "Diurnal Arc指的是在天文学中，某一个天体（如恒星、太阳或其他天体）在天球上相对于观测者的地平线，由升起到落下所经过的视路径。根据观测者所在地点的纬度以及观测对象在天球上的赤纬，日周弧的长度和形状会有所不同。日周弧越大，意味着天体在地平线上方可见的时间越长。"
   ]
  },
  {
   "cell_type": "markdown",
   "id": "c696ce58-bbb0-4502-b61f-06f95e8287eb",
   "metadata": {},
   "source": [
    "<img src=\"DiurnalArc.png\" width=400>\n",
    "展示了一个恒星在天球上的日弧（粗红圈）在水平坐标系中围绕观测者（纬度φ）的运动。由于赤道平面相对于水平平面倾斜的角度是90° - φ，恒星在子午线的最高点（上中天）的高度$a_{\\rm max}$由$a_{\\rm max}$ = 90° - φ + δ给出，其中δ是恒星的赤纬。在与地球自转同步的坐标系中，恒星在小时角hrise时刻升起，当它穿过子午线时（h = 0）达到最高高度，然后在小时角$h_{\\rm set} = -h_{\\rm rise}$时刻在地平线上落下。"
   ]
  },
  {
   "cell_type": "markdown",
   "id": "fec43466-e44e-4da1-aa08-c368c0acf922",
   "metadata": {},
   "source": [
    "#### 日周弧的计算公式\n",
    "$$\\cos h_{\\rm set} = -\\tan\\delta\\tan\\phi$$\n",
    "其中$\\delta$是天体的赤纬，$\\phi$是观测地点的纬度。\n",
    "\n",
    "上述公式基于天体赤纬和观测地点的纬度之间的关系来计算日周弧的长度或角度。该公式可用于天文学中描述不同地点、不同天体的日周运动，具有一定的实用性和理论意义。"
   ]
  },
  {
   "cell_type": "code",
   "execution_count": 28,
   "id": "88a61c69-249e-472b-a0af-21115c3d18cc",
   "metadata": {},
   "outputs": [
    {
     "name": "stdout",
     "output_type": "stream",
     "text": [
      "<SkyCoord (ICRS): (ra, dec) in deg\n",
      "    (88.79293899, 7.40706399)>\n"
     ]
    }
   ],
   "source": [
    "import astropy\n",
    "from astropy.coordinates import SkyCoord,EarthLocation\n",
    "#获得天体Betelgeuse的信息\n",
    "betelgeuse =SkyCoord .from_name('Betelgeuse')\n",
    "print(betelgeuse)"
   ]
  },
  {
   "cell_type": "code",
   "execution_count": 29,
   "id": "a50b34ea-f51e-4b4f-9853-c9ce92c98405",
   "metadata": {},
   "outputs": [
    {
     "data": {
      "text/latex": [
       "$7^\\circ24{}^\\prime25.430382{}^{\\prime\\prime}$"
      ],
      "text/plain": [
       "<Latitude 7.40706399 deg>"
      ]
     },
     "execution_count": 29,
     "metadata": {},
     "output_type": "execute_result"
    }
   ],
   "source": [
    "betelgeuse.dec"
   ]
  },
  {
   "cell_type": "code",
   "execution_count": 30,
   "id": "a8fd7470-3710-42af-b088-ebf0af88d0cb",
   "metadata": {},
   "outputs": [],
   "source": [
    "import astropy.units as u \n",
    "# geographical position of the observer 观察者的地理纬度\n",
    "obs = EarthLocation(lat=53*u.deg+28*u.arcmin+49*u.arcsec, lon=10*u.deg+14*u.arcmin+23*u.arcsec) #Hamburg Observatory\n",
    "# get latitude \n",
    "phi = obs.lat"
   ]
  },
  {
   "cell_type": "markdown",
   "id": "6cf346da-162a-47a4-8e97-f2f6cbd52a8b",
   "metadata": {},
   "source": [
    "计算$h$"
   ]
  },
  {
   "cell_type": "code",
   "execution_count": 31,
   "id": "b8dc8c6c-8240-4311-b5c9-c3df2e7130b2",
   "metadata": {},
   "outputs": [],
   "source": [
    "import math \n",
    "delta = betelgeuse.dec\n",
    "#计算的时候角度要转化成弧度\n",
    "h = math.acos(-math.tan(delta.radian)*math.tan(phi.radian))"
   ]
  },
  {
   "cell_type": "markdown",
   "id": "b8144978-ee82-423a-b247-0b46798e0605",
   "metadata": {},
   "source": [
    "为获得天体的日周弧$T$, 需要注意的是sidereal day和solar day的区别：\n",
    "1. sidereal day (恒星日): 指地球自转一周，使得同一颗遥远的恒星连续两次经过当地子午面（即从地平线升起到再次出现在子午线上）的时间间隔。这个时间周期大约是23小时56分4秒。恒星日是以恒星为参考系，是地球自转360度的周期。\n",
    "2. solar day (太阳日): 也就是我们通常所说的一天，它是太阳连续两次经过同一地点子午面的时间间隔，大约是24小时。太阳日比恒星日长，这是因为地球在自转的同时还在绕太阳公转，所以太阳相对于地球的位置每天会稍微前移一点，导致太阳日比恒星日长大约4分钟.\n",
    "\n",
    "可以用astropy.units模块进行二者的转换"
   ]
  },
  {
   "cell_type": "code",
   "execution_count": 32,
   "id": "a24352bd-49f7-4d5a-a9ac-60903af44e6b",
   "metadata": {},
   "outputs": [
    {
     "name": "stdout",
     "output_type": "stream",
     "text": [
      "T = 13.31 h\n"
     ]
    }
   ],
   "source": [
    "T =(math.degrees(2*h)/360)*u.sday #u.sday 恒星日\n",
    "print(\"T = {:.2f}\".format(T.to(u.h))) #u.h, 太阳时"
   ]
  },
  {
   "cell_type": "markdown",
   "id": "26b5289c-11d2-435a-b802-8418ade62905",
   "metadata": {},
   "source": [
    "### 2.1.3 Observation of Celestial Objects"
   ]
  },
  {
   "cell_type": "code",
   "execution_count": null,
   "id": "44ec3c89-653e-4284-8dd9-eae7c6bc4c98",
   "metadata": {},
   "outputs": [],
   "source": []
  },
  {
   "cell_type": "markdown",
   "id": "72ac7e4b-71c8-4c69-840e-14d411312e43",
   "metadata": {},
   "source": [
    "### 练习2.1 计算太阳的纬度\n",
    "\n",
    "太阳的纬度$\\delta_{\\odot}$可以用如下公式近似计算\n",
    "\n",
    "$\\delta_{\\odot}=-23.44^{\\circ}\\cdot\\cos\\left[\\frac{360^{\\circ}}{365.24}\\cdot(N+10)\\right]$\n",
    "\n",
    "其中$N$是一年中距离1月1日的天数, $N=0$是Universal Time (UT) 1月1日午夜。10是1月1日到12月夏至日时间差的一个近似值。\n",
    "\n",
    "使用math模块中的三角函数，注意角度和弧度的转换. \n",
    "分别用for循环和Numpy数组矢量运算计算春分、秋分和夏至、冬至时太阳的赤纬。打印结果，并检查它们的值是否一致。"
   ]
  },
  {
   "cell_type": "markdown",
   "id": "d800c64e-8860-443b-8d35-e6bd597c7cc8",
   "metadata": {},
   "source": [
    "### 行星运动的开普勒第三定律\n",
    "\n",
    "按照开普勒第三定律，行星运动的周期$P$和其绕中心恒星运动的椭圆轨道的半长轴$a$有如下关系：\n",
    "\n",
    "$$P^2 = \\frac{4\\pi^2}{G(M+m)}a^3$$\n",
    "\n",
    "其中$a$是轨道的半长轴，$G$是引力常数，$M$是恒星的质量，$m$是行星的质量。\n",
    "从\n",
    "https://nssdc.gsfc.nasa.gov/planetary/factsheet/\n",
    "查出太阳系内八大行星的质量, 并用上面的公式计算周期。并将周期$P$和轨道半长轴$a$的关系画在一个双对数坐标上，此时，二者关系应该是一条直线。\n",
    "\n",
    "提示："
   ]
  },
  {
   "cell_type": "code",
   "execution_count": 27,
   "id": "b7414237-a55c-4815-a43b-928dd3e8c9bc",
   "metadata": {
    "scrolled": true
   },
   "outputs": [
    {
     "name": "stdout",
     "output_type": "stream",
     "text": [
      "70.95038502035464\n",
      "69.46818520769537\n",
      "52.10593073970458\n",
      "95.7802563594277\n",
      "66.26066477594483\n",
      "21.839066099214605\n",
      "68.1797817071447\n",
      "72.08317327682049\n",
      "{'Mercury': 581.6841439043584, 'Venus': 429.65704386437534, 'Earth': 265.88697281752434, 'Mars': 890.6795945975618, 'Jupiter': 30.199923808767537, 'saturn': 10.402671363366776, 'Uranus': 142.95484568843224, 'Neptune': 143.8112558231431}\n"
     ]
    },
    {
     "data": {
      "image/png": "[encoded data removed]",
      "text/plain": [
       "<Figure size 800x600 with 1 Axes>"
      ]
     },
     "metadata": {},
     "output_type": "display_data"
    }
   ],
   "source": [
    "import numpy as np, matplotlib.pyplot as plt\n",
    "#太阳系内八大行星的质量数据（以地球质量为单位）\n",
    "planet_masses = {\n",
    "'Mercury': 0.055,\n",
    "'Venus': 0.815,\n",
    "'Earth': 1.0,\n",
    "'Mars': 0.107,\n",
    "'Jupiter': 317.8,\n",
    "'saturn': 95.2,\n",
    "'Uranus': 14.5,\n",
    "'Neptune': 17.1\n",
    "}\n",
    "\n",
    "#引力常数 G，单位：天文单位^3／地球质量／天^2\n",
    "G = 39.5\n",
    "#计算每个行星的周期P（以地球年为单位）\n",
    "periods = {}\n",
    "for planet, mass in planet_masses.items():\n",
    "    a = np.random.uniform(0.1,100) # 随机生成轨道半长轴a的值（模拟数据）\n",
    "    print(a)\n",
    "    P = np.sqrt((4 * np.pi**2 * a**3)/(G * (1 + mass))) # 计算周期p\n",
    "    periods[planet] = P\n",
    "\n",
    "print(periods)\n",
    "#绘制周期P和轨道半长轴a的关系图（双对数坐标）\n",
    "plt.figure(figsize=(8, 6))\n",
    "for planet, P in periods.items():\n",
    "    plt.scatter(np.log10(P), np.log10(a), label=planet)\n",
    "plt.xlabel('log P (Earth years)')\n",
    "plt.ylabel('log a (A)')\n",
    "plt.title('Period-Orbit Semi-Major Axis Relationship for Solar System Planets')\n",
    "plt.legend()\n",
    "plt.grid(True)\n",
    "plt.show()"
   ]
  },
  {
   "cell_type": "markdown",
   "id": "bdbfb709-9848-4df7-a2f5-da2b6d45616e",
   "metadata": {},
   "source": [
    "从网上直接复制原始数据"
   ]
  },
  {
   "cell_type": "code",
   "execution_count": 65,
   "id": "7d9aea39-c495-4fa0-b7bb-6deb16823e4a",
   "metadata": {},
   "outputs": [],
   "source": [
    "#data from https://nssdc.gsfc.nasa.gov/planetary/factsheet/\n",
    "p_ori = \"MERCURY \t VENUS \t EARTH  \t MARS \t JUPITER \t SATURN \t URANUS \t NEPTUNE\" \n",
    "M_ori =\"0.330\t4.87\t5.97\t\t0.642\t1898\t568\t86.8\t102\"  #10^{24} kg\n",
    "a_ori = \"57.9\t108.2\t149.6\t\t228.0\t778.5\t1432.0\t2867.0\t4515.0\"  #10^6 km"
   ]
  },
  {
   "cell_type": "markdown",
   "id": "6baa8454-a877-45cb-ae59-90d7c4c2b721",
   "metadata": {},
   "source": [
    "将原始数据转成需要的格式"
   ]
  },
  {
   "cell_type": "code",
   "execution_count": 67,
   "id": "266ee6e4-e1b0-4436-80b0-0ade5891740f",
   "metadata": {},
   "outputs": [],
   "source": [
    "planet = p_ori.split()\n",
    "mass = np.array([float(m)*1e24 for m in M_ori.split()])\n",
    "a = np.array([float(each)*1e9 for each in a_ori.split()])"
   ]
  },
  {
   "cell_type": "markdown",
   "id": "40ca4a4f-1fe6-42b6-b640-bd9807f98e5e",
   "metadata": {},
   "source": [
    "按照开普勒第三定律的公式，\n",
    "\n",
    "$P^2=\\frac{4\\pi^2}{G(M+m)}a^3$\n",
    "\n",
    "我们现在已经用了$a$和$m$, 还需要万有引力常数$G$和太阳质量$M$, 这两个数值可以直接从网上查出赋值，也可以从库里找到"
   ]
  },
  {
   "cell_type": "code",
   "execution_count": 29,
   "id": "15f502cb-9330-476c-a7fc-5b91aa62be1d",
   "metadata": {},
   "outputs": [],
   "source": [
    "from astropy.constants import G, M_sun, au #万有引力常数(m^3/kg/s^2)，太阳质量(kg)，天文单位(m)"
   ]
  },
  {
   "cell_type": "code",
   "execution_count": 68,
   "id": "30dc9eb8-f689-4c86-8599-114065a65c48",
   "metadata": {},
   "outputs": [
    {
     "name": "stdout",
     "output_type": "stream",
     "text": [
      "6.6743e-11 1.988409870698051e+30\n"
     ]
    }
   ],
   "source": [
    "print(G.value,M_sun.value)"
   ]
  },
  {
   "cell_type": "code",
   "execution_count": 76,
   "id": "8ebbcb7c-4f6f-45ca-8563-af14c28a53bd",
   "metadata": {},
   "outputs": [],
   "source": [
    "P = np.sqrt(4*np.pi**2/G.value/(M_sun.value+mass)*a**3)"
   ]
  },
  {
   "cell_type": "code",
   "execution_count": 82,
   "id": "dda29036-dcc7-4aff-ae9c-4b86e7d25476",
   "metadata": {},
   "outputs": [
    {
     "data": {
      "image/png": "[encoded data removed]",
      "text/plain": [
       "<Figure size 640x480 with 1 Axes>"
      ]
     },
     "metadata": {},
     "output_type": "display_data"
    }
   ],
   "source": [
    "import astropy.units as u\n",
    "#画图的时候半长轴取AU为单位，周期取恒星日为单位\n",
    "plt.loglog(a*u.meter.to(u.au),P*u.second.to(u.year),'ro')\n",
    "plt.xlabel('Semi-Major Axis (AU)')\n",
    "plt.ylabel('Period (Year)')\n",
    "plt.grid()"
   ]
  },
  {
   "cell_type": "code",
   "execution_count": 93,
   "id": "972d6793-6f7e-4fe5-b34f-a0d60bd5cd88",
   "metadata": {},
   "outputs": [
    {
     "data": {
      "text/html": [
       "<div>\n",
       "<style scoped>\n",
       "    .dataframe tbody tr th:only-of-type {\n",
       "        vertical-align: middle;\n",
       "    }\n",
       "\n",
       "    .dataframe tbody tr th {\n",
       "        vertical-align: top;\n",
       "    }\n",
       "\n",
       "    .dataframe thead th {\n",
       "        text-align: right;\n",
       "    }\n",
       "</style>\n",
       "<table border=\"1\" class=\"dataframe\">\n",
       "  <thead>\n",
       "    <tr style=\"text-align: right;\">\n",
       "      <th></th>\n",
       "      <th>MERCURY</th>\n",
       "      <th>VENUS</th>\n",
       "      <th>EARTH</th>\n",
       "      <th>MOON</th>\n",
       "      <th>MARS</th>\n",
       "      <th>JUPITER</th>\n",
       "      <th>SATURN</th>\n",
       "      <th>URANUS</th>\n",
       "      <th>NEPTUNE</th>\n",
       "      <th>PLUTO</th>\n",
       "    </tr>\n",
       "  </thead>\n",
       "  <tbody>\n",
       "    <tr>\n",
       "      <th>Mass (1024kg)</th>\n",
       "      <td>0.330</td>\n",
       "      <td>4.870</td>\n",
       "      <td>5.970</td>\n",
       "      <td>0.073</td>\n",
       "      <td>0.642</td>\n",
       "      <td>1898</td>\n",
       "      <td>568</td>\n",
       "      <td>86.8</td>\n",
       "      <td>102</td>\n",
       "      <td>0.01300</td>\n",
       "    </tr>\n",
       "    <tr>\n",
       "      <th>Diameter (km)</th>\n",
       "      <td>4879.000</td>\n",
       "      <td>12104.000</td>\n",
       "      <td>12756.000</td>\n",
       "      <td>3475</td>\n",
       "      <td>6792.000</td>\n",
       "      <td>142984</td>\n",
       "      <td>120536</td>\n",
       "      <td>51118</td>\n",
       "      <td>49528</td>\n",
       "      <td>2376.00000</td>\n",
       "    </tr>\n",
       "    <tr>\n",
       "      <th>Density (kg/m3)</th>\n",
       "      <td>5429.000</td>\n",
       "      <td>5243.000</td>\n",
       "      <td>5514.000</td>\n",
       "      <td>3340</td>\n",
       "      <td>3934.000</td>\n",
       "      <td>1326</td>\n",
       "      <td>687</td>\n",
       "      <td>1270</td>\n",
       "      <td>1638</td>\n",
       "      <td>1850.00000</td>\n",
       "    </tr>\n",
       "    <tr>\n",
       "      <th>Gravity (m/s2)</th>\n",
       "      <td>3.700</td>\n",
       "      <td>8.900</td>\n",
       "      <td>9.800</td>\n",
       "      <td>1.6</td>\n",
       "      <td>3.700</td>\n",
       "      <td>23.1</td>\n",
       "      <td>9.0</td>\n",
       "      <td>8.7</td>\n",
       "      <td>11.0</td>\n",
       "      <td>0.70000</td>\n",
       "    </tr>\n",
       "    <tr>\n",
       "      <th>Escape Velocity (km/s)</th>\n",
       "      <td>4.300</td>\n",
       "      <td>10.400</td>\n",
       "      <td>11.200</td>\n",
       "      <td>2.4</td>\n",
       "      <td>5.000</td>\n",
       "      <td>59.5</td>\n",
       "      <td>35.5</td>\n",
       "      <td>21.3</td>\n",
       "      <td>23.5</td>\n",
       "      <td>1.30000</td>\n",
       "    </tr>\n",
       "    <tr>\n",
       "      <th>Rotation Period (hours)</th>\n",
       "      <td>1407.600</td>\n",
       "      <td>-5832.500</td>\n",
       "      <td>23.900</td>\n",
       "      <td>655.7</td>\n",
       "      <td>24.600</td>\n",
       "      <td>9.9</td>\n",
       "      <td>10.7</td>\n",
       "      <td>-17.2</td>\n",
       "      <td>16.1</td>\n",
       "      <td>-153.30000</td>\n",
       "    </tr>\n",
       "    <tr>\n",
       "      <th>Length of Day (hours)</th>\n",
       "      <td>4222.600</td>\n",
       "      <td>2802.000</td>\n",
       "      <td>24.000</td>\n",
       "      <td>708.7</td>\n",
       "      <td>24.700</td>\n",
       "      <td>9.9</td>\n",
       "      <td>10.7</td>\n",
       "      <td>17.2</td>\n",
       "      <td>16.1</td>\n",
       "      <td>153.30000</td>\n",
       "    </tr>\n",
       "    <tr>\n",
       "      <th>Distance from Sun (106 km)</th>\n",
       "      <td>57.900</td>\n",
       "      <td>108.200</td>\n",
       "      <td>149.600</td>\n",
       "      <td>0.384*</td>\n",
       "      <td>228.000</td>\n",
       "      <td>778.5</td>\n",
       "      <td>1432.0</td>\n",
       "      <td>2867.0</td>\n",
       "      <td>4515.0</td>\n",
       "      <td>5906.40000</td>\n",
       "    </tr>\n",
       "    <tr>\n",
       "      <th>Perihelion (106 km)</th>\n",
       "      <td>46.000</td>\n",
       "      <td>107.500</td>\n",
       "      <td>147.100</td>\n",
       "      <td>0.363*</td>\n",
       "      <td>206.700</td>\n",
       "      <td>740.6</td>\n",
       "      <td>1357.6</td>\n",
       "      <td>2732.7</td>\n",
       "      <td>4471.1</td>\n",
       "      <td>4436.80000</td>\n",
       "    </tr>\n",
       "    <tr>\n",
       "      <th>Aphelion (106 km)</th>\n",
       "      <td>69.800</td>\n",
       "      <td>108.900</td>\n",
       "      <td>152.100</td>\n",
       "      <td>0.406*</td>\n",
       "      <td>249.300</td>\n",
       "      <td>816.4</td>\n",
       "      <td>1506.5</td>\n",
       "      <td>3001.4</td>\n",
       "      <td>4558.9</td>\n",
       "      <td>7375.90000</td>\n",
       "    </tr>\n",
       "    <tr>\n",
       "      <th>Orbital Period (days)</th>\n",
       "      <td>88.000</td>\n",
       "      <td>224.700</td>\n",
       "      <td>365.200</td>\n",
       "      <td>27.3*</td>\n",
       "      <td>687.000</td>\n",
       "      <td>4331</td>\n",
       "      <td>10747</td>\n",
       "      <td>30589</td>\n",
       "      <td>59800</td>\n",
       "      <td>90560.00000</td>\n",
       "    </tr>\n",
       "    <tr>\n",
       "      <th>Orbital Velocity (km/s)</th>\n",
       "      <td>47.400</td>\n",
       "      <td>35.000</td>\n",
       "      <td>29.800</td>\n",
       "      <td>1.0*</td>\n",
       "      <td>24.100</td>\n",
       "      <td>13.1</td>\n",
       "      <td>9.7</td>\n",
       "      <td>6.8</td>\n",
       "      <td>5.4</td>\n",
       "      <td>4.70000</td>\n",
       "    </tr>\n",
       "    <tr>\n",
       "      <th>Orbital Inclination (degrees)</th>\n",
       "      <td>7.000</td>\n",
       "      <td>3.400</td>\n",
       "      <td>0.000</td>\n",
       "      <td>5.1</td>\n",
       "      <td>1.800</td>\n",
       "      <td>1.3</td>\n",
       "      <td>2.5</td>\n",
       "      <td>0.8</td>\n",
       "      <td>1.8</td>\n",
       "      <td>17.20000</td>\n",
       "    </tr>\n",
       "    <tr>\n",
       "      <th>Orbital Eccentricity</th>\n",
       "      <td>0.206</td>\n",
       "      <td>0.007</td>\n",
       "      <td>0.017</td>\n",
       "      <td>0.055</td>\n",
       "      <td>0.094</td>\n",
       "      <td>0.049</td>\n",
       "      <td>0.052</td>\n",
       "      <td>0.047</td>\n",
       "      <td>0.010</td>\n",
       "      <td>0.24400</td>\n",
       "    </tr>\n",
       "    <tr>\n",
       "      <th>Obliquity to Orbit (degrees)</th>\n",
       "      <td>0.034</td>\n",
       "      <td>177.400</td>\n",
       "      <td>23.400</td>\n",
       "      <td>6.7</td>\n",
       "      <td>25.200</td>\n",
       "      <td>3.1</td>\n",
       "      <td>26.7</td>\n",
       "      <td>97.8</td>\n",
       "      <td>28.3</td>\n",
       "      <td>119.50000</td>\n",
       "    </tr>\n",
       "    <tr>\n",
       "      <th>Mean Temperature (C)</th>\n",
       "      <td>167.000</td>\n",
       "      <td>464.000</td>\n",
       "      <td>15.000</td>\n",
       "      <td>-20</td>\n",
       "      <td>-65.000</td>\n",
       "      <td>-110</td>\n",
       "      <td>-140</td>\n",
       "      <td>-195</td>\n",
       "      <td>-200</td>\n",
       "      <td>-225.00000</td>\n",
       "    </tr>\n",
       "    <tr>\n",
       "      <th>Surface Pressure (bars)</th>\n",
       "      <td>0.000</td>\n",
       "      <td>92.000</td>\n",
       "      <td>1.000</td>\n",
       "      <td>0</td>\n",
       "      <td>0.010</td>\n",
       "      <td>Unknown*</td>\n",
       "      <td>Unknown*</td>\n",
       "      <td>Unknown*</td>\n",
       "      <td>Unknown*</td>\n",
       "      <td>0.00001</td>\n",
       "    </tr>\n",
       "    <tr>\n",
       "      <th>Number of Moons</th>\n",
       "      <td>0.000</td>\n",
       "      <td>0.000</td>\n",
       "      <td>1.000</td>\n",
       "      <td>0</td>\n",
       "      <td>2.000</td>\n",
       "      <td>92</td>\n",
       "      <td>83</td>\n",
       "      <td>28</td>\n",
       "      <td>16</td>\n",
       "      <td>5.00000</td>\n",
       "    </tr>\n",
       "  </tbody>\n",
       "</table>\n",
       "</div>"
      ],
      "text/plain": [
       "                                MERCURY      VENUS      EARTH    MOON  \\\n",
       "Mass (1024kg)                     0.330      4.870      5.970   0.073   \n",
       "Diameter (km)                  4879.000  12104.000  12756.000    3475   \n",
       "Density (kg/m3)                5429.000   5243.000   5514.000    3340   \n",
       "Gravity (m/s2)                    3.700      8.900      9.800     1.6   \n",
       "Escape Velocity (km/s)            4.300     10.400     11.200     2.4   \n",
       "Rotation Period (hours)        1407.600  -5832.500     23.900   655.7   \n",
       "Length of Day (hours)          4222.600   2802.000     24.000   708.7   \n",
       "Distance from Sun (106 km)       57.900    108.200    149.600  0.384*   \n",
       "Perihelion (106 km)              46.000    107.500    147.100  0.363*   \n",
       "Aphelion (106 km)                69.800    108.900    152.100  0.406*   \n",
       "Orbital Period (days)            88.000    224.700    365.200   27.3*   \n",
       "Orbital Velocity (km/s)          47.400     35.000     29.800    1.0*   \n",
       "Orbital Inclination (degrees)     7.000      3.400      0.000     5.1   \n",
       "Orbital Eccentricity              0.206      0.007      0.017   0.055   \n",
       "Obliquity to Orbit (degrees)      0.034    177.400     23.400     6.7   \n",
       "Mean Temperature (C)            167.000    464.000     15.000     -20   \n",
       "Surface Pressure (bars)           0.000     92.000      1.000       0   \n",
       "Number of Moons                   0.000      0.000      1.000       0   \n",
       "\n",
       "                                   MARS   JUPITER    SATURN    URANUS  \\\n",
       "Mass (1024kg)                     0.642      1898       568      86.8   \n",
       "Diameter (km)                  6792.000    142984    120536     51118   \n",
       "Density (kg/m3)                3934.000      1326       687      1270   \n",
       "Gravity (m/s2)                    3.700      23.1       9.0       8.7   \n",
       "Escape Velocity (km/s)            5.000      59.5      35.5      21.3   \n",
       "Rotation Period (hours)          24.600       9.9      10.7     -17.2   \n",
       "Length of Day (hours)            24.700       9.9      10.7      17.2   \n",
       "Distance from Sun (106 km)      228.000     778.5    1432.0    2867.0   \n",
       "Perihelion (106 km)             206.700     740.6    1357.6    2732.7   \n",
       "Aphelion (106 km)               249.300     816.4    1506.5    3001.4   \n",
       "Orbital Period (days)           687.000      4331     10747     30589   \n",
       "Orbital Velocity (km/s)          24.100      13.1       9.7       6.8   \n",
       "Orbital Inclination (degrees)     1.800       1.3       2.5       0.8   \n",
       "Orbital Eccentricity              0.094     0.049     0.052     0.047   \n",
       "Obliquity to Orbit (degrees)     25.200       3.1      26.7      97.8   \n",
       "Mean Temperature (C)            -65.000      -110      -140      -195   \n",
       "Surface Pressure (bars)           0.010  Unknown*  Unknown*  Unknown*   \n",
       "Number of Moons                   2.000        92        83        28   \n",
       "\n",
       "                                NEPTUNE        PLUTO  \n",
       "Mass (1024kg)                       102      0.01300  \n",
       "Diameter (km)                     49528   2376.00000  \n",
       "Density (kg/m3)                    1638   1850.00000  \n",
       "Gravity (m/s2)                     11.0      0.70000  \n",
       "Escape Velocity (km/s)             23.5      1.30000  \n",
       "Rotation Period (hours)            16.1   -153.30000  \n",
       "Length of Day (hours)              16.1    153.30000  \n",
       "Distance from Sun (106 km)       4515.0   5906.40000  \n",
       "Perihelion (106 km)              4471.1   4436.80000  \n",
       "Aphelion (106 km)                4558.9   7375.90000  \n",
       "Orbital Period (days)             59800  90560.00000  \n",
       "Orbital Velocity (km/s)             5.4      4.70000  \n",
       "Orbital Inclination (degrees)       1.8     17.20000  \n",
       "Orbital Eccentricity              0.010      0.24400  \n",
       "Obliquity to Orbit (degrees)       28.3    119.50000  \n",
       "Mean Temperature (C)               -200   -225.00000  \n",
       "Surface Pressure (bars)        Unknown*      0.00001  \n",
       "Number of Moons                      16      5.00000  "
      ]
     },
     "execution_count": 93,
     "metadata": {},
     "output_type": "execute_result"
    }
   ],
   "source": [
    "import pandas as pd\n",
    "\n",
    "# The data is stored in multiple tables on the webpage. Let's fetch all of them.\n",
    "tables = pd.read_html(\"https://nssdc.gsfc.nasa.gov/planetary/factsheet\",header=0,index_col=0, skiprows=[19,20,21])\n",
    "tables[0]"
   ]
  },
  {
   "cell_type": "code",
   "execution_count": 94,
   "id": "1c32d27a-38a9-4703-94ea-3e4f29430e12",
   "metadata": {},
   "outputs": [],
   "source": [
    "info = tables[0]"
   ]
  },
  {
   "cell_type": "code",
   "execution_count": 121,
   "id": "3432d894-aae8-46aa-8b3f-e4a9314738b6",
   "metadata": {},
   "outputs": [
    {
     "data": {
      "text/html": [
       "<div>\n",
       "<style scoped>\n",
       "    .dataframe tbody tr th:only-of-type {\n",
       "        vertical-align: middle;\n",
       "    }\n",
       "\n",
       "    .dataframe tbody tr th {\n",
       "        vertical-align: top;\n",
       "    }\n",
       "\n",
       "    .dataframe thead th {\n",
       "        text-align: right;\n",
       "    }\n",
       "</style>\n",
       "<table border=\"1\" class=\"dataframe\">\n",
       "  <thead>\n",
       "    <tr style=\"text-align: right;\">\n",
       "      <th></th>\n",
       "      <th>Mass (1024kg)</th>\n",
       "      <th>Diameter (km)</th>\n",
       "      <th>Density (kg/m3)</th>\n",
       "      <th>Gravity (m/s2)</th>\n",
       "      <th>Escape Velocity (km/s)</th>\n",
       "      <th>Rotation Period (hours)</th>\n",
       "      <th>Length of Day (hours)</th>\n",
       "      <th>Distance from Sun (106 km)</th>\n",
       "      <th>Perihelion (106 km)</th>\n",
       "      <th>Aphelion (106 km)</th>\n",
       "      <th>Orbital Period (days)</th>\n",
       "      <th>Orbital Velocity (km/s)</th>\n",
       "      <th>Orbital Inclination (degrees)</th>\n",
       "      <th>Orbital Eccentricity</th>\n",
       "      <th>Obliquity to Orbit (degrees)</th>\n",
       "      <th>Mean Temperature (C)</th>\n",
       "      <th>Surface Pressure (bars)</th>\n",
       "      <th>Number of Moons</th>\n",
       "    </tr>\n",
       "  </thead>\n",
       "  <tbody>\n",
       "    <tr>\n",
       "      <th>MERCURY</th>\n",
       "      <td>0.33</td>\n",
       "      <td>4879.0</td>\n",
       "      <td>5429.0</td>\n",
       "      <td>3.7</td>\n",
       "      <td>4.3</td>\n",
       "      <td>1407.6</td>\n",
       "      <td>4222.6</td>\n",
       "      <td>57.9</td>\n",
       "      <td>46.0</td>\n",
       "      <td>69.8</td>\n",
       "      <td>88.0</td>\n",
       "      <td>47.4</td>\n",
       "      <td>7.0</td>\n",
       "      <td>0.206</td>\n",
       "      <td>0.034</td>\n",
       "      <td>167.0</td>\n",
       "      <td>0.0</td>\n",
       "      <td>0.0</td>\n",
       "    </tr>\n",
       "    <tr>\n",
       "      <th>VENUS</th>\n",
       "      <td>4.87</td>\n",
       "      <td>12104.0</td>\n",
       "      <td>5243.0</td>\n",
       "      <td>8.9</td>\n",
       "      <td>10.4</td>\n",
       "      <td>-5832.5</td>\n",
       "      <td>2802.0</td>\n",
       "      <td>108.2</td>\n",
       "      <td>107.5</td>\n",
       "      <td>108.9</td>\n",
       "      <td>224.7</td>\n",
       "      <td>35.0</td>\n",
       "      <td>3.4</td>\n",
       "      <td>0.007</td>\n",
       "      <td>177.4</td>\n",
       "      <td>464.0</td>\n",
       "      <td>92.0</td>\n",
       "      <td>0.0</td>\n",
       "    </tr>\n",
       "    <tr>\n",
       "      <th>EARTH</th>\n",
       "      <td>5.97</td>\n",
       "      <td>12756.0</td>\n",
       "      <td>5514.0</td>\n",
       "      <td>9.8</td>\n",
       "      <td>11.2</td>\n",
       "      <td>23.9</td>\n",
       "      <td>24.0</td>\n",
       "      <td>149.6</td>\n",
       "      <td>147.1</td>\n",
       "      <td>152.1</td>\n",
       "      <td>365.2</td>\n",
       "      <td>29.8</td>\n",
       "      <td>0.0</td>\n",
       "      <td>0.017</td>\n",
       "      <td>23.4</td>\n",
       "      <td>15.0</td>\n",
       "      <td>1.0</td>\n",
       "      <td>1.0</td>\n",
       "    </tr>\n",
       "    <tr>\n",
       "      <th>MARS</th>\n",
       "      <td>0.642</td>\n",
       "      <td>6792.0</td>\n",
       "      <td>3934.0</td>\n",
       "      <td>3.7</td>\n",
       "      <td>5.0</td>\n",
       "      <td>24.6</td>\n",
       "      <td>24.7</td>\n",
       "      <td>228.0</td>\n",
       "      <td>206.7</td>\n",
       "      <td>249.3</td>\n",
       "      <td>687.0</td>\n",
       "      <td>24.1</td>\n",
       "      <td>1.8</td>\n",
       "      <td>0.094</td>\n",
       "      <td>25.2</td>\n",
       "      <td>-65.0</td>\n",
       "      <td>0.01</td>\n",
       "      <td>2.0</td>\n",
       "    </tr>\n",
       "    <tr>\n",
       "      <th>JUPITER</th>\n",
       "      <td>1898</td>\n",
       "      <td>142984</td>\n",
       "      <td>1326</td>\n",
       "      <td>23.1</td>\n",
       "      <td>59.5</td>\n",
       "      <td>9.9</td>\n",
       "      <td>9.9</td>\n",
       "      <td>778.5</td>\n",
       "      <td>740.6</td>\n",
       "      <td>816.4</td>\n",
       "      <td>4331</td>\n",
       "      <td>13.1</td>\n",
       "      <td>1.3</td>\n",
       "      <td>0.049</td>\n",
       "      <td>3.1</td>\n",
       "      <td>-110</td>\n",
       "      <td>Unknown*</td>\n",
       "      <td>92</td>\n",
       "    </tr>\n",
       "    <tr>\n",
       "      <th>SATURN</th>\n",
       "      <td>568</td>\n",
       "      <td>120536</td>\n",
       "      <td>687</td>\n",
       "      <td>9.0</td>\n",
       "      <td>35.5</td>\n",
       "      <td>10.7</td>\n",
       "      <td>10.7</td>\n",
       "      <td>1432.0</td>\n",
       "      <td>1357.6</td>\n",
       "      <td>1506.5</td>\n",
       "      <td>10747</td>\n",
       "      <td>9.7</td>\n",
       "      <td>2.5</td>\n",
       "      <td>0.052</td>\n",
       "      <td>26.7</td>\n",
       "      <td>-140</td>\n",
       "      <td>Unknown*</td>\n",
       "      <td>83</td>\n",
       "    </tr>\n",
       "    <tr>\n",
       "      <th>URANUS</th>\n",
       "      <td>86.8</td>\n",
       "      <td>51118</td>\n",
       "      <td>1270</td>\n",
       "      <td>8.7</td>\n",
       "      <td>21.3</td>\n",
       "      <td>-17.2</td>\n",
       "      <td>17.2</td>\n",
       "      <td>2867.0</td>\n",
       "      <td>2732.7</td>\n",
       "      <td>3001.4</td>\n",
       "      <td>30589</td>\n",
       "      <td>6.8</td>\n",
       "      <td>0.8</td>\n",
       "      <td>0.047</td>\n",
       "      <td>97.8</td>\n",
       "      <td>-195</td>\n",
       "      <td>Unknown*</td>\n",
       "      <td>28</td>\n",
       "    </tr>\n",
       "    <tr>\n",
       "      <th>NEPTUNE</th>\n",
       "      <td>102</td>\n",
       "      <td>49528</td>\n",
       "      <td>1638</td>\n",
       "      <td>11.0</td>\n",
       "      <td>23.5</td>\n",
       "      <td>16.1</td>\n",
       "      <td>16.1</td>\n",
       "      <td>4515.0</td>\n",
       "      <td>4471.1</td>\n",
       "      <td>4558.9</td>\n",
       "      <td>59800</td>\n",
       "      <td>5.4</td>\n",
       "      <td>1.8</td>\n",
       "      <td>0.010</td>\n",
       "      <td>28.3</td>\n",
       "      <td>-200</td>\n",
       "      <td>Unknown*</td>\n",
       "      <td>16</td>\n",
       "    </tr>\n",
       "  </tbody>\n",
       "</table>\n",
       "</div>"
      ],
      "text/plain": [
       "        Mass (1024kg) Diameter (km) Density (kg/m3) Gravity (m/s2)  \\\n",
       "MERCURY          0.33        4879.0          5429.0            3.7   \n",
       "VENUS            4.87       12104.0          5243.0            8.9   \n",
       "EARTH            5.97       12756.0          5514.0            9.8   \n",
       "MARS            0.642        6792.0          3934.0            3.7   \n",
       "JUPITER          1898        142984            1326           23.1   \n",
       "SATURN            568        120536             687            9.0   \n",
       "URANUS           86.8         51118            1270            8.7   \n",
       "NEPTUNE           102         49528            1638           11.0   \n",
       "\n",
       "        Escape Velocity (km/s) Rotation Period (hours) Length of Day (hours)  \\\n",
       "MERCURY                    4.3                  1407.6                4222.6   \n",
       "VENUS                     10.4                 -5832.5                2802.0   \n",
       "EARTH                     11.2                    23.9                  24.0   \n",
       "MARS                       5.0                    24.6                  24.7   \n",
       "JUPITER                   59.5                     9.9                   9.9   \n",
       "SATURN                    35.5                    10.7                  10.7   \n",
       "URANUS                    21.3                   -17.2                  17.2   \n",
       "NEPTUNE                   23.5                    16.1                  16.1   \n",
       "\n",
       "        Distance from Sun (106 km) Perihelion (106 km) Aphelion (106 km)  \\\n",
       "MERCURY                       57.9                46.0              69.8   \n",
       "VENUS                        108.2               107.5             108.9   \n",
       "EARTH                        149.6               147.1             152.1   \n",
       "MARS                         228.0               206.7             249.3   \n",
       "JUPITER                      778.5               740.6             816.4   \n",
       "SATURN                      1432.0              1357.6            1506.5   \n",
       "URANUS                      2867.0              2732.7            3001.4   \n",
       "NEPTUNE                     4515.0              4471.1            4558.9   \n",
       "\n",
       "        Orbital Period (days) Orbital Velocity (km/s)  \\\n",
       "MERCURY                  88.0                    47.4   \n",
       "VENUS                   224.7                    35.0   \n",
       "EARTH                   365.2                    29.8   \n",
       "MARS                    687.0                    24.1   \n",
       "JUPITER                  4331                    13.1   \n",
       "SATURN                  10747                     9.7   \n",
       "URANUS                  30589                     6.8   \n",
       "NEPTUNE                 59800                     5.4   \n",
       "\n",
       "        Orbital Inclination (degrees) Orbital Eccentricity  \\\n",
       "MERCURY                           7.0                0.206   \n",
       "VENUS                             3.4                0.007   \n",
       "EARTH                             0.0                0.017   \n",
       "MARS                              1.8                0.094   \n",
       "JUPITER                           1.3                0.049   \n",
       "SATURN                            2.5                0.052   \n",
       "URANUS                            0.8                0.047   \n",
       "NEPTUNE                           1.8                0.010   \n",
       "\n",
       "        Obliquity to Orbit (degrees) Mean Temperature (C)  \\\n",
       "MERCURY                        0.034                167.0   \n",
       "VENUS                          177.4                464.0   \n",
       "EARTH                           23.4                 15.0   \n",
       "MARS                            25.2                -65.0   \n",
       "JUPITER                          3.1                 -110   \n",
       "SATURN                          26.7                 -140   \n",
       "URANUS                          97.8                 -195   \n",
       "NEPTUNE                         28.3                 -200   \n",
       "\n",
       "        Surface Pressure (bars) Number of Moons  \n",
       "MERCURY                     0.0             0.0  \n",
       "VENUS                      92.0             0.0  \n",
       "EARTH                       1.0             1.0  \n",
       "MARS                       0.01             2.0  \n",
       "JUPITER                Unknown*              92  \n",
       "SATURN                 Unknown*              83  \n",
       "URANUS                 Unknown*              28  \n",
       "NEPTUNE                Unknown*              16  "
      ]
     },
     "execution_count": 121,
     "metadata": {},
     "output_type": "execute_result"
    }
   ],
   "source": [
    "planet = info.drop(['MOON','PLUTO'],axis=1).T\n",
    "planet"
   ]
  },
  {
   "cell_type": "code",
   "execution_count": 125,
   "id": "f3df1678-a502-42cc-abcf-37a9f6a0221a",
   "metadata": {},
   "outputs": [
    {
     "data": {
      "text/plain": [
       "(MERCURY       0.330\n",
       " VENUS         4.870\n",
       " EARTH         5.970\n",
       " MARS          0.642\n",
       " JUPITER    1898.000\n",
       " SATURN      568.000\n",
       " URANUS       86.800\n",
       " NEPTUNE     102.000\n",
       " Name: Mass (1024kg), dtype: float64,\n",
       " MERCURY      57.9\n",
       " VENUS       108.2\n",
       " EARTH       149.6\n",
       " MARS        228.0\n",
       " JUPITER     778.5\n",
       " SATURN     1432.0\n",
       " URANUS     2867.0\n",
       " NEPTUNE    4515.0\n",
       " Name: Distance from Sun (106 km), dtype: float64)"
      ]
     },
     "execution_count": 125,
     "metadata": {},
     "output_type": "execute_result"
    }
   ],
   "source": [
    "G = 6.674e-11 #m^3 kg^-1 s^-2\n",
    "M_sun = 1.989e30 #kg. \n",
    "\n",
    "m = planet['Mass (1024kg)'].astype(float)\n",
    "a = planet['Distance from Sun (106 km)'].astype(float)\n",
    "m,a"
   ]
  },
  {
   "cell_type": "code",
   "execution_count": 129,
   "id": "2eacfc0c-2f27-4208-a97f-ff4f5e9db518",
   "metadata": {},
   "outputs": [],
   "source": [
    "P = np.sqrt(4*np.pi**2/G/(M_sun+m)*(a*1e9)**3)"
   ]
  },
  {
   "cell_type": "code",
   "execution_count": 137,
   "id": "746229a0-bd5a-44ca-a253-0312b32488ef",
   "metadata": {},
   "outputs": [
    {
     "data": {
      "text/plain": [
       "[<matplotlib.lines.Line2D at 0x13d135790>]"
      ]
     },
     "execution_count": 137,
     "metadata": {},
     "output_type": "execute_result"
    },
    {
     "data": {
      "image/png": "[encoded data removed]",
      "text/plain": [
       "<Figure size 640x480 with 1 Axes>"
      ]
     },
     "metadata": {},
     "output_type": "display_data"
    }
   ],
   "source": [
    "plt.loglog(a*1e9/au.value,P/86400/365.24,'ro')"
   ]
  },
  {
   "cell_type": "code",
   "execution_count": null,
   "id": "e1087cb2-40a8-4fa1-85e3-2fc498b2372b",
   "metadata": {},
   "outputs": [],
   "source": []
  }
 ],
 "metadata": {
  "kernelspec": {
   "display_name": "Python 3 (ipykernel)",
   "language": "python",
   "name": "python3"
  },
  "language_info": {
   "codemirror_mode": {
    "name": "ipython",
    "version": 3
   },
   "file_extension": ".py",
   "mimetype": "text/x-python",
   "name": "python",
   "nbconvert_exporter": "python",
   "pygments_lexer": "ipython3",
   "version": "3.11.6"
  }
 },
 "nbformat": 4,
 "nbformat_minor": 5
}
