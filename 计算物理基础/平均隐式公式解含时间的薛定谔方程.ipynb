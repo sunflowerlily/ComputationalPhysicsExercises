{
 "cells": [
  {
   "cell_type": "markdown",
   "metadata": {},
   "source": [
    "# 平均隐式公式解含时间的薛定谔方程\n",
    "参考：\n",
    "\n",
    "计算物理基础(彭芳麟)p336-338\n",
    "\n",
    "计算物理学p127（Steven E. Koonin，秦克诚译）"
   ]
  },
  {
   "cell_type": "markdown",
   "metadata": {},
   "source": [
    "一维运动粒子贯穿势垒的薛定谔方程为\n",
    "$$i\\hbar \\frac{\\partial\\varphi}{\\partial t} = -\\frac{\\hbar}{2m}\\nabla^2\\varphi+V\\varphi=H\\varphi$$\n",
    "算符$H=\\big(-\\frac{\\hbar}{2m}\\frac{\\partial^2}{\\partial x^2}+V\\big)$\n",
    "取$\\hbar=1, 2m=1$, 化简方程得\n",
    "$$\\frac{\\partial\\varphi}{\\partial t} = -i\\big(-\\frac{\\partial^2}{\\partial x^2}+V\\big)\\varphi=-iH\\varphi$$"
   ]
  },
  {
   "cell_type": "markdown",
   "metadata": {},
   "source": [
    "利用平均公式求解，得到\n",
    "$$\\varphi_{i,j+1}=\\bigg(\\frac{1-i\\frac{1}{2}H\\Delta t}{1+i\\frac{1}{2}H\\Delta t}\\bigg)\\varphi_{i,j}=\\bigg(\\frac{2}{1+i\\frac{1}{2}H\\Delta t}-1\\bigg)\\varphi_{i,j} = \\frac{2\\varphi_{i,j}}{1+i\\frac{1}{2}H\\Delta t}-\\varphi_{i,j}$$"
   ]
  },
  {
   "cell_type": "markdown",
   "metadata": {},
   "source": [
    "令$$\\chi=\\frac{2\\varphi_{i,j}}{1+i\\frac{1}{2}H\\Delta t}$$\n",
    "上式可化为\n",
    "$$\\varphi_{i,j+1} = \\chi-\\varphi_{i,j}$$\n",
    "且有\n",
    "$$\\big(1+\\frac{i}{2}H\\Delta t\\big)\\chi=2\\varphi_{i,j}$$"
   ]
  },
  {
   "cell_type": "markdown",
   "metadata": {},
   "source": [
    "利用差分格式，有\n",
    "$$H\\chi=\\big(-\\frac{\\partial^2}{\\partial x^2}+V\\big)\\chi =\\frac{1}{h^2}( \\chi_{i+1}-2\\chi_{i}+\\chi_{i}） + V\\chi_{i}$$\n",
    "其中$h$为$x$方向步长"
   ]
  },
  {
   "cell_type": "markdown",
   "metadata": {},
   "source": [
    "则$$(1+i\\frac{1}{2}H\\Delta t)\\chi=2\\varphi_{i,j}$$\n",
    "可以显式地写为\n",
    "$$-\\frac{i\\Delta t}{2h^2}\\chi_{i+1}+\\bigg(1+\\frac{i\\Delta t}{h^2} +\\frac{i\\Delta t}{2}V\\bigg)\\chi_{i}-\\frac{i\\Delta t}{2h^2}\\chi_{i-1}=2\\varphi_{i,j}$$\n",
    "上式除以$-i\\Delta t/2h^2$, 化为\n",
    "$$\\chi_{i+1}+\\bigg(-2+\\frac{2ih^2}{\\Delta t}-h^2V\\bigg)\\chi_i+\\chi_{i-1} = \\frac{4ih^2}{\\Delta t}\\varphi_{i,j}$$"
   ]
  },
  {
   "cell_type": "markdown",
   "metadata": {},
   "source": [
    "构造3对角矩阵\n",
    "$$\\begin{pmatrix}\n",
    "-2+\\frac{2ih^2}{\\Delta t}-h^2V&1&\\ldots&0\\\\\n",
    "1&-2+\\frac{2ih^2}{\\Delta t}-h^2V&\\ldots&0\\\\\n",
    "\\vdots &\\vdots & &\\vdots\\\\\n",
    "0&0&\\ldots&-2+\\frac{2ih^2}{\\Delta t}-h^2V\\\\\n",
    "\\end{pmatrix}$$"
   ]
  },
  {
   "cell_type": "code",
   "execution_count": 1,
   "metadata": {},
   "outputs": [],
   "source": [
    "#%%一维势垒贯穿的薛定谔方程\n",
    "#按照书上p338页的程序写成\n",
    "import numpy as np, matplotlib.pyplot as plt\n",
    "\n",
    "def wavefun(x,x0=40,k0=0.5,d=10):\n",
    "    '''高斯波包函数'''\n",
    "    return np.exp(k0*1j*x)*np.exp(-(x-x0)**2*np.log10(2)/d**2)\n",
    "\n",
    "m = 220 #空间坐标的栅格化点数\n",
    "x = np.arange(m)\n",
    "v = np.zeros(m)  #势函数\n",
    "v[m//2:m//2+3] = 1.0   #构建势垒\n",
    "N = 1040   #时间栅格化点数\n",
    "#%%\n",
    "#下面构建矩阵\\chi_{j+1}+\\bigg(-2+\\frac{2ih^2}{\\Delta t}\\chi_j-h^2v\\bigg)+\\chi_{j-1}\n",
    "#取dt, h = 1\n",
    "A = np.diag(-2+2j-v) + np.diag(np.ones(m-1),1) + np.diag(np.ones(m-1),-1) \n",
    "\n",
    "C = np.zeros((x.size, N), complex)   #chi 矩阵\n",
    "B = np.zeros((x.size, N), complex)   #波函数矩阵\n",
    "\n",
    "B0 = wavefun(x)  #初始波包\n",
    "B[:,0] = B0.T\n",
    "\n",
    "for t in range(N-1):\n",
    "    C[:,t+1] = 4j*np.linalg.solve(A,B[:,t])\n",
    "    B[:,t+1] = C[:,t+1] - B[:,t]\n",
    "\n",
    "#以下动画实现\n",
    "%matplotlib qt5\n",
    "from matplotlib import animation\n",
    "plt.close('all')\n",
    "fig = plt.figure()\n",
    "plt.axis([0, m, 0, 1.0])\n",
    "myline, = plt.plot([],[],'r',lw=2)\n",
    "myline1, = plt.plot(x, v, 'k', lw=3)\n",
    "def animate(i):\n",
    "    myline.set_data(x, np.abs(B[:,i]))\n",
    "    myline1.set_data(x, v)\n",
    "    return myline,myline1\n",
    "\n",
    "anim=animation.FuncAnimation(fig,animate,frames=N, interval=20)"
   ]
  },
  {
   "cell_type": "markdown",
   "metadata": {},
   "source": [
    "平均隐式公式解热传导方程\n",
    "$$\\left\\{\n",
    "\\begin{eqnarray}\n",
    "\\frac{\\partial u}{\\partial t}  \\ \\ & = & \\ \\frac{\\partial^2 u}{\\partial x^2}, \\ \\ & 0\\leq x \\leq 1   \\nonumber \\\\\n",
    "u(t,0) & = & u(t,1)=0 &  \\ \\ \\ \\ \\ \\ \\forall t\\nonumber\\\\\n",
    "u(0,x) & = & 2x   &  \\mathrm{if} \\ \\ x\\leq 0.5 \\nonumber\\\\\n",
    "u(0,x) & = & 2(1-x)  & \\mathrm{if} \\ \\ x> 0.5   \\nonumber\n",
    "\\end{eqnarray}\n",
    "\\right.$$\n",
    "参考http://www.claudiobellei.com/2016/11/10/crank-nicolson/"
   ]
  },
  {
   "cell_type": "markdown",
   "metadata": {},
   "source": [
    "已知：\n",
    "$$u_{i,j+1}=\\bigg(\\frac{1+\\frac{1}{2}L\\Delta t}{1-\\frac{1}{2}L\\Delta t}\\bigg)u_{i,j} = \\frac{2u_{i,j}}{1-\\frac{1}{2}L\\Delta t} - u_{i,j}$$\n",
    "其中$$L = \\frac{a^2}{\\Delta x^2}(u_{i+1,j}-2u_{i,j}+u_{i-1,j})$$\n",
    "\n",
    "令$$\\chi = \\frac{2u_{i,j}}{1-\\frac{1}{2}L\\Delta t}$$, 方程化为$$u_{i,j+1}=\\chi-u_{i,j}$$\n",
    "现在只需求出$\\chi$, 有\n",
    "$$(1-\\frac{1}{2}L\\Delta t)\\chi=2u_{i,j}$$"
   ]
  },
  {
   "cell_type": "markdown",
   "metadata": {},
   "source": [
    "即$$\\chi_i-\\frac{\\Delta t}{2}\\frac{a^2}{\\Delta x^2}(\\chi_{i+1}-2\\chi_{i}+\\chi_{i-1})=2u_{i,j}$$\n",
    "\n",
    "两边同时除以$-\\frac{\\Delta t}{2}\\frac{a^2}{\\Delta x^2}$得到："
   ]
  },
  {
   "cell_type": "markdown",
   "metadata": {},
   "source": [
    "$$\\chi_{i+1}-(2+\\frac{2\\Delta x^2}{a^2\\Delta t})\\chi_i + \\chi_{i-1} = -\\frac{4\\Delta x^2}{a^2\\Delta t}u_{i,j}$$"
   ]
  },
  {
   "cell_type": "code",
   "execution_count": 1,
   "metadata": {},
   "outputs": [
    {
     "name": "stderr",
     "output_type": "stream",
     "text": [
      "Traceback (most recent call last):\n",
      "  File \"C:\\ProgramData\\Anaconda3\\lib\\site-packages\\matplotlib\\cbook\\__init__.py\", line 215, in process\n",
      "    func(*args, **kwargs)\n",
      "  File \"C:\\ProgramData\\Anaconda3\\lib\\site-packages\\matplotlib\\animation.py\", line 1003, in _start\n",
      "    self.event_source.add_callback(self._step)\n",
      "AttributeError: 'NoneType' object has no attribute 'add_callback'\n"
     ]
    }
   ],
   "source": [
    "import numpy as np, matplotlib.pyplot as plt\n",
    "\n",
    "N = 51 #number of grid points\n",
    "dt = 5.e-4 #time step\n",
    "L = 1 #size of grid\n",
    "nsteps = 620 #number of time steps\n",
    "dx = L/(N-1) #grid spacing\n",
    "nplot = 20 #number of timesteps before plotting\n",
    "a2 = 1 #assuming heat diffusion coefficient == 1\n",
    "r = dx**2/a2/dt \n",
    "\n",
    "#initialize grid\n",
    "x = np.linspace(0,1,N)\n",
    "#initial condition\n",
    "u = np.asarray([2*xx if xx<=0.5 else 2*(1-xx) for xx in x])\n",
    "\n",
    "u[0] = 0\n",
    "u[-1] = 0\n",
    "A = np.diag(np.ones(N-2)*(-2-2*r))+np.diag(np.ones(N-3),1) \\\n",
    "   + np.diag(np.ones(N-3),-1) #构造对角矩阵，考虑边界条件，对角矩阵不包括边界条件区域\n",
    "    \n",
    "%matplotlib qt5\n",
    "from matplotlib import animation\n",
    "plt.close('all')\n",
    "fig = plt.figure()\n",
    "plt.axis([0, 1, 0, 1.2])\n",
    "myline, = plt.plot(x,u,'b',lw=2)\n",
    "\n",
    "def animate(i):\n",
    "    c = -4*r*np.linalg.solve(A,u[1:-1])\n",
    "    u[1:-1] = c - u[1:-1] \n",
    "    myline.set_data(x, u)\n",
    "    return myline\n",
    "\n",
    "anim=animation.FuncAnimation(fig,animate,frames=nsteps, interval=20) "
   ]
  },
  {
   "cell_type": "markdown",
   "metadata": {},
   "source": [
    "## 用傅里叶变换方法解偏微分方程\n",
    "参考 http://www.thefouriertransform.com/applications/pde.php\n",
    "参考 https://jakevdp.github.io/blog/2012/09/05/quantum-python/"
   ]
  },
  {
   "cell_type": "markdown",
   "metadata": {},
   "source": [
    "heat flow on a rod is governed by the partial differential equation\n",
    "$$\\frac{\\partial g(x,t)}{\\partial t}=c\\frac{\\partial^2 g(x,t)}{\\partial x^2} \\tag{1}$$\n",
    "that is:\n",
    "$$g_t = cg_{xx}$$\n",
    "suppose we know the temperature distribution on the rod for all $x$ at $t=0$\n",
    "$$h(x)=g(x,0)\\tag{2}$$\n",
    "To accomplish this, we will use the Fourier Transform. To start, let's take the Fourier Transform of Equation (1) with respect to x. That is, we will assume x is the variable and hold t constant. First, we will take the Fourier Transform of the right hand side of Equation (1):\n",
    "$$\\begin{align}\n",
    "F\\{cg_{xx}(x,t)\\}&=c\\int_{-\\infty}^{\\infty}g_{xx}(x,t)e^{-2\\pi ifx}dx\\\\\n",
    "&=(2\\pi if)^2c\\int_{-\\infty}^{\\infty}g(x,t)e^{-2\\pi ifx}dx\\\\\n",
    "&=-4c\\pi^2f^2G(f,t)\\tag{Eq 3}\n",
    "\\end{align}$$\n",
    "\n",
    "The next step is to take the Fourier Transform (again, with respect to x) of the left hand side of equation (1). \n",
    "$$\\begin{align}\n",
    "F\\{g_{t}(x,t)\\}&=\\int_{-\\infty}^{\\infty}\\frac{\\partial g(x,t)}{\\partial t}e^{-2\\pi ifx}dx\\\\\n",
    "&=\\frac{\\partial }{\\partial t}\\int_{-\\infty}^{\\infty}g(x,t)e^{-2\\pi ifx}dx\\\\\n",
    "&=\\frac{\\partial }{\\partial t}G(f,t)\\tag{Eq 4}\n",
    "\\end{align}$$\n",
    "\n",
    "Now that we have the full Fourier Transform of Equation [1], we set Equation [3] equal to Equation [4]:\n",
    "$$\\frac{\\partial }{\\partial t}G(f,t)=-4c\\pi^2f^2G(f,t)\\tag{Eq 5}$$\n",
    "\n",
    "Equation [5] represents a simple Ordinary Differential Equation in the variable t; the function we seek is G(f,t). Using elementary differential equation methods, we obtain:\n",
    "\n",
    "$$G(f,t)=G(f,0)e^{-4\\pi^2f^2ct}\\tag{Eq 6}$$\n",
    "\n",
    "The function G(f, 0) represents the initial condition for the differential Equation in [5]. We also know that G(f, 0) is just the Fourier Transform with respect to x of g(x, 0); and from Equation [2] we know that g(x, 0) is just h(x). Hence, we re-write the initial condition as the Fourier Transform of h(x), and call it H(f):\n",
    "\n",
    "$$G(f,t)=H(f)e^{-4\\pi^2f^2ct}\\tag{Eq 7}$$\n",
    "\n",
    "note that Equation [7] represents the product of two functions: H(f) and the Gaussian Function.\n",
    "we will take the inverse Fourier Transform of the Gaussian in Equation [7]\n",
    "$$F^{-1}\\big\\{ e^{-4\\pi^2f^2ct} \\big\\}=\\frac{1}{4\\pi ct}e^{-\\frac{x^2}{4ct}}\\tag{Eq 8}$$\n",
    "\n",
    "Equation [8] can be used to take the inverse Fourier Transform of Equation [7]:\n",
    "$$\\begin{align}\n",
    "g(x,t)&=F^{-1}\\big\\{H(f)e^{-4\\pi^2f^2ct}\\big\\}\\\\\n",
    "&=h(x)*\\frac{e^{-x^2/(4ct)}}{\\sqrt{4\\pi ct}}\\\\\n",
    "&=\\int_{-\\infty}^{\\infty}h(z)\\frac{e^{-(z-x)^2/(4ct)}}{\\sqrt{4\\pi ct}}dz\n",
    "\\end{align}$$\n",
    "The result in Equation [9] represents the general solution of Equation [1], subject to the condition of Equation [2]. The result, in essence, represents how the initial heat distribution smooths itself out over time. That is, as t approaches 0, g(x,t) approaches h(x). This is because the Gaussian function becomes very sharp and approximates an impulse function. As time increases, the integration of Equation [9] represents a \"smoothing out\" or averaging of the initial temperature distribution h(x). This equation dictates precisely how heat spreads out on a rod."
   ]
  },
  {
   "cell_type": "markdown",
   "metadata": {},
   "source": [
    "### 用傅里叶变换和逆变换求解热传导方程"
   ]
  },
  {
   "cell_type": "code",
   "execution_count": 3,
   "metadata": {},
   "outputs": [
    {
     "data": {
      "text/plain": [
       "Text(0.5, 0, 'u')"
      ]
     },
     "execution_count": 3,
     "metadata": {},
     "output_type": "execute_result"
    }
   ],
   "source": [
    "import numpy as np, matplotlib.pyplot as plt\n",
    "\n",
    "N = 51 #number of grid points\n",
    "dt = 5.e-3 #time step\n",
    "L = 1 #size of grid\n",
    "nsteps = 620 #number of time steps\n",
    "dx = L/(N-1) #grid spacing\n",
    "a2 = 1 #assuming heat diffusion coefficient == 1\n",
    "r = dx**2/a2/dt \n",
    "\n",
    "x = np.linspace(-.5,.5,N)\n",
    "t = np.arange(dt,nsteps*dt+dt,dt)\n",
    "u0 = np.array([2*xx if xx<=0.0 else -2*xx for xx in x])+1 #初始条件\n",
    "\n",
    "#plt.plot(x,u0)\n",
    "\n",
    "from scipy.fftpack import fft,ifft2\n",
    "\n",
    "#求频率的数组\n",
    "#$k_0 = - \\pi / \\Delta x$\n",
    "#$k_m = k_0 + m\\Delta k$, with $\\Delta k = 2\\pi / (N\\Delta x)$\n",
    "k0 = -np.pi/dx\n",
    "dk = 2*np.pi/(N*dx)\n",
    "k = [k0]\n",
    "for i in range(1,N):\n",
    "    k.append(k0+i*dk)\n",
    "k = np.array(k) #频率数组\n",
    "K, T = np.meshgrid(k, t)\n",
    "phi1 =np.exp(-4*np.pi*np.pi*K*K*T) #频域的波函数\n",
    "\n",
    "Hf = fft(u0)  #初始条件的傅里叶变换\n",
    "g_xt = ifft2(Hf*phi1)  #傅里叶逆变换求波函数\n",
    "gt = np.abs(g_xt)\n",
    "%matplotlib qt5\n",
    "from mpl_toolkits.mplot3d.axes3d import Axes3D\n",
    "from matplotlib import cm\n",
    "\n",
    "fig = plt.figure(figsize=(8,6))\n",
    "\n",
    "ax1 = fig.add_subplot(111, projection='3d')\n",
    "X,T = np.meshgrid(x,t)\n",
    "surf = ax1.plot_surface(X, T, gt, cmap=cm.coolwarm,\n",
    "                       linewidth=0, antialiased=False)\n",
    "\n",
    "ax1.set_xlabel('x')\n",
    "ax1.set_ylabel('t')\n",
    "ax1.set_zlabel('u')"
   ]
  },
  {
   "cell_type": "markdown",
   "metadata": {},
   "source": [
    "下面是用卷积的部分解PDE, 总结：不知道为什么结果很不理想，也许是convolve函数的原因"
   ]
  },
  {
   "cell_type": "code",
   "execution_count": 5,
   "metadata": {},
   "outputs": [
    {
     "data": {
      "text/plain": [
       "Text(0.5,0,'u')"
      ]
     },
     "execution_count": 5,
     "metadata": {},
     "output_type": "execute_result"
    }
   ],
   "source": [
    "import numpy as np, matplotlib.pyplot as plt\n",
    "\n",
    "N = 51 #number of grid points\n",
    "dt = 5.e-3 #time step\n",
    "L = 1 #size of grid\n",
    "nsteps = 620 #number of time steps\n",
    "dx = L/(N-1) #grid spacing\n",
    "a2 = 1 #assuming heat diffusion coefficient == 1\n",
    "r = dx**2/a2/dt \n",
    "\n",
    "x = np.linspace(-.5,.5,N)\n",
    "t = np.arange(dt,nsteps*dt+dt,dt)\n",
    "u = np.ones((nsteps,N))\n",
    "u[0,:] = np.asarray([2*xx if xx<=0.0 else -2*xx for xx in x])+1\n",
    "for i in range(1,u.shape[0]):\n",
    "    u[i,:] = u[0,:]\n",
    "\n",
    "#plt.plot(x,u[0,:])\n",
    "plt.imshow(u)\n",
    "#%%\n",
    "from scipy.signal import fftconvolve\n",
    "\n",
    "x,t = np.meshgrid(x,t)\n",
    "gt=fftconvolve(u, np.exp(-x**2/4/t)/np.sqrt(4*np.pi*t), mode='same')\n",
    "\n",
    "#gt=np.exp(-x**2/4/t)/np.sqrt(4*np.pi*t)\n",
    "\n",
    "plt.imshow(gt)\n",
    "#%%\n",
    "from mpl_toolkits.mplot3d.axes3d import Axes3D\n",
    "from matplotlib import cm\n",
    "\n",
    "fig = plt.figure(figsize=(8,6))\n",
    "\n",
    "ax1 = fig.add_subplot(111, projection='3d')\n",
    "\n",
    "surf = ax1.plot_surface(x, t, gt, cmap=cm.coolwarm,\n",
    "                       linewidth=0, antialiased=False)\n",
    "\n",
    "ax1.set_xlabel('x')\n",
    "ax1.set_ylabel('t')\n",
    "ax1.set_zlabel('u')"
   ]
  },
  {
   "cell_type": "markdown",
   "metadata": {},
   "source": [
    "总结：不知道为什么结果很不理想，也许时convolve函数的原因"
   ]
  },
  {
   "cell_type": "code",
   "execution_count": null,
   "metadata": {},
   "outputs": [],
   "source": []
  }
 ],
 "metadata": {
  "kernelspec": {
   "display_name": "Python 3",
   "language": "python",
   "name": "python3"
  },
  "language_info": {
   "codemirror_mode": {
    "name": "ipython",
    "version": 3
   },
   "file_extension": ".py",
   "mimetype": "text/x-python",
   "name": "python",
   "nbconvert_exporter": "python",
   "pygments_lexer": "ipython3",
   "version": "3.8.5"
  }
 },
 "nbformat": 4,
 "nbformat_minor": 2
}
