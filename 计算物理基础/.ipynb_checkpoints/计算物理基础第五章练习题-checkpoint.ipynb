{
 "cells": [
  {
   "cell_type": "markdown",
   "metadata": {},
   "source": [
    "# 计算物理基础第五章课后练习题解"
   ]
  },
  {
   "cell_type": "markdown",
   "metadata": {},
   "source": [
    "## 第一题"
   ]
  },
  {
   "cell_type": "markdown",
   "metadata": {},
   "source": [
    "1. 研究质点在平方反比引力场中的运动，设质量为m0的质点位于力新不动，质量为$m$的质点在$m_0$的\n",
    "引力场中运动。要求\n",
    "\n",
    "(1) 当质点总能量大于、等于和小于零时，画出质点在平方反比引力场中的运动轨迹。\n",
    "\n",
    "(2) 当质点总能量小于0且保持不变时，改变角动量的大小，画出质点相应的运动轨迹。\n",
    "\n",
    "(3) 学习将极坐标化成直角坐标的方法，一阶利用对称性画曲线的方法"
   ]
  },
  {
   "cell_type": "code",
   "execution_count": 1,
   "metadata": {},
   "outputs": [],
   "source": [
    "#导入库函数\n",
    "import numpy as np, matplotlib.pyplot as plt\n",
    "from scipy.integrate import odeint"
   ]
  },
  {
   "cell_type": "markdown",
   "metadata": {},
   "source": [
    "利用拉格朗日方程\n",
    "\n",
    "$$L=T-V$$和$$\\frac{d}{dt}\\frac{\\partial L}{\\partial \\dot{q_i}}-\\frac{\\partial L}{\\partial q_i}=0$$\n",
    "\n",
    "期中$\\dot{q_i}, q_i$是广义速度和广义坐标。推导出重力场中的常微分方程："
   ]
  },
  {
   "cell_type": "markdown",
   "metadata": {},
   "source": [
    "$$T=\\frac{1}{2}m(\\dot{r}^2+r^2\\dot{\\theta}^2)$$\n",
    "                 $$V=-\\frac{GMm}{r}$$\n",
    "                 $$L=\\frac{1}{2}m(\\dot{r}^2+r^2\\dot{\\theta}^2)+\\frac{GMm}{r}$$\n",
    "所以有\n",
    "$$\\frac{\\partial L}{\\partial \\dot{r}}=m\\dot{r},  \\frac{d}{dt}\\frac{\\partial L}{\\partial \\dot{r}}=m\\ddot{r}$$\n",
    "$$\\frac{\\partial L}{\\partial r}=mr\\dot{\\theta^2}-\\frac{GMm}{r^2}$$\n",
    "所以$r$上的常微分方程为：\n",
    "$$\\ddot{r}=r\\dot{\\theta^2}-\\frac{GM}{r^2}$$"
   ]
  },
  {
   "cell_type": "markdown",
   "metadata": {},
   "source": [
    "同理可以求出$\\theta$方向的常微分方程：\n",
    "$$\\frac{\\partial L}{\\partial \\dot{\\theta}}=mr^2\\dot{\\theta},  \n",
    "\\frac{d}{dt}\\frac{\\partial L}{\\partial \\dot{\\theta}}=2mr\\dot{r}\\dot{\\theta}+mr^2\\ddot{\\theta}$$\n",
    "$$\\frac{\\partial L}{\\partial \\theta}=0$$\n",
    "所以$r$上的常微分方程为：\n",
    "$$\\ddot{\\theta}=-\\frac{2}{r}\\dot{r}\\dot{\\theta}$$"
   ]
  },
  {
   "cell_type": "markdown",
   "metadata": {},
   "source": [
    "最后得到的常微分方程组为：\n",
    "\n",
    "$$\\left\\{\\begin{align}\n",
    "        &\\frac{d^2r}{dt^2}= r\\big(\\frac{dr}{dt}\\big)^2-\\frac{GM}{r^2}\\\\\n",
    "        &\\frac{d^2\\theta}{dt^2} = -\\frac{2}{r}\\frac{dr}{dt}\\frac{d\\theta}{dt}\\\\\n",
    "        \\end{align}\n",
    "        \\right.$$\n",
    "令$y_0=r, y_1 = \\frac{dr}{dt}, y_2=\\theta, y_3=\\frac{d\\theta}{dt}$\n",
    "\n",
    "上面的高阶常微分方程组化为：\n",
    "$$\\left\\{\\begin{align}\n",
    "&y_1 = \\frac{dr}{dt}\\\\\n",
    "&\\frac{dy_1}{dt}=r\\big(\\frac{dr}{dt}\\big)^2-\\frac{GM}{r^2}\\\\\n",
    "&y_3 = \\frac{d\\theta}{dt}\\\\\n",
    "&\\frac{dy_3}{dt}=-\\frac{2}{r}\\frac{dr}{dt}\\frac{d\\theta}{dt}\n",
    "\\end{align}\\right.$$"
   ]
  },
  {
   "cell_type": "code",
   "execution_count": 2,
   "metadata": {},
   "outputs": [],
   "source": [
    "#定义常微分方程组\n",
    "def f(y, t, G=6.67e-11, m0=2e30):\n",
    "    #G 引力常数，m0力心质量\n",
    "    return [y[1], y[0]*y[3]**2-G*m0/y[0]**2, y[3], -2*y[1]*y[3]/y[0]]"
   ]
  },
  {
   "cell_type": "markdown",
   "metadata": {},
   "source": [
    "说明：$$T=\\frac{1}{2}m(\\dot{r}^2+r^2\\dot{\\theta}^2)$$\n",
    "                 $$V=-\\frac{GMm}{r}$$\n",
    "令$\\dot{r}=0$, 当$T+V=0$时有\n",
    "$$\\frac{1}{2}mr^2\\dot{\\theta}^2=\\frac{GMm}{r}$$\n",
    "所以有\n",
    "$$\\dot{\\theta}_{T+V=0}=\\sqrt{2GM/r^3}$$\n",
    "轨道是双曲轨道。"
   ]
  },
  {
   "cell_type": "code",
   "execution_count": 3,
   "metadata": {},
   "outputs": [
    {
     "data": {
      "image/png": "[encoded data removed]",
      "text/plain": [
       "<Figure size 432x288 with 1 Axes>"
      ]
     },
     "metadata": {
      "needs_background": "light"
     },
     "output_type": "display_data"
    }
   ],
   "source": [
    "G, m0=6.67e-11, 2e30\n",
    "r0 = 1.5e11 #unit m, distance from the Earth to the Sun\n",
    "v0 = 0  #initial speed = 0\n",
    "t0 = 0  #initial angle is 0\n",
    "w0 = np.sqrt(2*G*m0/r0**3) #T+V=0时的角速度\n",
    "y0 = [r0, v0, t0, w0]\n",
    "t = np.linspace(0, 20*np.pi/w0, 500)\n",
    "r = odeint(f, y0, t, args=(G, m0))\n",
    "\n",
    "x = r[:,0]*np.cos(r[:,2]) \n",
    "y = r[:,0]*np.sin(r[:,2])\n",
    "%matplotlib inline\n",
    "plt.plot(x, y, 'b', label='T+V=0')\n",
    "plt.plot(x, -y, 'b') #lower half of the curve\n",
    "plt.scatter(0,0,s=100, c='r') #where M0 is\n",
    "axis = plt.axis('equal')"
   ]
  },
  {
   "cell_type": "markdown",
   "metadata": {},
   "source": [
    "取 $$\\omega_0 = 0.6\\dot{\\theta}_{T+V<0}=0.6\\sqrt{2GM/r^3}$$, 轨迹是椭圆"
   ]
  },
  {
   "cell_type": "code",
   "execution_count": 4,
   "metadata": {},
   "outputs": [
    {
     "data": {
      "image/png": "[encoded data removed]",
      "text/plain": [
       "<Figure size 432x288 with 1 Axes>"
      ]
     },
     "metadata": {
      "needs_background": "light"
     },
     "output_type": "display_data"
    }
   ],
   "source": [
    "r0 = 1.5e11 #unit m, distance from the Earth to the Sun\n",
    "v0 = 0  #initial speed = 0\n",
    "t0 = 0  #initial angle is 0\n",
    "w0 = np.sqrt(2*G*m0/r0**3)*0.6 #T+V<0时的角速度\n",
    "y0 = [r0, v0, t0, w0]\n",
    "t = np.linspace(0, 20*np.pi/w0, 500)\n",
    "r = odeint(f, y0, t, args=(G, m0))\n",
    "\n",
    "x = r[:,0]*np.cos(r[:,2]) \n",
    "y = r[:,0]*np.sin(r[:,2])\n",
    "plt.plot(x, y, 'b', label='T+V=0')\n",
    "plt.plot(x, -y, 'b') #lower half of the curve\n",
    "plt.scatter(0,0,s=100, c='r') #where M0 is\n",
    "axis = plt.axis('equal')"
   ]
  },
  {
   "cell_type": "markdown",
   "metadata": {},
   "source": [
    "做动画显示"
   ]
  },
  {
   "cell_type": "code",
   "execution_count": 5,
   "metadata": {},
   "outputs": [],
   "source": [
    "%matplotlib qt5\n",
    "from matplotlib import animation\n",
    "\n",
    "plt.close('all')\n",
    "fig = plt.figure('animation')\n",
    "plt.axis(axis) #坐标轴范围\n",
    "\n",
    "plt.scatter(0,0,s=1000, c='r')\n",
    "myline2, = plt.plot([],[], 'k')\n",
    "mypoint, = plt.plot([],[], 'bo',ms=20)\n",
    "def animate(i):\n",
    "    mypoint.set_data(x[i], y[i]) #质点的位置\n",
    "    myline2.set_data(x[:i], y[:i]) #质点的运动轨迹\n",
    "    return mypoint,  myline2\n",
    "\n",
    "anim=animation.FuncAnimation(fig,animate,frames=len(x), interval=10)"
   ]
  },
  {
   "cell_type": "code",
   "execution_count": 6,
   "metadata": {},
   "outputs": [],
   "source": [
    "%matplotlib inline"
   ]
  },
  {
   "cell_type": "markdown",
   "metadata": {},
   "source": [
    "取 $$\\omega_0 = \\dot{\\theta}_{T+V<0}/\\sqrt{2}=\\sqrt{2GM/r^3}/\\sqrt{2}$$, 轨迹是圆"
   ]
  },
  {
   "cell_type": "code",
   "execution_count": 7,
   "metadata": {},
   "outputs": [
    {
     "data": {
      "image/png": "[encoded data removed]",
      "text/plain": [
       "<Figure size 432x288 with 1 Axes>"
      ]
     },
     "metadata": {
      "needs_background": "light"
     },
     "output_type": "display_data"
    }
   ],
   "source": [
    "r0 = 1.5e11 #unit m, distance from the Earth to the Sun\n",
    "v0 = 0  #initial speed = 0\n",
    "t0 = 0  #initial angle is 0\n",
    "w0 = np.sqrt(2*G*m0/r0**3)/np.sqrt(2) #T+V<0时的角速度\n",
    "y0 = [r0, v0, t0, w0]\n",
    "t = np.linspace(0, 20*np.pi/w0, 500)\n",
    "r = odeint(f, y0, t, args=(G, m0))\n",
    "\n",
    "x = r[:,0]*np.cos(r[:,2]) \n",
    "y = r[:,0]*np.sin(r[:,2])\n",
    "plt.plot(x, y, 'b', label='T+V=0')\n",
    "plt.plot(x, -y, 'b') #lower half of the curve\n",
    "plt.scatter(0,0,s=100, c='r') #where M0 is\n",
    "axis = plt.axis('equal')"
   ]
  },
  {
   "cell_type": "markdown",
   "metadata": {},
   "source": [
    "(2) 当质点总能量小于0且保持不变时，改变角动量的大小，画出质点相应的运动轨迹"
   ]
  },
  {
   "cell_type": "markdown",
   "metadata": {},
   "source": [
    "取当$\\dot{r}=0, r=r_0=1.5e11, \\omega_0=\\sqrt{GM/r_0^3}$时的系统总能量\n",
    "$E=\\frac{1}{2}mr_0^2\\omega_0^2-\\frac{GMm}{r_0}=-\\frac{GMm}{2r_0}$, 并保持恒定。\n",
    "\n",
    "质心的角动量为$L=mr^2\\omega$\n",
    "\n",
    "系统的总能量守恒，有\n",
    "$$\\frac{1}{2}mr^2\\dot{\\theta}^2-\\frac{GMm}{r}=-\\frac{GMm}{2r_0}$$\n",
    "化简得，约掉$m$,\n",
    "$$\\frac{1}{2}r^2\\dot{\\theta}^2-\\frac{GM}{r}=-\\frac{GM}{2r_0}$$"
   ]
  },
  {
   "cell_type": "markdown",
   "metadata": {},
   "source": [
    "令$E_0 = -\\frac{GM}{2r_0}$"
   ]
  },
  {
   "cell_type": "code",
   "execution_count": 8,
   "metadata": {},
   "outputs": [],
   "source": [
    "G =  6.67e-11 #m^3/kg/s^2\n",
    "m0 =  2e30 #kg weight of the Sun\n",
    "r0 = 1.5e11 #m, distance from Earth to Sun\n",
    "E = -G*m0/2/r0 #The Total energy of the system"
   ]
  },
  {
   "cell_type": "code",
   "execution_count": 9,
   "metadata": {},
   "outputs": [
    {
     "data": {
      "image/png": "[encoded data removed]",
      "text/plain": [
       "<Figure size 432x288 with 1 Axes>"
      ]
     },
     "metadata": {
      "needs_background": "light"
     },
     "output_type": "display_data"
    }
   ],
   "source": [
    "#圆轨道\n",
    "v0 = 0\n",
    "t0 = 0\n",
    "w0 = np.sqrt(G*m0/r0**3) #圆轨道\n",
    "y0 = [r0, v0, t0, w0]\n",
    "t = np.linspace(0, 20*np.pi/w0, 500)\n",
    "r = odeint(f, y0, t, args=(G, m0))\n",
    "x = r[:,0]*np.cos(r[:,2])\n",
    "y = r[:,0]*np.sin(r[:,2])\n",
    "plt.scatter(0,0,s=300, c='r')\n",
    "plt.plot(x, y, 'b', label='{:5.1e}'.format(r0*w0**2))\n",
    "axis = plt.axis('equal')"
   ]
  },
  {
   "cell_type": "markdown",
   "metadata": {},
   "source": [
    "取$r=\\frac{r_0}{2}$, 则\n",
    "$$\\dot{\\theta}=\\sqrt{\\frac{2(E_0+\\frac{GM}{r_0/2})}{(r_0/2)^2}}$$"
   ]
  },
  {
   "cell_type": "code",
   "execution_count": 10,
   "metadata": {},
   "outputs": [
    {
     "data": {
      "image/png": "[encoded data removed]",
      "text/plain": [
       "<Figure size 432x288 with 1 Axes>"
      ]
     },
     "metadata": {
      "needs_background": "light"
     },
     "output_type": "display_data"
    }
   ],
   "source": [
    "r0 = 1.5e11/2\n",
    "w0 = np.sqrt(2/r0**2*(E+G*m0/r0))\n",
    "y0 = [r0, v0, t0, w0]\n",
    "t = np.linspace(0, 20*np.pi/w0, 500)\n",
    "r = odeint(f, y0, t, args=(G, m0))\n",
    "x = r[:,0]*np.cos(r[:,2])\n",
    "y = r[:,0]*np.sin(r[:,2])\n",
    "plt.scatter(0,0,s=300, c='r')\n",
    "plt.plot(x, y, 'g', label='{:5.1e}'.format(r0*w0**2))\n",
    "axis = plt.axis('equal')"
   ]
  },
  {
   "cell_type": "markdown",
   "metadata": {},
   "source": [
    "取$r=1.4r_0$, 则\n",
    "$$\\dot{\\theta}=\\sqrt{\\frac{2(E_0+\\frac{GM}{1.4r_0})}{(1.4r_0)^2}}$$"
   ]
  },
  {
   "cell_type": "code",
   "execution_count": 11,
   "metadata": {},
   "outputs": [
    {
     "data": {
      "image/png": "[encoded data removed]",
      "text/plain": [
       "<Figure size 432x288 with 1 Axes>"
      ]
     },
     "metadata": {
      "needs_background": "light"
     },
     "output_type": "display_data"
    }
   ],
   "source": [
    "r0 = 1.4*1.5e11\n",
    "w0 = np.sqrt(2/r0**2*(E+G*m0/r0))\n",
    "y0 = [r0, v0, t0, w0]\n",
    "t = np.linspace(0, 20*np.pi/w0, 500)\n",
    "r = odeint(f, y0, t, args=(G, m0))\n",
    "x = r[:,0]*np.cos(r[:,2])\n",
    "y = r[:,0]*np.sin(r[:,2])\n",
    "plt.scatter(0,0,s=300, c='r')\n",
    "plt.plot(x, y, 'g', label='{:5.1e}'.format(r0*w0**2))\n",
    "axis = plt.axis('equal')"
   ]
  },
  {
   "cell_type": "markdown",
   "metadata": {},
   "source": [
    "## 第二题"
   ]
  },
  {
   "cell_type": "markdown",
   "metadata": {},
   "source": [
    "研究平方反比斥力场中的运动。以$\\alpha$粒子在重核场中的运动为例，设重核位于力心且固定不动，\n",
    "$\\alpha$粒子的质量为$m$, 它到重核的距离为$r$, 所受库伦斥力为$F=k/r^2$, $k$为库伦定律确定的常量。要求：\n",
    "\n",
    "(1) 画出$\\alpha$粒子在不同初始条件下的轨道，通过改变初始条件研究影响散射角的因素。\n",
    "\n",
    "(2) 学习根据解决问题的需要来选择坐标系，本题选择直角坐标系。"
   ]
  },
  {
   "cell_type": "markdown",
   "metadata": {},
   "source": [
    "解: 与引力相似，斥力场中的运动的微分方程为：\n",
    "\n",
    "$$\\left\\{\\begin{align}\n",
    "        &\\frac{d^2r}{dt^2}= r\\big(\\frac{dr}{dt}\\big)^2+\\frac{k}{r^2}\\\\\n",
    "        &\\frac{d^2\\theta}{dt^2} = -\\frac{2}{r}\\frac{dr}{dt}\\frac{d\\theta}{dt}\\\\\n",
    "        \\end{align}\n",
    "        \\right.$$\n",
    "令$y_0=r, y_1 = \\frac{dr}{dt}, y_2=\\theta, y_3=\\frac{d\\theta}{dt}$\n",
    "\n",
    "上面的高阶常微分方程组化为：\n",
    "$$\\left\\{\\begin{align}\n",
    "&y_1 = \\frac{dr}{dt}\\\\\n",
    "&\\frac{dy_1}{dt}=r\\big(\\frac{dr}{dt}\\big)^2+\\frac{k}{r^2}\\\\\n",
    "&y_3 = \\frac{d\\theta}{dt}\\\\\n",
    "&\\frac{dy_3}{dt}=-\\frac{2}{r}\\frac{dr}{dt}\\frac{d\\theta}{dt}\n",
    "\\end{align}\\right.$$"
   ]
  },
  {
   "cell_type": "code",
   "execution_count": 12,
   "metadata": {},
   "outputs": [],
   "source": [
    "#定义常微分方程组\n",
    "def f(y, t, k):\n",
    "    #G 引力常数，m0力心质量\n",
    "    return [y[1], y[0]*y[3]**2+k/y[0]**2, y[3], -2*y[1]*y[3]/y[0]]"
   ]
  },
  {
   "cell_type": "code",
   "execution_count": 13,
   "metadata": {},
   "outputs": [
    {
     "data": {
      "image/png": "[encoded data removed]",
      "text/plain": [
       "<Figure size 432x288 with 1 Axes>"
      ]
     },
     "metadata": {
      "needs_background": "light"
     },
     "output_type": "display_data"
    }
   ],
   "source": [
    "k = 1 \n",
    "r0 = 1 #初始位置\n",
    "v0 = -10 #初始速度\n",
    "t0 = 10/180*np.pi #初始角度\n",
    "w0 = 1 #初始角速度\n",
    "y0 = [r0, v0, t0, w0]\n",
    "t = np.linspace(0, 1, 500)\n",
    "r = odeint(f, y0, t, args=(k,))\n",
    "x = r[:,0]*np.cos(r[:,2])\n",
    "y = r[:,0]*np.sin(r[:,2])\n",
    "plt.scatter(0,0,s=100, c='r')\n",
    "plt.plot(x, y)\n",
    "axis = plt.axis('equal')"
   ]
  },
  {
   "cell_type": "markdown",
   "metadata": {},
   "source": [
    "也可以采样直角坐标系，则拉格朗日方程为：\n",
    "\n",
    "$$L=T-V=\\frac{1}{2}m(\\dot{x}^2+\\dot{y}^2) - \\frac{mk}{\\sqrt{x^2+y^2}}$$"
   ]
  },
  {
   "cell_type": "markdown",
   "metadata": {},
   "source": [
    "所以有\n",
    "$$\\frac{\\partial L}{\\partial \\dot{x}}=m\\dot{x}, \n",
    "\\frac{d}{dt}\\frac{\\partial L}{\\partial \\dot{x}}=m\\ddot{x}$$\n",
    "$$\\frac{\\partial L}{\\partial x} = \\frac{xmk}{(x^2+y^2)^{3/2}}$$"
   ]
  },
  {
   "cell_type": "markdown",
   "metadata": {},
   "source": [
    "$x$方向上的常微分方程为：\n",
    "$$\\ddot{x}=\\frac{xk}{(x^2+y^2)^{3/2}}$$\n",
    "同理，可得$y$方向上的常微分方程为：\n",
    "$$\\ddot{y}=\\frac{yk}{(x^2+y^2)^{3/2}}$$"
   ]
  },
  {
   "cell_type": "markdown",
   "metadata": {},
   "source": [
    "得到常微分方程组：\n",
    "$$\\left\\{\\begin{align}\n",
    "        &\\frac{d^2x}{dt^2}= \\frac{xk}{(x^2+y^2)^{3/2}}\\\\\n",
    "        &\\frac{d^2y}{dt^2} = \\frac{yk}{(x^2+y^2)^{3/2}}\\\\\n",
    "        \\end{align}\n",
    "        \\right.$$\n",
    "令$y_0=x, y_1 = \\frac{dx}{dt}, y_2=y, y_3=\\frac{dy}{dt}$"
   ]
  },
  {
   "cell_type": "code",
   "execution_count": 14,
   "metadata": {},
   "outputs": [],
   "source": [
    "def f(y, t, k):\n",
    "    '''定义常微分方程组'''\n",
    "    return [y[1], k*y[0]/(y[0]**2+y[2]**2)**(1.5), \n",
    "            y[3], k*y[2]/(y[0]**2+y[2]**2)**(1.5)]"
   ]
  },
  {
   "cell_type": "code",
   "execution_count": 15,
   "metadata": {},
   "outputs": [
    {
     "data": {
      "image/png": "[encoded data removed]",
      "text/plain": [
       "<Figure size 432x288 with 1 Axes>"
      ]
     },
     "metadata": {
      "needs_background": "light"
     },
     "output_type": "display_data"
    }
   ],
   "source": [
    "k = 1 #假设常数k\n",
    "y0=[0.1,0,-1,1] #初始条件\n",
    "t = np.linspace(0, 2, 500)\n",
    "res = odeint(f, y0, t, args=(k,))\n",
    "x = res[:,0]\n",
    "y = res[:,2]\n",
    "plt.scatter(0,0,s=100,c='r') #质心位置\n",
    "plt.plot(x,y)\n",
    "axis = plt.axis('equal')"
   ]
  },
  {
   "cell_type": "markdown",
   "metadata": {},
   "source": [
    "做动画"
   ]
  },
  {
   "cell_type": "code",
   "execution_count": 16,
   "metadata": {},
   "outputs": [],
   "source": [
    "%matplotlib qt5\n",
    "plt.close('all')\n",
    "fig = plt.figure('animation')\n",
    "plt.axis(axis) #坐标轴范围\n",
    "from matplotlib import animation\n",
    "plt.scatter(0,0,s=100, c='r')\n",
    "myline2, = plt.plot([],[], 'k')\n",
    "mypoint, = plt.plot([],[], 'bo',ms=10)\n",
    "def animate(i):\n",
    "    mypoint.set_data(x[i], y[i]) #摆锤的位置\n",
    "    myline2.set_data(x[:i], y[:i]) #运动轨迹\n",
    "    return mypoint,  myline2\n",
    "\n",
    "anim=animation.FuncAnimation(fig,animate,frames=len(x), interval=10)"
   ]
  },
  {
   "cell_type": "markdown",
   "metadata": {},
   "source": [
    "## 第3题\n",
    "研究水星近日点的进动. 由于广义相对论对万有引力定律的修正, 引起水星运动轨道的进动, 水星的空间轨道不再是闭合的椭圆轨道. 广义相对论对万有引力的修正可以归结为在原来的运动方程中增加一个小的修正项$\\varepsilon/r^4$,其中$\\varepsilon=3Gm_0mh^2/c^2$是小量, $G$是万有引力常量, $m_0$为太阳质量, $m$为水星质量, $c$为真空中的光速, $h$为水星掠面速度的两倍. 要求:\n",
    "\n",
    "画出水星运动轨道. 验证只有质点在有心力场中所受的力与平方反比引力有微小偏离, 其轨道就不是闭合椭圆, 从而证明广义相对论对万有引力定律的修正将引起椭圆轨道进动."
   ]
  },
  {
   "cell_type": "markdown",
   "metadata": {},
   "source": [
    "水星近日点的进动\n",
    "$$\\left\\{\\begin{align}\n",
    "        &\\frac{d^2r}{dt^2}= r\\big(\\frac{dr}{dt}\\big)^2-\\frac{GM}{r^2}(1+\\varepsilon/r^2)\\\\\n",
    "        &\\frac{d^2\\theta}{dt^2} = -\\frac{2}{r}\\frac{dr}{dt}\\frac{d\\theta}{dt}\\\\\n",
    "        \\end{align}\n",
    "        \\right.$$\n",
    "令$y_0=r, y_1 = \\frac{dr}{dt}, y_2=\\theta, y_3=\\frac{d\\theta}{dt}$\n",
    "可以参考http://farside.ph.utexas.edu/teaching/336k/Newtonhtml/node116.html"
   ]
  },
  {
   "cell_type": "code",
   "execution_count": 17,
   "metadata": {},
   "outputs": [],
   "source": [
    "def f(y, t, G, m0, epsilon):\n",
    "    '''定义常微分方程'''\n",
    "    return [y[1], y[0]*y[3]**2 - \n",
    "            G*m0/y[0]**2 * (1+epsilon/y[0]**2), \n",
    "            y[3], -2*y[1]*y[3]/y[0]]"
   ]
  },
  {
   "cell_type": "code",
   "execution_count": 18,
   "metadata": {},
   "outputs": [],
   "source": [
    "G =  6.67e-11 #m^3/kg/s^2\n",
    "m0 =  2e30 #kg\n",
    "epsilon = 0.2e21\n",
    "r0 = 1.5e11 #m\n",
    "v0 = 0\n",
    "t0 = 0\n",
    "w0 = np.sqrt(G*m0/r0**3)*0.8\n",
    "y0 = [r0, v0, t0, w0]\n",
    "t = np.linspace(0, 50*np.pi/w0, 1000)\n",
    "r = odeint(f, y0, t, args=(G, m0, epsilon))\n",
    "\n",
    "x = r[:,0]*np.cos(r[:,2])\n",
    "y = r[:,0]*np.sin(r[:,2])\n",
    "fig = plt.figure('0')\n",
    "plt.plot(x, y, 'b')\n",
    "plt.scatter(0,0,s=100, c='r')\n",
    "axis = plt.axis('equal')"
   ]
  },
  {
   "cell_type": "markdown",
   "metadata": {},
   "source": [
    "做动画"
   ]
  },
  {
   "cell_type": "code",
   "execution_count": 19,
   "metadata": {},
   "outputs": [],
   "source": [
    "from matplotlib import animation\n",
    "\n",
    "plt.close('all')\n",
    "fig = plt.figure('animation')\n",
    "plt.axis(axis) #坐标轴范围\n",
    "\n",
    "plt.scatter(0,0,s=100, c='r')\n",
    "myline2, = plt.plot([],[], 'k')\n",
    "mypoint, = plt.plot([],[], 'ro',ms=10)\n",
    "def animate(i):\n",
    "    mypoint.set_data(x[i], y[i]) #摆锤的位置\n",
    "    myline2.set_data(x[:i], y[:i]) #运动轨迹\n",
    "    return mypoint,  myline2\n",
    "\n",
    "anim=animation.FuncAnimation(fig,animate,frames=len(x), interval=10)"
   ]
  },
  {
   "cell_type": "code",
   "execution_count": 9,
   "metadata": {},
   "outputs": [
    {
     "data": {
      "text/plain": [
       "(-1.1, 1.1, -31.000000000001222, -8.999999999974335)"
      ]
     },
     "execution_count": 9,
     "metadata": {},
     "output_type": "execute_result"
    }
   ],
   "source": [
    "import numpy as np, matplotlib.pyplot as plt\n",
    "L=20\n",
    "xx = np.arange(-30,L-30+dt,dt)\n",
    "yy = np.sin(20*np.pi/L*xx) #弹簧\n",
    "plt.plot(yy,xx,'k',lw=4)\n",
    "plt.axis('off')"
   ]
  },
  {
   "cell_type": "markdown",
   "metadata": {},
   "source": [
    "## 第四题"
   ]
  },
  {
   "cell_type": "markdown",
   "metadata": {},
   "source": [
    "小球与弹簧的碰撞. 本题练习事件函数events的应用."
   ]
  },
  {
   "cell_type": "markdown",
   "metadata": {},
   "source": [
    "如图所示, 地面上有垂直放置的弹簧, 弹簧上端固定有一个木块. 有一个小球从空中自由下落, 与木块发生弹性碰撞. 设小球及木块均只沿垂直方向运动, 木块保持平动且顶面与地面平行，研究小球与木块运动. 小球质量为$m_1$, 木块质量为$m_2$. 弹簧劲度系数为$k$。 要求画出小球和木块的位移曲线并模拟两物体的运动状况. 计算时，小球与弹簧发生碰撞时刻由events来判断, 此时小球离地面的高度与弹簧的高度相等，由于碰撞过程十分短暂, 可以忽略碰撞过程中二者高度的变化, 认为二者遵循动量守恒、机械能守恒. 在其他的时间, 小球与弹簧运动的微分方程遵循牛顿定律."
   ]
  },
  {
   "cell_type": "markdown",
   "metadata": {},
   "source": [
    "<img src=\"ringball-5-28.png\" width=200>"
   ]
  },
  {
   "cell_type": "markdown",
   "metadata": {},
   "source": [
    "将弹簧水平固定好，让在桌面上作水平运动的小球与它碰撞，重新研究小球与弹簧的运动."
   ]
  },
  {
   "cell_type": "markdown",
   "metadata": {},
   "source": [
    "### 解："
   ]
  },
  {
   "cell_type": "markdown",
   "metadata": {},
   "source": [
    "小球与弹簧的碰撞，以弹簧自然伸直上方的端点作为原点，$y$轴竖直向上，以$y_1, y_2$分别代表小球和木块的位置，\n",
    "小球质量为$m_1$, 木块质量为$m_2$, 弹簧劲度系数为$k$, 根据牛顿定律或者拉格朗日方程，得到无碰撞时小球和木块的运动微分方程为：\n",
    "$$\\left.\\begin{align}\n",
    "         &m_1 \\frac{d^2y_1}{dt^2} = -m_1 g\\\\\n",
    "         &m_2 \\frac{d^2y_2}{dt^2} = -m_2 g - ky_2\n",
    "         \\end{align}\\right\\}$$"
   ]
  },
  {
   "cell_type": "markdown",
   "metadata": {},
   "source": [
    "小球和木块碰撞的条件为$y_1 = y_2$, 弹性碰撞的条件是动量守恒，机械能守恒，因为碰撞事件很短，所以忽略高度的变化，在碰撞过程中有\n",
    "$$\\left.\\begin{align}m_1v_1+m_2v_2 = m_1v_1'+m_2v_2'\\\\\n",
    "\\frac{1}{2}m_1v_1^2+\\frac{1}{2}m_2v_2^2 = \\frac{1}{2}m_1v_1'^2+\\frac{1}{2}m_2v_2'^2\n",
    "\\end{align}\\right\\}$$"
   ]
  },
  {
   "cell_type": "markdown",
   "metadata": {},
   "source": [
    "当$y_1 = y_2$时，解上面方程组，求出两物体碰撞后的速度$v_1', v_2'$, 反复求解。"
   ]
  },
  {
   "cell_type": "code",
   "execution_count": 1,
   "metadata": {},
   "outputs": [],
   "source": [
    "def f(t, y, k, m2):\n",
    "    return [y[1], -9.8, y[3], -9.8-k/m2*y[2]]"
   ]
  },
  {
   "cell_type": "code",
   "execution_count": 14,
   "metadata": {},
   "outputs": [],
   "source": [
    "from scipy.integrate import ode\n",
    "import numpy as np, matplotlib.pyplot as plt\n",
    "h0, m1, k, m2 = 50, 20, 60, 50 #小球的高度，质量，弹簧劲度系数，木块的质量\n",
    "t0, tfinal = 0, 100        #解微分方程的起止事件\n",
    "dt = 0.001\n",
    "y0 = [h0, 0, 0, 0]             #初始条件\n",
    "x = []\n",
    "y = []\n",
    "r = ode(f).set_integrator('zvode')\n",
    "r.set_initial_value(y0, t0).set_f_params(k, m2)\n",
    "\n",
    "while r.successful() and r.t < tfinal:\n",
    "    r.integrate(r.t+dt)\n",
    "    if np.abs(r.y[0].real - r.y[2].real) < .1:\n",
    "        #print(r.t, r.y[0].real, r.y[2].real)\n",
    "        y0[0], y0[2] = r.y[0].real, r.y[2].real\n",
    "        v10, v20 = r.y[1].real, r.y[3].real\n",
    "        y0[1] = (-m2*v10+2*m2*v20+m1*v10)/(m1+m2)\n",
    "        y0[3] = (2*m1*v10 + m2*v20-m1*v20)/(m1+m2)\n",
    "        #print(y0, t0)\n",
    "        t0 = r.t\n",
    "        r.set_initial_value(y0, t0)\n",
    "    x.append(r.t)\n",
    "    y.append([r.y[0].real, r.y[1].real, r.y[2].real, r.y[3].real])"
   ]
  },
  {
   "cell_type": "code",
   "execution_count": 15,
   "metadata": {},
   "outputs": [],
   "source": [
    "%matplotlib qt5\n",
    "x = np.array(x)\n",
    "y = np.array(y)\n",
    "n = len(x)\n",
    "plt.plot(x[:n], y[:n,0])\n",
    "plt.plot(x[:n], y[:n,2])\n",
    "t=np.zeros(x.size)"
   ]
  },
  {
   "cell_type": "code",
   "execution_count": 22,
   "metadata": {},
   "outputs": [],
   "source": [
    "%matplotlib qt5\n",
    "x = np.array(x)\n",
    "y = np.array(y)\n",
    "from matplotlib import animation\n",
    "fig = plt.figure()\n",
    "plt.axis([-10, 10, -30, 60])\n",
    "#myline1, = plt.plot([],[],'g-',lw=2)\n",
    "mypoint1, = plt.plot([],[], 'go',ms=20) #小球\n",
    "myline2, = plt.plot([],[],'olive',lw=2) #弹簧\n",
    "mypoint2, = plt.plot([],[], 'b_',ms=40) \n",
    "def animate(j):\n",
    "    i=j*100\n",
    "    mypoint1.set_data(t[i], y[i,0])\n",
    "    #myline1.set_data(t[:i], y[:i,0])\n",
    "    mypoint2.set_data(t[i], y[i,2])\n",
    "    L=y[i,2]+30 #弹簧长度\n",
    "    dt = 0.01\n",
    "    xx = np.arange(-30,L-30+dt,dt)\n",
    "    yy = np.sin(20*np.pi/L*xx) #弹簧\n",
    "    myline2.set_data(yy,xx)\n",
    "    return mypoint1, myline1, mypoint2, myline2\n",
    "\n",
    "anim=animation.FuncAnimation(fig,animate,frames=len(x)//100, interval=1)"
   ]
  },
  {
   "cell_type": "markdown",
   "metadata": {},
   "source": [
    "## 第五题\n",
    "5. 三质点系统的微振动。研究两个弹簧连接的3质点组成的一维振动系统的运动。如图5.29所示，其中弹簧的进度系数均为k,中间的质点的质量为$m_0$,两端质点的质量都为$m$, 要求"
   ]
  },
  {
   "cell_type": "markdown",
   "metadata": {},
   "source": [
    "<img src=\"三质点耦合振动系统.png\"  alt=\"三质点耦合振动系统\" width=\"300\"/>"
   ]
  },
  {
   "cell_type": "markdown",
   "metadata": {},
   "source": [
    "设$t=0$的时刻，质点的初速度为0，但是初位移不为0.由拉格朗日方程，得系统的运动微分方程为\n",
    "$$\\left\\{\\begin{aligned}\n",
    "         &m\\frac{d^2x_1}{dt^2}+kx_1-kx_2=0\\\\\n",
    "         &m_0\\frac{d^2x_2}{dt^2}-kx_1+2kx_2-kx_3=0\\\\\n",
    "         &m\\frac{d^2x_3}{dt^2}-kx_2+kx_3=0\n",
    "         \\end{aligned}\\right.$$"
   ]
  },
  {
   "cell_type": "markdown",
   "metadata": {},
   "source": [
    "（1）用三种不同的方法，即矩阵方法，快速傅里叶变换法和拉普拉斯变换法，分别求振动系统的简正频率。从而证明这三种方法所得的结果是相同的。本题将这三种方法放在一起，通过对比，读者可以了解他们之间的内在联系。"
   ]
  },
  {
   "cell_type": "markdown",
   "metadata": {},
   "source": [
    "#### 1.1 矩阵方法\n",
    "将微分方程组写成矩阵的形式\n",
    "\n",
    "$S=\\begin{bmatrix} m&0&0\\\\0&m_0&0\\\\0&0&m\\\\ \\end{bmatrix}$,\n",
    "$K=\\begin{bmatrix} k&-k&0\\\\-k&2k&-k\\\\0&-k&k\\\\ \\end{bmatrix}$,\n",
    "$X=\\begin{bmatrix} x_1\\\\x_2\\\\x_3\\\\ \\end{bmatrix}$\n",
    "\n",
    "方程化为\n",
    "\n",
    "$S\\ddot{X}=-KX$\n",
    "\n",
    "取$m=3 kg, m_0=4 kg, k=50 N m^{-1}$"
   ]
  },
  {
   "cell_type": "code",
   "execution_count": 80,
   "metadata": {},
   "outputs": [
    {
     "name": "stdout",
     "output_type": "stream",
     "text": [
      "本征频率为： sqrt(k/m) :  4.08248290463863\n",
      "本征频率为： sqrt((2*k*m + k*m0)/(m*m0)) :  6.45497224367903\n",
      "本征频率为： 0 :  0\n"
     ]
    }
   ],
   "source": [
    "from sympy import *\n",
    "init_printing(use_unicode=True)\n",
    "m,m0,k=symbols('m, m0, k')\n",
    "S = Matrix([[m, 0, 0], [0, m0, 0], [0, 0, m]])#质量矩阵\n",
    "K = Matrix([[k, -k, 0], [-k, 2*k, -k], [0, -k, k]]) #系数矩阵\n",
    "T = S.inv()*K #求S的逆乘以K\n",
    "vals = T.eigenvals()\n",
    "for each in vals:\n",
    "    print('本征频率为：', sqrt(each), ': ', sqrt(each).evalf(subs ={'m':3, 'm0':4,'k':50}))"
   ]
  },
  {
   "cell_type": "code",
   "execution_count": 43,
   "metadata": {},
   "outputs": [
    {
     "name": "stdout",
     "output_type": "stream",
     "text": [
      "本征函数为： Eq(f(x), C1*exp(-x*sqrt(-k/m)) + C2*exp(x*sqrt(-k/m))) Eq(f(x), C1 + C2*x) Eq(f(x), C1*exp(-x*sqrt(k*(-2/m0 - 1/m))) + C2*exp(x*sqrt(k*(-2/m0 - 1/m))))\n"
     ]
    }
   ],
   "source": [
    "from sympy.abc import x\n",
    "f = Function('f')\n",
    "\n",
    "psi1 = dsolve(f(x).diff(x,2)+k/m*f(x))\n",
    "psi2 = dsolve(f(x).diff(x,2))\n",
    "psi3 = dsolve(f(x).diff(x,2)+k*(2*m+m0)/m/m0*f(x))\n",
    "print('本征函数为：', psi1, psi2, psi3)"
   ]
  },
  {
   "cell_type": "markdown",
   "metadata": {},
   "source": [
    "#### 1.2. 用数值解法解这个常微分方程组，\n",
    "初值为：$x_1(0)=-0.4m, x_2(0)=0.0m, x_3(0)=0.3m, x_1(1) = x_2(1)=x_3(1)=0$"
   ]
  },
  {
   "cell_type": "code",
   "execution_count": 23,
   "metadata": {},
   "outputs": [],
   "source": [
    "def f(y,t,k=50,m=3,m0=4):\n",
    "    return [y[1], -k/m*(y[0]-y[2]),y[3], k/m0*(y[0]-2*y[2]+y[4]),y[5],k/m*(y[2]-y[4])]\n",
    "t = np.ogrid[0:30.33:0.01]\n",
    "from scipy.integrate import odeint\n",
    "y0=[-0.4,0.0,0.35,0,0,0]\n",
    "res = odeint(f,y0,t)\n",
    "plt.close('all')\n",
    "for i in range(3):\n",
    "    plt.subplot(3,1,i+1)\n",
    "    plt.plot(t, res[:,i*2])"
   ]
  },
  {
   "cell_type": "markdown",
   "metadata": {},
   "source": [
    "加上弹簧平衡位置处于[0.8, 0, 0.8], 求出的$x_1, x_2, x_3$是偏离平衡位置的大小，所以有"
   ]
  },
  {
   "cell_type": "code",
   "execution_count": 24,
   "metadata": {},
   "outputs": [],
   "source": [
    "#动画\n",
    "%matplotlib qt5\n",
    "from matplotlib import animation\n",
    "fig = plt.figure()\n",
    "plt.axis([-1.5, 1.5, -.5, .5])\n",
    "mypoint1, = plt.plot([],[], 'ks',ms=40)\n",
    "mypoint2, = plt.plot([],[], 'ks',ms=50)\n",
    "mypoint3, = plt.plot([],[], 'ks',ms=40)\n",
    "myline1, = plt.plot([],[],'k')\n",
    "myline2, = plt.plot([],[],'k')\n",
    "points = [mypoint1, mypoint2, mypoint3]\n",
    "x = [res[:,0]-.9, res[:,2], res[:,4]+.9]\n",
    "y = np.zeros(t.size)\n",
    "def spring(x0,L):\n",
    "    #L 弹簧长度\n",
    "    dt = L/100\n",
    "    xx = np.linspace(x0,L+x0,500)\n",
    "    yy = 0.01*np.sin(60*np.pi/L*(xx-x0)) #弹簧\n",
    "    return (xx,yy)\n",
    "def animate(i):\n",
    "    for k in range(3):\n",
    "        xx,yy = spring(x[0][i],x[1][i]-x[0][i])\n",
    "        myline1.set_data(xx,yy)\n",
    "        xx,yy = spring(x[1][i],x[2][i]-x[1][i])\n",
    "        myline2.set_data(xx,yy)        \n",
    "        points[k].set_data(x[k][i],y[i])\n",
    "    return points\n",
    "\n",
    "anim=animation.FuncAnimation(fig,animate,frames=len(t), interval=100)"
   ]
  },
  {
   "cell_type": "markdown",
   "metadata": {},
   "source": [
    "#### 1.3. 用快速傅里叶变换求周期"
   ]
  },
  {
   "cell_type": "code",
   "execution_count": 25,
   "metadata": {},
   "outputs": [],
   "source": [
    "from scipy.fftpack import fft, fftshift\n",
    "freq = np.pi*2*np.arange(t.size)/((t.size-1)*0.01)\n",
    "plt.close('all')\n",
    "for i in range(3):\n",
    "    plt.subplot(3,1,i+1)\n",
    "    f1 = fft(res[:,2*i])/t.size\n",
    "    plt.plot(freq[:100],np.abs(f1)[:100])"
   ]
  },
  {
   "cell_type": "markdown",
   "metadata": {},
   "source": [
    "（2）将拉普拉斯变换法得出的系统的运动微分方程的解析解做成动画模拟。"
   ]
  },
  {
   "cell_type": "markdown",
   "metadata": {},
   "source": [
    "（3）学习快速傅里叶变换法和拉普拉斯变换法的用法"
   ]
  },
  {
   "cell_type": "markdown",
   "metadata": {},
   "source": [
    "### 第6题\n",
    "推导本章中陀螺的运动微分方程组和变换关系. 对不同的初始条件同时画出描述陀螺的章动角、进动角和自传角的位移, 速度和加速度随时间演变图形."
   ]
  },
  {
   "cell_type": "code",
   "execution_count": null,
   "metadata": {},
   "outputs": [],
   "source": []
  },
  {
   "cell_type": "markdown",
   "metadata": {},
   "source": [
    "### 第13题\n",
    "计算有限深方势阱内能级, 并与量子力学教材中的解析解对比."
   ]
  },
  {
   "cell_type": "markdown",
   "metadata": {},
   "source": [
    "### 第14题\n",
    "用指令bvp计算简谐振子的最低的两个能级."
   ]
  },
  {
   "cell_type": "markdown",
   "metadata": {},
   "source": [
    "### 5.10.3 一维定态薛定谔方程的定态解"
   ]
  },
  {
   "cell_type": "code",
   "execution_count": 34,
   "metadata": {},
   "outputs": [],
   "source": [
    "def V(x): #定义势阱函数\n",
    "    #return -10*np.ones(x.size)\n",
    "\treturn x*x*0.5-1\n",
    "\n",
    "def f(y, x, e1):#定义微分方程组\n",
    "\treturn (y[1], 50**2*(-e1+V(x))*y[0])\n",
    "\n",
    "def TurningPoint(e,x):\n",
    "    \"\"\"计算matching Point, 一般选择势能和动能相等的点\"\"\"\n",
    "    q = 2*(e-V(x))\n",
    "    for i in range(q.size-1):\n",
    "        if q[i]*q[i+1]<0 and q[i]>0:\n",
    "            return x[i]"
   ]
  },
  {
   "cell_type": "code",
   "execution_count": 36,
   "metadata": {},
   "outputs": [
    {
     "name": "stdout",
     "output_type": "stream",
     "text": [
      "[-0.9858578772267135, -0.957574531870769, -0.929289327337932, -0.901005751503769]\n"
     ]
    },
    {
     "data": {
      "image/png": "[encoded data removed]",
      "text/plain": [
       "<Figure size 432x288 with 4 Axes>"
      ]
     },
     "metadata": {
      "needs_background": "light"
     },
     "output_type": "display_data"
    }
   ],
   "source": [
    "x = np.linspace(-1,1,501) #为求接合点设置x数组\n",
    "n = 4  #求4个能级\n",
    "eold = -1  #初始搜寻能级\n",
    "olddpsi =  0.5 #转折点初始一阶导数\n",
    "tol = 1e-6\n",
    "e = [] #记录本征值\n",
    "for k in range(1,n+1):\n",
    "\tde = 2 * tol\n",
    "\te1 = eold + abs(eold)/100 #能级搜索\n",
    "\tkk = (-1)**(k+1)*0.0001  #导数初值\n",
    "\twhile abs(de) > tol:\n",
    "\t\txturn = TurningPoint(e1,x)  #选择matching point: E=V(x)的点\n",
    "\t\txl = np.linspace(-1, xturn, 100)  #从左向右的x\n",
    "\t\txr = np.linspace(1, xturn, 100)   #从右向左的x\n",
    "\t\tul = odeint(f, [0, kk], xl, args=(e1,))  #从左向右积分\n",
    "\t\tur = odeint(f, [0, -0.0001], xr, args=(e1,))   #从右向左积分\n",
    "\t\tdpsi = ul[-1,1] - ur[-1,1]    #使波函数的一阶导数连续, 波函数的连续性通过在转折点的调整来实现\n",
    "\t\tde = -dpsi*de/(dpsi-olddpsi)\n",
    "\t\tolddpsi, eold = dpsi,e1\n",
    "\t\te1 = e1 + de\n",
    "\te.append(eold)\n",
    "\tplt.subplot(2,2,k)\n",
    "\tplt.plot(xl, ul[:,0], xr, ur[:,0])\n",
    "print(e)"
   ]
  },
  {
   "cell_type": "code",
   "execution_count": null,
   "metadata": {},
   "outputs": [],
   "source": []
  }
 ],
 "metadata": {
  "kernelspec": {
   "display_name": "Python 3",
   "language": "python",
   "name": "python3"
  },
  "language_info": {
   "codemirror_mode": {
    "name": "ipython",
    "version": 3
   },
   "file_extension": ".py",
   "mimetype": "text/x-python",
   "name": "python",
   "nbconvert_exporter": "python",
   "pygments_lexer": "ipython3",
   "version": "3.8.5"
  }
 },
 "nbformat": 4,
 "nbformat_minor": 2
}
