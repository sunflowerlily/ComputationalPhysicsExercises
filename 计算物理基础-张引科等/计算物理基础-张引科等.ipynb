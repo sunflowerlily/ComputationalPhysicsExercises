{
 "cells": [
  {
   "cell_type": "markdown",
   "id": "9d3f9345-fe5f-4c63-b507-19a94543617d",
   "metadata": {},
   "source": [
    "### 习题 3.7\n",
    "\n",
    "已知函数数据表\n",
    "\n",
    "| $x_i$    | 1.1    | 1.3    | 1.5    |\n",
    "| -------- | ------ | ------ | ------ |\n",
    "| $f(x_i)$ | 3.0042 | 3.6693 | 4.4817 |\n",
    "\n",
    "试分别用梯形积分公式和辛普森积分公式计算$\\int_{1.1}^{1.5}f(x)dx$, 并与积分$\\int_{1.1}^{1.5}e^xdx$比较"
   ]
  },
  {
   "cell_type": "code",
   "execution_count": 7,
   "id": "9caa378a-1a8d-4cc7-9d96-5c84a6d8a26a",
   "metadata": {},
   "outputs": [
    {
     "name": "stdout",
     "output_type": "stream",
     "text": [
      "梯形积分结果: 1.4824\n"
     ]
    }
   ],
   "source": [
    "import numpy as np\n",
    "\n",
    "# 给定数据表\n",
    "x = [1.1, 1.3, 1.5]\n",
    "f = [3.0042, 3.6693, 4.4817]\n",
    "\n",
    "# 梯形积分计算\n",
    "a = 1.1\n",
    "b = 1.5\n",
    "n = 2  # 区间等分成2个小区间\n",
    "h = (b - a) / n\n",
    "\n",
    "trap_integral = (h/2) * (f[0] + f[-1] + 2*sum(f[1:-1]))\n",
    "print(f\"梯形积分结果: {trap_integral:.4f}\")"
   ]
  },
  {
   "cell_type": "code",
   "execution_count": 8,
   "id": "1f23cc6e-d0ec-452d-bcb3-fbb7db282bb2",
   "metadata": {},
   "outputs": [
    {
     "name": "stdout",
     "output_type": "stream",
     "text": [
      "辛普森积分结果: 1.4775\n"
     ]
    }
   ],
   "source": [
    "# 辛普森积分计算\n",
    "a = 1.1\n",
    "b = 1.5\n",
    "n = 2  # 区间等分成2个小区间\n",
    "h = (b - a) / n\n",
    "\n",
    "simpson_integral = (h/3) * (f[0] + f[-1] + 4*sum(f[1:-1:2]) + 2*sum(f[2:-2:2]))\n",
    "print(f\"辛普森积分结果: {simpson_integral:.4f}\")"
   ]
  },
  {
   "cell_type": "code",
   "execution_count": 4,
   "id": "19faee97-042a-464d-816b-6aeaf9dfc0c8",
   "metadata": {},
   "outputs": [
    {
     "name": "stdout",
     "output_type": "stream",
     "text": [
      "解析积分结果: 1.4775\n"
     ]
    }
   ],
   "source": [
    "# 解析积分计算\n",
    "a = 1.1\n",
    "b = 1.5\n",
    "ana_integral = (np.exp(b) - np.exp(a))\n",
    "print(f\"解析积分结果: {ana_integral:.4f}\")"
   ]
  },
  {
   "cell_type": "markdown",
   "id": "297d1496-d7d0-4a6b-ae8d-601bfdb01c3d",
   "metadata": {},
   "source": [
    "### 习题 17\n",
    "\n",
    "以大角度振动单摆的振动周期是：\n",
    "$$ T = \\frac{2T_0}{\\pi} \\int_0^{\\frac{\\pi}{2}}{\\frac{d\\theta}{\\sqrt{1 - \\sin^2(\\frac{\\theta_0}{2}) \\sin^2 \\theta}} }$$\n",
    "式中，$T_0 = 2\\pi\\sqrt{l/g}$ 是摆角幅值 $\\theta_0$ 很小时单摆振动的周期，$m$ 为摆球质量，$l$ 为摆长，$g$ 为重力加速度。试用变步长梯形积分方法计算数值积分(要求精度为 $10^{-5}$).\n",
    "\n",
    "1. 分别求出当$\\theta_0 (^\\circ)$为[1,3,5,7,10,15,20,25]时对应的$T/T_0$的值，\n",
    "2. 确定 $|T - T_0|/T_0 = 0.05$ 时，$\\theta_0$ 的近似值。"
   ]
  },
  {
   "cell_type": "code",
   "execution_count": 48,
   "id": "a2fcfe22-fb6c-4761-a962-f5ca4f6beaf8",
   "metadata": {},
   "outputs": [
    {
     "data": {
      "text/plain": [
       "[<matplotlib.lines.Line2D at 0x136142b90>]"
      ]
     },
     "execution_count": 48,
     "metadata": {},
     "output_type": "execute_result"
    },
    {
     "data": {
      "image/png": "[encoded data removed]",
      "text/plain": [
       "<Figure size 640x480 with 1 Axes>"
      ]
     },
     "metadata": {},
     "output_type": "display_data"
    }
   ],
   "source": [
    "import numpy as np, matplotlib.pyplot as plt\n",
    "def trapezoid(f,a,b,N,theta0):\n",
    "    h = (b-a)/N\n",
    "    s = 0.5*f(a,theta0) + 0.5*f(b,theta0)\n",
    "    for k in range(1,N):\n",
    "        s += f(a+k*h,theta0)\n",
    "    return(h*s)\n",
    "#Adaptive integration\n",
    "def ada_int(f, a, b, tol=1.0e-5, n=5, N=10, theta0=1):\n",
    "    area = trapezoid(f, a, b, N, theta0) #梯形积分函数\n",
    "    check = trapezoid(f, a, b, n, theta0)\n",
    "    if abs(area - check) > tol: #3\\epsilon\n",
    "        # bad accuracy, add more points to interval\n",
    "        m = (b + a) / 2.0\n",
    "        area = ada_int(f, a, m, theta0) + ada_int(f, m, b, theta0)\n",
    "    return area\n",
    "def f(theta, theta0):\n",
    "    return 2 / np.sqrt(1 - np.sin(theta0/2)**2 * np.sin(theta)**2)/np.pi\n",
    "\n",
    "\n",
    "theta0 = np.array([1,3,5,7,10,15,20,25])*np.pi/180.\n",
    "\n",
    "l = 1\n",
    "g = 9.8\n",
    "T0 = 2*np.pi*np.sqrt(l/g)\n",
    "T2T0 = np.zeros_like(theta0)\n",
    "for i, each in enumerate(theta0):\n",
    "    T2T0[i] = ada_int(f, 0, np.pi/2, theta0 = each)\n",
    "\n",
    "plt.plot(np.rad2deg(theta0), T2T0)\n"
   ]
  },
  {
   "cell_type": "code",
   "execution_count": 49,
   "id": "ba1f083a-1e6f-4707-89b1-c294cc768540",
   "metadata": {},
   "outputs": [
    {
     "name": "stdout",
     "output_type": "stream",
     "text": [
      "50\n",
      "1.0497829606230324\n"
     ]
    }
   ],
   "source": [
    "t2t0 = 2\n",
    "theta = 25\n",
    "while np.abs(t2t0-1-0.05)>1e-3:\n",
    "    t2t0 = ada_int(f,0,np.pi/2,theta0=theta*np.pi/180)\n",
    "    theta = theta + 1\n",
    "print(theta-1)\n",
    "print(t2t0)"
   ]
  },
  {
   "cell_type": "code",
   "execution_count": null,
   "id": "d8f1ab1c-51de-4bc8-b25c-6fd1ce4b1ba1",
   "metadata": {},
   "outputs": [],
   "source": []
  }
 ],
 "metadata": {
  "kernelspec": {
   "display_name": "Python 3 (ipykernel)",
   "language": "python",
   "name": "python3"
  },
  "language_info": {
   "codemirror_mode": {
    "name": "ipython",
    "version": 3
   },
   "file_extension": ".py",
   "mimetype": "text/x-python",
   "name": "python",
   "nbconvert_exporter": "python",
   "pygments_lexer": "ipython3",
   "version": "3.11.8"
  }
 },
 "nbformat": 4,
 "nbformat_minor": 5
}
