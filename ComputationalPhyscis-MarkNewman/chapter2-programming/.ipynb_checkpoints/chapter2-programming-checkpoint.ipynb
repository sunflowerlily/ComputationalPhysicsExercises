{
 "cells": [
  {
   "cell_type": "markdown",
   "metadata": {},
   "source": [
    "#### 练习 2.1：从塔上掉落的另一个球\n",
    "一个球从高度为$h$米的塔上以初始速度零掉落。编写一个程序，要求用户输入塔的高度（以米为单位），然后计算并打印球落地所需的时间，忽略空气阻力。使用你的程序计算从100米高的塔上掉落的球所需的时间。"
   ]
  },
  {
   "cell_type": "markdown",
   "metadata": {},
   "source": [
    "#### 练习 2.2：卫星的轨道高度\n",
    "一颗卫星将被发射到围绕地球的圆形轨道上，以便它每$T$秒绕地球一周。\n",
    "\n",
    "a) 证明卫星必须具有的地球表面上方高度$h$是\n",
    "$$\n",
    "h = \\biggl( {GMT^2\\over4\\pi^2} \\biggr)^{1/3} - R,\n",
    "$$\n",
    "其中$G=6.67\\times10^{-11}\\,\\textrm{m}^3\\,\\textrm{kg}^{-1}\\,\\textrm{s}^{-2}$  是牛顿的引力常数，$M=5.97\\times10^{24}\\,$kg 是地球的质量，$R = 6371\\,$km 是它的半径。\n",
    "\n",
    "b) 编写一个程序，要求用户输入期望的T值，然后计算并打印出正确的高度（以米为单位）。\n",
    "\n",
    "c) 使用你的程序计算每天（所谓的“地球同步”轨道）、每90分钟和每45分钟绕地球一周的卫星的轨道高度。你从这些计算中得出什么结论？\n",
    "\n",
    "d) 技术上讲，地球同步卫星是每恒星日（即23.93小时，而不是24小时）绕地球一周的卫星。这是为什么？这会对卫星的轨道高度产生多少影响？"
   ]
  },
  {
   "cell_type": "markdown",
   "metadata": {},
   "source": [
    "##### 解\n",
    "下面，让我们来用Python编写用于计算卫星轨道高度的程序"
   ]
  },
  {
   "cell_type": "code",
   "execution_count": 11,
   "metadata": {},
   "outputs": [
    {
     "name": "stdin",
     "output_type": "stream",
     "text": [
      "Enter the period of the satellite in minutes:  90\n"
     ]
    },
    {
     "name": "stdout",
     "output_type": "stream",
     "text": [
      "卫星轨道高度为 279321.6253728606 米.\n"
     ]
    }
   ],
   "source": [
    "import math\n",
    "\n",
    "def satellite_altitude(T):\n",
    "    G = 6.67e-11\n",
    "    M = 5.97e24\n",
    "    R = 6371e3\n",
    "    T = T * 60  # convert T from minutes to seconds\n",
    "\n",
    "    h = ((G*M*T**2)/(4*math.pi**2))**(1/3) - R\n",
    "    return h\n",
    "\n",
    "# get user input\n",
    "T = float(input(\"Enter the period of the satellite in minutes: \"))\n",
    "\n",
    "# compute and print the altitude\n",
    "h = satellite_altitude(T)\n",
    "print(f\"卫星轨道高度为 {h} 米.\")"
   ]
  },
  {
   "cell_type": "markdown",
   "metadata": {},
   "source": [
    "### Exercise 2.3 \n",
    "编写一个程序，执行与例2.2相反的操作。即，要求用户输入二维空间中一个点的笛卡尔坐标$x, y$，并计算并打印相应的极坐标，角度$\\theta$以度为单位给出。\n",
    "\n"
   ]
  },
  {
   "cell_type": "code",
   "execution_count": 13,
   "metadata": {},
   "outputs": [
    {
     "name": "stdin",
     "output_type": "stream",
     "text": [
      "Enter a x: 3\n",
      "Enter a y: 5\n"
     ]
    },
    {
     "name": "stdout",
     "output_type": "stream",
     "text": [
      "r =  5.830951894845301 theta =  59.03624346792648\n"
     ]
    }
   ],
   "source": [
    "#解：\n",
    "import math\n",
    "x = float(input(\"Enter a x:\"))\n",
    "y = float(input(\"Enter a y:\"))\n",
    "r = math.sqrt(x*x+y*y)\n",
    "theta = math.atan(y/x)*180/math.pi\n",
    "print(\"r = \",r,\"theta = \", theta)"
   ]
  },
  {
   "cell_type": "markdown",
   "metadata": {},
   "source": [
    "### Exercise 2.4"
   ]
  },
  {
   "cell_type": "markdown",
   "metadata": {},
   "source": [
    "一艘宇宙飞船从地球出发，以相对论速度$v$沿直线向$x$光年以外的另一个行星运动。写程序使用户输入$x$的值和速度$v$,这里$v$是相对于光速的比率，输出到达目的地需要的时间(以年为单位), (a) 在地球上观察值的静止坐标系；(b) 在飞船乘客的移动坐标系. 设行星位于10光年处，光速为$v=0.99c$."
   ]
  },
  {
   "cell_type": "markdown",
   "metadata": {},
   "source": [
    "(a)在地面参考系，运动时间$$t=l/v,$$\n",
    "\n",
    "(b)在飞船坐标系\n",
    "首先求洛伦兹因子\n",
    "$$\\gamma=\\frac{1}{\\sqrt{1-v^2/c^2}},$$\n",
    "在飞船坐标系，距离等于$$l= l_0/\\gamma,$$ 运动时间$$t=l/v$$"
   ]
  },
  {
   "cell_type": "markdown",
   "metadata": {},
   "source": [
    "##### 解：https://nb.anaconda.cloud/"
   ]
  },
  {
   "cell_type": "code",
   "execution_count": 5,
   "metadata": {},
   "outputs": [
    {
     "name": "stdout",
     "output_type": "stream",
     "text": [
      "Time for the observer on Earth: 500.00 years\n",
      "Time for the passenger on board the spaceship: 500.03 years\n"
     ]
    }
   ],
   "source": [
    "c = 1  # Speed of light in appropriate units\n",
    "\n",
    "# Ask the user for the value of x and the speed v as a fraction of the speed of light c\n",
    "x = 5\n",
    "v = 0.01\n",
    "\n",
    "# Calculate the time in years for the observer on Earth\n",
    "t_earth = x / v\n",
    "\n",
    "# Calculate the time in years for the passenger on board the spaceship\n",
    "t_ship = x / (v * (1 - v**2)**0.5)\n",
    "\n",
    "# Print out the time in years for both perspectives\n",
    "print(f\"Time for the observer on Earth: {t_earth:.2f} years\")\n",
    "print(f\"Time for the passenger on board the spaceship: {t_ship:.2f} years\")"
   ]
  },
  {
   "cell_type": "markdown",
   "metadata": {},
   "source": [
    "#### 宇宙线中的$\\pi$介子的运动距离\n",
    "\n",
    "已知静止$\\pi$介子的寿命是$\\tau_0$, 宇宙线中$\\pi$介子的速度为$v$, 求在地面上看$\\pi$运动的距离."
   ]
  },
  {
   "cell_type": "markdown",
   "metadata": {},
   "source": [
    "解: 在地面上看, $\\pi$介子的寿命为$\\gamma\\tau_0$, 运动距离为$v\\gamma\\tau_0$."
   ]
  },
  {
   "cell_type": "markdown",
   "metadata": {},
   "source": [
    "### Exercise 2.5\n",
    "\n",
    "**量子势垒台阶**\n",
    "\n",
    "一个著名的量子力学问题涉及一个质量为m的粒子遇到一个一维势垒台阶，如下所示：\n",
    "\n",
    "<img src=\"qstep.png\" alt=\"qstep\" title=\"qstep\" width=300>\n",
    "\n",
    "具有初始动能$E$和波矢$k_1=\\sqrt{2mE}/\\hbar$的粒子从左侧进入，在位置$x = 0$处遇到势能突然跳跃$V$。通过解薛定谔方程，我们可以证明当$E > V$时，粒子可以\n",
    "\n",
    "（a）通过台阶，此时它在另一侧具有较低的动能$E - V$和相应的较小波矢$k_2=\\sqrt{2m(E-V)}/\\hbar$，或者\n",
    "\n",
    "（b）它可以被反射，保持其所有动能和不变的波矢，但方向相反。透射和反射的概率$T$和$R$由以下公式给出：\n",
    "$$\n",
    "T = {4k_1k_2\\over(k_1+k_2)^2}\\,,\\qquad\n",
    "R = \\biggl( {k_1-k_2\\over k_1+k_2} \\biggr)^2.\n",
    "$$\n",
    "\n",
    "假设我们有一个质量等于电子质量$m=9.11\\times10^{-31}\\,$kg的粒子，能量为$10\\,$eV，遇到一个高度为$9\\,$eV的势垒台阶。编写一个Python程序，使用上述公式计算并打印透射和反射概率。"
   ]
  },
  {
   "cell_type": "code",
   "execution_count": 3,
   "metadata": {},
   "outputs": [
    {
     "name": "stdout",
     "output_type": "stream",
     "text": [
      "Transmission probability (T): 0.7301\n",
      "Reflection probability (R): 0.2699\n"
     ]
    }
   ],
   "source": [
    "import math\n",
    "\n",
    "# Given values\n",
    "m = 9.11e-31  # Mass of the particle (kg)\n",
    "E = 10 * 1.60218e-19  # Energy in joules (10 eV)\n",
    "V = 9 * 1.60218e-19  # Potential energy of the barrier in joules (9 eV)\n",
    "\n",
    "# Calculate the wave vectors\n",
    "k1 = math.sqrt(2 * m * E / 6.626e-34)  # Planck's constant h = 6.626e-34\n",
    "k2 = math.sqrt(2 * m * (E - V) / 6.626e-34)\n",
    "\n",
    "# Calculate the transmission and reflection probabilities\n",
    "T = 4 * k1 * k2 / (k1 + k2)**2\n",
    "R = abs(k1 - k2)**2 / (k1 + k2)**2\n",
    "\n",
    "# Print the transmission and reflection probabilities\n",
    "print(f\"Transmission probability (T): {T:.4f}\")\n",
    "print(f\"Reflection probability (R): {R:.4f}\")"
   ]
  },
  {
   "cell_type": "markdown",
   "metadata": {},
   "source": [
    "### Exercise 2.6\n",
    "\n",
    "#### 行星轨道\n",
    "一个天体围绕另一个天体（如行星围绕太阳）的空间轨道不一定是圆形的。一般来说，它呈椭圆形，天体有时更接近，有时更远。如果你被给定了行星最接近太阳的距离$\\ell_1$ (也称为近日点），以及它在近日点的线速度$v_1$，那么可以从这两个参数计算出轨道的任何其他属性，如下所示。\n",
    "\n",
    "a) 开普勒第二定律告诉我们，行星在其最远点（或远日点）的距离$\\ell_2$和速度$v_2$满足$\\ell_2 v_2 = \\ell_1 v_1$。同时，一个距离太阳距离$r$, 速度为$v$的行星的总能量（动能加引力势能）由以下公式给出：\n",
    "$$\n",
    "E = \\frac{1}{2} m v^2 - G {mM\\over r},\n",
    "$$\n",
    "其中$m$是行星的质量，$M=1.9891\\times10^{30}\\,$kg 是太阳的质量，$G=6.6738\\times10^{-11}\\,\\mathrm{m^3\\,kg^{-1}\\,s^{-2}}$是牛顿的引力常数。鉴于能量必须守恒，证明$v_2$是二次方程\n",
    "$$\n",
    "v_2^2 - {2GM\\over v_1\\ell_1} v_2 - \\biggl[ v_1^2 - {2GM\\over\\ell_1}\n",
    "  \\biggr] = 0.\n",
    "$$\n",
    "的较小根。\n",
    "\n",
    "一旦我们有了$v_2$，我们可以使用关系$\\ell_2 =\n",
    "\\ell_1 v_1/v_2$来计算$\\ell_2$。\n",
    "\n",
    "b) 给定$v_1$, $\\ell_1$,和$\\ell_2$的值，轨道的其他参数可以通过从开普勒定律和轨道是椭圆形的事实推导出的简单公式给出：\n",
    "\\begin{align*}\n",
    "\\textrm{半长轴:} \\qquad a &= \\frac{1}{2}(\\ell_1+\\ell_2), \\\\\n",
    "\\textrm{半短轴:} \\qquad b &= \\sqrt{\\ell_1\\ell_2}\\,, \\\\\n",
    "\\textrm{轨道周期:} \\hspace{1.80em}\n",
    "  T &= {2\\pi ab\\over\\ell_1 v_1}\\,, \\\\\n",
    "\\textrm{轨道偏心率:} \\qquad e &=\n",
    "  {\\ell_2-\\ell_1\\over\\ell_2+\\ell_1}.\n",
    "\\end{align*}\n",
    "编写一个程序，要求用户输入近日点的距离和速度，然后计算并打印$\\ell_2$, $v_2$, $T$, 和$e$的值。\n",
    "\n",
    "\n",
    "c) 通过让你的程序计算地球（$\\ell_1=1.4710\\times10^{11}\\,$m，$v_1=3.0287\\times10^4\\,\\mathrm{m\\,s^{-1}}$）和哈雷彗星（$\\ell_1=8.7830\\times10^{10}\\,$m，$v_1=5.4529\\times10^4\\,\\mathrm{m\\,s^{-1}}$）的轨道属性来测试你的程序。你会发现，地球的轨道周期是一年，哈雷彗星的周期大约是76年。"
   ]
  },
  {
   "cell_type": "markdown",
   "metadata": {},
   "source": [
    "##### 解：\n",
    "首先，我们需要理解这个问题的背景知识。这个问题是基于开普勒第二定律以及牛顿的万有引力定律进行讨论的。下面我将具体解释一下这个问题：\n",
    "\n",
    "1. 根据开普勒第二定律，行星沿椭圆轨道行进的速度会随着其到太阳的距离改变，即在靠近太阳的地方速度加快，而在远离太阳的地方速度减慢。这就是为什么轨道近日点的速度$v_1$和远日点的速度$v_2$满足$\\ell_2v_2=\\ell_1v_1$。\n",
    "2. 牛顿的万有引力定律告诉我们引力势能$E_p=-G\\dfrac{Mm}{r}$, 其中$r$是行星到太阳的距离，$m$是行星的质量，$M$是太阳的质量，$G$是万有引力常数。\n",
    "3. 动能$E_k=\\dfrac{1}{2}mv^2$，其中$v$是行星的速度，$m$是行星的质量。\n",
    "4. 在没有外力作用下，一个系统的动能和势能之和（也就是总能量）是恒定的。所以我们有：\n",
    "   $$E=E_k+E_p=\\frac{1}{2}mv^2-G\\frac{Mm}{r}=\\mbox{常数}$$\n",
    "在近日点和远日点，由于总能量守恒，所以有$E_1=E_2$，也就是 $$\\frac{1}{2} m v_1^2 - G {mM\\over \\ell_1} = \\frac{1}{2} m v_2^2 - G {mM\\over \\ell_2} $$\n",
    "将$\\ell_2v_2=\\ell_1v_1$带入上述等式，我们就可以得到一个只有$v_2$的二次方程，\n",
    "$$\n",
    "v_2^2 - {2GM\\over v_1\\ell_1} v_2 - \\biggl[ v_1^2 - {2GM\\over\\ell_1}\n",
    "  \\biggr] = 0.\n",
    "$$\n",
    "从而求得$v_2$的值。\n",
    "在学习计算物理过程中，懂得如何使用数值方法求解这类基于物理定律的二次方程十分重要。\n",
    "现在，我将利用Python代码演示如何基于上述数学模型来求解"
   ]
  },
  {
   "cell_type": "markdown",
   "metadata": {},
   "source": [
    "### Exercise 2.7\n",
    "#### 卡特兰数\n",
    "卡特兰数$C_n$是一个整数序列1, 1, 2, 5, 14, 42, 132...，在量子力学和无序系统理论中起着重要作用。（它们是尤金·维格纳证明所谓的半圆定律的核心。）它们由以下公式给出：\n",
    "$$\n",
    "C_0 = 1,\\qquad C_{n+1} = {4n+2\\over n+2}\\,C_n.\n",
    "$$\n",
    "编写一个程序，按递增顺序打印所有小于或等于十亿的卡特兰数。"
   ]
  },
  {
   "cell_type": "code",
   "execution_count": 7,
   "metadata": {},
   "outputs": [
    {
     "name": "stdout",
     "output_type": "stream",
     "text": [
      "1 1 2 5 14 42 132 429 1430 4862 16796 58786 208012 742900 2674440 9694845 35357670 129644790 477638700 "
     ]
    }
   ],
   "source": [
    "n = 0\n",
    "xi = 1\n",
    "while xi < 10**9:\n",
    "    print(xi, end=' ')\n",
    "    xi = xi*(4*n+2)//(n+2)\n",
    "    n += 1"
   ]
  },
  {
   "cell_type": "markdown",
   "metadata": {},
   "source": [
    "### Exercise 2.8 \n",
    "\n",
    "假设数组a和b定义如下："
   ]
  },
  {
   "cell_type": "code",
   "execution_count": 9,
   "metadata": {},
   "outputs": [],
   "source": [
    "from numpy import array\n",
    "a = array([1,2,3,4],int)\n",
    "b = array([2,4,6,8],int)"
   ]
  },
  {
   "cell_type": "markdown",
   "metadata": {},
   "source": [
    "当执行以下代码行时，计算机将打印什么？（在尝试在计算机上运行之前，尝试找出答案。）"
   ]
  },
  {
   "cell_type": "code",
   "execution_count": 10,
   "metadata": {},
   "outputs": [
    {
     "name": "stdout",
     "output_type": "stream",
     "text": [
      "[3. 3. 3. 3.]\n",
      "[1.         1.33333333 1.5        1.6       ]\n",
      "[1.         0.5        0.33333333 0.25      ]\n"
     ]
    }
   ],
   "source": [
    "print(b/a+1)\n",
    "print(b/(a+1))\n",
    "print(1/a)"
   ]
  },
  {
   "cell_type": "markdown",
   "metadata": {},
   "source": [
    "#### 练习 2.9：马德隆常数 (The Madelung constant)\n",
    "\n",
    "在凝聚态物理学中，马德隆常数给出了固体中原子所感受到的总电势。它取决于附近其他原子的电荷及其位置。\n",
    "\n",
    "例如，考虑固体氯化钠——食盐。氯化钠晶体的原子排列在立方晶格上，但钠和氯原子交替排列，钠原子具有单个正电荷$+e$，氯原子具有单个负电荷$-e$，其中$e$是电子的电荷。如果我们用三个整数坐标$(i, j, k)$标记晶格上的每个位置，那么钠原子位于$i + j + k$为偶数的位置，氯原子位于$i + j + k$为奇数的位置。考虑原点处的钠原子，$i = j = k = 0$，并让我们计算马德隆常数。如果晶格上原子的间距为$a$，那么从原点到位置$(i, j, k)$的原子的距离是\n",
    "$$\n",
    "\\sqrt{(ia)^2 + (ja)^2 + (ka)^2} = a \\sqrt{i^2+j^2+k^2},\n",
    "$$\n",
    "由这样的原子在原点产生的势能是\n",
    "$$\n",
    "V(i,j,k) = \\pm {e\\over4\\pi\\epsilon_0 a\\sqrt{i^2+j^2+k^2}},\n",
    "$$\n",
    "其中$\\epsilon_0$是真空的介电常数，表达式的符号取决于$i + j + k$是偶数还是奇数。钠原子所感受到的总势能是所有其他原子的这个量的总和。让我们假设在原点的钠原子周围有一个立方体盒子，所有方向上有$L$个原子。那么\n",
    "$$\n",
    "V_\\textrm{total} = \\sum_{\\substack{i,j,k=-L\\\\ \\textrm{not }i=j=k=0}}^L\n",
    "                   \\hspace{-0.5em} V(i,j,k)\n",
    "                 = {e\\over4\\pi\\epsilon_0 a}\\,M,\n",
    "$$\n",
    "其中$M$是马德隆常数，至少近似地——技术上，马德隆常数是当$L\\to\\infty$时$M$的值，但通过使用一个较大的$L$值，我们可以得到一个很好的近似值。\n",
    "\n",
    "编写一个程序来计算并打印氯化钠的马德隆常数。使用尽可能大的$L$值，同时确保你的程序能在合理的时间内运行——比如说一分钟内。\n"
   ]
  },
  {
   "cell_type": "code",
   "execution_count": 40,
   "metadata": {},
   "outputs": [
    {
     "name": "stdout",
     "output_type": "stream",
     "text": [
      "[1.7475686037717892, 1.7475648452181796, 1.7475646441313486, 1.7475646102945983, 1.7475646010482142, 1.7475645977276646, 1.7475645963045872, 1.7475645956144015, 1.7475645952474654]\n"
     ]
    },
    {
     "data": {
      "image/png": "[encoded data removed]",
      "text/plain": [
       "<Figure size 432x288 with 1 Axes>"
      ]
     },
     "metadata": {
      "needs_background": "light"
     },
     "output_type": "display_data"
    }
   ],
   "source": [
    "from math import sqrt\n",
    "import matplotlib.pyplot as plt\n",
    "L = 28\n",
    "def Madelung(L):\n",
    "    M = 0\n",
    "    for i in range(-L,L):\n",
    "        for j in range(-L, L):\n",
    "            for k in range(-L, L):\n",
    "                if i == 0 and j == 0 and k == 0: \n",
    "                    continue\n",
    "                M += (-1)**(i+j+k+1)/sqrt(i*i+j*j+k*k)\n",
    "    return(M)\n",
    "\n",
    "L = [i for i in range(10,100,10)]\n",
    "M = [Madelung(i) for i in L]\n",
    "plt.plot(L,M,'ro-')\n",
    "print(M)"
   ]
  },
  {
   "cell_type": "markdown",
   "metadata": {},
   "source": [
    "#### 练习 2.10：半经验质量公式\n",
    "在核物理学中，半经验质量公式是用于计算原子核的近似核结合能$B$的公式，原子核的原子序数为$Z$，质量数为$A$：\n",
    "$$\n",
    "B = a_1 A - a_2 A^{2/3} - a_3 {Z^2\\over A^{1/3}}\n",
    "    - a_4 {(A - 2Z)^2\\over A} + {a_5\\over A^{1/2}}\\,,\n",
    "$$\n",
    "其中，以百万电子伏特为单位，常数是 $a_1=15.8$, $a_2=18.3$, $a_3=0.714$, $a_4=23.2$, 以及\n",
    "$$\n",
    "a_5 = \\left\\lbrace\\begin{array}{ll}\n",
    "      0     &\\quad\\mbox{如果 $A$ 是奇数,} \\\\\n",
    "      12.0  &\\quad\\mbox{如果 $A$ 和 $Z$ 都是偶数,} \\\\\n",
    "      -12.0 &\\quad\\mbox{如果 $A$ 是偶数且 $Z$是奇数.}\n",
    "      \\end{array}\\right.\n",
    "$$\n",
    "\n",
    "a) 编写一个程序，接受$A$和$Z$的值作为输入，并打印出相应原子的结合能。使用你的程序找到$A = 58$和$Z = 28$的原子的结合能。（提示：正确答案大约是490 MeV。）\n",
    "\n",
    "b) 修改你的程序，不打印总结合能$B$，而是打印每个核子的结合能，即$B/A$。\n",
    "\n",
    "c) 现在修改你的程序，使其只接受一个原子序数Z的值作为输入，然后遍历从$A = Z$到$A = 3Z$的所有$A$值，找到具有最大每个核子结合能的值。这是给定原子序数的最稳定核。让你的程序打印出这个最稳定核的$A$值和每个核子的结合能。\n",
    "\n",
    "d) 再次修改你的程序，使其不是接受$Z$作为输入，而是运行从1到100的所有$Z$值，并打印出每个$Z$的最大结合能的$A$值。在哪个$Z$值下，每个核子的最大结合能发生？（在现实生活中，真正的答案是$Z = 28$，即镍。）"
   ]
  },
  {
   "cell_type": "markdown",
   "metadata": {},
   "source": [
    "#### 2.11 二项式系数\n",
    "二项式系数${n\\choose k}$是一个整数，等于\n",
    "$$\n",
    "{n\\choose k} = {n!\\over k!(n-k)!}\n",
    "  = {n\\times(n-1)\\times(n-2)\\times\\ldots\\times(n-k+1)\\over\n",
    "     1\\times2\\times\\ldots\\times k}\n",
    "$$当$k\\ge1$时，或者当$k=0$时, ${n\\choose0}=1$.\n",
    "\n",
    "a) 使用这个二项式系数的形式，编写一个用户定义的函数*binomial(n,k)*，计算给定$n$和$k$的二项式系数。确保你的函数以整数形式返回答案（不是浮点数），并且在$k = 0$的情况下给出正确的值1。\n",
    "\n",
    "b) 使用你的函数编写一个程序，打印出“杨辉三角形”的前20行。杨辉三角形的第$n$行包含$n + 1$个数字，这些数字是系数${n\\choose 0}$, ${n\\choose1}$, ... 到${n\\choose n}$。因此，前几行是\n",
    "```\n",
    "1 1 \n",
    "1 2 1 \n",
    "1 3 3 1 \n",
    "1 4 6 4 1\n",
    "```\n",
    "c) 一个公正的硬币，投掷$n$次，正面朝上$k$次的概率是${n\\choose k}/2^n$。编写一个程序来计算（a）投掷100次硬币，正面朝上恰好60次的总概率，以及（b）正面朝上60次或更多次的概率。"
   ]
  },
  {
   "cell_type": "markdown",
   "metadata": {},
   "source": [
    "#### 练习 2.12：质数\n",
    "\n",
    "例2.8中的程序并不是计算质数的非常有效的方法：它检查每个数字是否可被小于它的任何数字整除。我们可以通过利用以下观察结果开发一个更快的质数程序：\n",
    "\n",
    "a) 如果一个数字$n$没有小于$n$的质因数，那么它就是质数。因此，我们只需要检查它是否可被其他质数整除。\n",
    "\n",
    "b) 如果一个数字$n$是非质数，有一个因数$r$，那么$n = rs$，其中$s$也是一个因数。如果$r\\ge\\sqrt{n}$，那么$n = rs \\ge \\sqrt{n}s$，这意味着$s\\le\\sqrt{n}$。换句话说，任何非质数必须有因数，因此也有质因数，小于或等于$\\sqrt{n}$。因此，为了确定一个数字是否是质数，我们只需要检查它的质因数，直到包括$\\sqrt{n}$——如果一个也没有，那么这个数字就是质数。\n",
    "\n",
    "c) 如果我们发现一个小于$\\sqrt{n}$的质因数，那么我们知道这个数字不是质数，因此没有必要进一步检查——我们可以放弃这个数字，转向其他数字。\n",
    "\n",
    "编写一个Python程序，找到所有小于一万的质数。创建一个列表来存储质数，它最初只包含一个质数2。然后对于每个数字$n$从3到10000，检查这个数字是否可被列表中的任何质数整除，直到$\\sqrt{n}$。一旦你找到一个质因数，你就可以停止检查其余的——你知道n不是质数。如果你发现没有小于$\\sqrt{n}$的质因数，那么$n$就是质数，你应该将它添加到列表中。你可以在程序结束时一次性打印出整个列表，或者在找到它们时逐个打印出这些数字。"
   ]
  },
  {
   "cell_type": "code",
   "execution_count": 15,
   "metadata": {},
   "outputs": [
    {
     "name": "stdout",
     "output_type": "stream",
     "text": [
      "[2, 3, 5, 7, 11, 13, 17, 19, 23, 29, 31, 37, 41, 43, 47, 53, 59, 61, 67, 71, 73, 79, 83, 89, 97]\n"
     ]
    }
   ],
   "source": [
    "p = [2]\n",
    "Max = 100\n",
    "for i in range(3,Max):\n",
    "    fac = int(math.sqrt(i)) + 1\n",
    "    for j in range(2,fac):\n",
    "        if i%j == 0:\n",
    "            break\n",
    "    else:\n",
    "        p.append(i) \n",
    "print(p)"
   ]
  },
  {
   "cell_type": "markdown",
   "metadata": {},
   "source": [
    "#### 练习 2.13：递归\n",
    "用户定义函数的一个有用特性是递归，即函数调用自身的能力。例如，考虑以下正整数$n$的阶乘$n!$的定义：\n",
    "$$\n",
    "n! = \\biggl\\lbrace\\begin{array}{ll}\n",
    "  1 & \\qquad\\mbox{if $n=1$,} \\\\\n",
    "  n\\times(n-1)! & \\qquad\\mbox{if $n>1$.}\n",
    "\\end{array}\n",
    "$$\n",
    "这构成了阶乘的完整定义，允许我们计算任何正整数的$n!$的值。我们可以直接使用这个定义来创建一个Python函数来计算阶乘，如下所示："
   ]
  },
  {
   "cell_type": "code",
   "execution_count": null,
   "metadata": {},
   "outputs": [],
   "source": [
    "def factorial(n):\n",
    "    if n==1:\n",
    "        return 1\n",
    "    else:\n",
    "        return n*factorial(n-1)"
   ]
  },
  {
   "cell_type": "markdown",
   "metadata": {},
   "source": [
    "注意，如果$n$不等于1，函数会调用自身来计算$n - 1$的阶乘。这就是递归。如果我们现在说*print(factorial(5))*，计算机将正确地打印出答案120。\n",
    "\n",
    "a) 我们在练习2.7中遇到了卡特兰数$C_n$。通过稍微重新排列，给定的定义可以写成以下形式：\n",
    "$$\n",
    "C_n = \\left\\lbrace\\begin{array}{ll}\n",
    "  \\rule[-9pt]{0pt}{10pt}1 & \\qquad\\mbox{if $n=0$,} \\\\\n",
    "  \\dfrac{4n-2}{n+1}\\,C_{n-1} & \\qquad\\mbox{if $n>0$.}\n",
    "\\end{array}\\right.\n",
    "$$\n",
    "编写一个使用递归的Python函数来计算$C_n$。使用你的函数计算并打印$C_{100}$。"
   ]
  },
  {
   "cell_type": "code",
   "execution_count": 49,
   "metadata": {},
   "outputs": [
    {
     "name": "stdout",
     "output_type": "stream",
     "text": [
      "50901483529087538867798630100308273847121730568\n"
     ]
    }
   ],
   "source": [
    "def Catalan(n):\n",
    "    if n==0:\n",
    "        return 1\n",
    "    else:\n",
    "        return (4*n-2)//(n+1)*Catalan(n-1)\n",
    "print(Catalan(100))"
   ]
  },
  {
   "cell_type": "markdown",
   "metadata": {},
   "source": [
    "b) 欧几里得表明，两个非负整数$m$和$n$的最大公约数$g(m, n)$满足\n",
    "$$\n",
    "g(m,n) = \\biggl\\lbrace\\begin{array}{ll}\n",
    "  m & \\qquad\\mbox{if $n=0$,} \\\\\n",
    "  g(n,m\\>\\textrm{mod}\\>n) & \\qquad\\mbox{if $n>0$.}\n",
    "\\end{array}\n",
    "$$\n",
    "编写一个使用递归的Python函数**g(m,n)**，使用这个公式计算m和n的最大公约数。使用你的函数计算并打印108和192的最大公约数。"
   ]
  },
  {
   "cell_type": "code",
   "execution_count": 54,
   "metadata": {},
   "outputs": [
    {
     "name": "stdout",
     "output_type": "stream",
     "text": [
      "12\n"
     ]
    }
   ],
   "source": [
    "def g(m,n):\n",
    "    if n==0:\n",
    "        return m\n",
    "    else:\n",
    "        return g(n,m%n)\n",
    "print(g(108,192))"
   ]
  },
  {
   "cell_type": "markdown",
   "metadata": {},
   "source": [
    "比较上述部分(a)中卡特兰数的计算与练习2.7的计算，我们可以看到，有可能以两种方式进行计算，直接计算或使用递归。在大多数情况下，如果一个量可以在不使用递归的情况下计算，那么这样做会更快，如果可能的话，我们通常建议采取这条路线。然而，有些计算本质上（或至少更困难）是不可能（或至少更困难）不使用递归的。我们将在本书后面的章节中看到一些例子。"
   ]
  },
  {
   "cell_type": "code",
   "execution_count": null,
   "metadata": {},
   "outputs": [],
   "source": []
  }
 ],
 "metadata": {
  "kernelspec": {
   "display_name": "Python 3 (ipykernel)",
   "language": "python",
   "name": "python3"
  },
  "language_info": {
   "codemirror_mode": {
    "name": "ipython",
    "version": 3
   },
   "file_extension": ".py",
   "mimetype": "text/x-python",
   "name": "python",
   "nbconvert_exporter": "python",
   "pygments_lexer": "ipython3",
   "version": "3.11.6"
  }
 },
 "nbformat": 4,
 "nbformat_minor": 4
}
