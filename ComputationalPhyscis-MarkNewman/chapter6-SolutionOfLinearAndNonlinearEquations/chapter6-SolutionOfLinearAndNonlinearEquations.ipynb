{
 "cells": [
  {
   "cell_type": "code",
   "execution_count": 2,
   "metadata": {},
   "outputs": [],
   "source": [
    "import numpy as np, matplotlib.pyplot as plt"
   ]
  },
  {
   "cell_type": "markdown",
   "metadata": {},
   "source": [
    "## Exercises for Chapter 6\n",
    "\n",
    "```\n",
    "%%%%%%%%%%%%%%%%%%%%%%%%%%%%%%%%%%%%%%%%%%%%%%%%%%%%%%%%%%%%%%%%%%%%%%\n",
    "%%%                                                                %%%\n",
    "%%%     COMPUTATIONAL PHYSICS, M. NEWMAN, CHAPTER 6, EXERCISES     %%%\n",
    "%%%                                                                %%%\n",
    "%%%%%%%%%%%%%%%%%%%%%%%%%%%%%%%%%%%%%%%%%%%%%%%%%%%%%%%%%%%%%%%%%%%%%%\n",
    "```"
   ]
  },
  {
   "cell_type": "markdown",
   "metadata": {},
   "source": [
    "### Exercise 6.1 \n",
    "\n",
    "**A circuit of resistors**\n",
    "\n",
    "  Consider the following circuit of\n",
    "resistors:\n",
    "\n",
    "<img src=\"resistor.png\"  width=300>\n",
    "\n",
    "All the resistors have the same resistance $R$.  The power rail at the top\n",
    "is at voltage $V_+=5\\,$V.  What are the other four voltages, $V_1$\n",
    "to $V_4$?\n",
    "\n",
    "To answer this question we use Ohm's law and the Kirchhoff current\n",
    "law, which says that the total net current flow out of (or into) any\n",
    "junction in a circuit must be zero.  Thus for the junction at\n",
    "voltage $V_1$, for instance, we have\n",
    "$$\n",
    "{V_1-V_2\\over R} + {V_1-V_3\\over R} + {V_1-V_4\\over R} + {V_1-V_+\\over R}\n",
    "= 0,\n",
    "$$\n",
    "or equivalently\n",
    "$$\n",
    "4V_1 - V_2 - V_3 - V_4 = V_+.\n",
    "$$\n",
    "\n",
    "\n",
    "1. Write similar equations for the other three junctions with unknown\n",
    "voltages.\n",
    "1. Write a program to solve the four resulting equations using Gaussian\n",
    "  elimination and hence find the four voltages (or you can modify a program\n",
    "  you already have, such as the program \\verb|gausselim.py| in\n",
    "  Example 6.1)."
   ]
  },
  {
   "cell_type": "markdown",
   "metadata": {},
   "source": [
    "#### 解\n",
    "1. 写出其他链接点的方程\n",
    "\\begin{align}\n",
    "\\frac{V_2-V_1}{R}+\\frac{V_2}{R}+\\frac{V_2-V_4}{R}=0\\\\\n",
    "\\frac{V_3-V_+}{R}+\\frac{V_3-V_1}{R}+\\frac{V_3-V_4}{R}=0\\\\\n",
    "\\frac{V_4}{R}+\\frac{V_4-V_2}{R}+\\frac{V_4-V_1}{R}+\\frac{V_4-V_3}{R}=0\\\\\n",
    "\\end{align}\n",
    "四个节点的所有方程为\n",
    "\\begin{align}\n",
    "4V_1 - V_2 - V_3 - V_4 = V_+\\\\\n",
    "-V_1+3V_2-V_4=0\\\\\n",
    "-V_1+3V_3-V_4=V_+\\\\\n",
    "-V_1-V_2-V_3+4V_4=0\\\\\n",
    "\\end{align}"
   ]
  },
  {
   "cell_type": "markdown",
   "metadata": {},
   "source": [
    "2. 系数矩阵为\n",
    "$$A=\\begin{bmatrix}\n",
    "4&-1&-1&-1\\\\\n",
    "-1&3&0&-1\\\\\n",
    "-1&0&3&-1\\\\\n",
    "-1&-1&-1&4\\\\\n",
    "\\end{bmatrix}\n",
    "$$\n",
    "常数矩阵为\n",
    "$$\n",
    "b=\\begin{bmatrix}\n",
    "5\\\\\n",
    "0\\\\\n",
    "5\\\\\n",
    "0\n",
    "\\end{bmatrix}\n",
    "$$"
   ]
  },
  {
   "cell_type": "code",
   "execution_count": 6,
   "metadata": {},
   "outputs": [
    {
     "data": {
      "text/plain": [
       "array([3.        , 1.66666667, 3.33333333, 2.        ])"
      ]
     },
     "execution_count": 6,
     "metadata": {},
     "output_type": "execute_result"
    }
   ],
   "source": [
    "A = np.array([[4,-1,-1,-1],[-1,3,0,-1],[-1,0,3,-1],[-1,-1,-1,4]])\n",
    "b = np.array([5,0,5,0])\n",
    "np.linalg.solve(A,b)"
   ]
  },
  {
   "cell_type": "markdown",
   "metadata": {},
   "source": [
    "### Exercise 6.2 \n",
    "\n",
    " \n",
    "\n",
    "1. Modify the program \\verb|gausselim.py| in Example 6.1 to incorporate\n",
    "  partial pivoting (or you can write your own program from scratch if you\n",
    "  prefer).  Run your program and demonstrate that it gives the same answers\n",
    "  as the original program when applied to Eq. (6.1)\n",
    "1. Modify the program to solve the equations in (6.17) and show that it\n",
    "  can find the solution to these as well, even though Gaussian elimination\n",
    "  without pivoting fails."
   ]
  },
  {
   "cell_type": "markdown",
   "metadata": {},
   "source": [
    "### Exercise 6.3 \n",
    "\n",
    "**LU decomposition**\n",
    "\n",
    "  This exercise invites you to write your own\n",
    "program to solve simultaneous equations using the method of LU\n",
    "decomposition.\n",
    "\n",
    "1. Starting, if you wish, with the program for Gaussian elimination in\n",
    "  Example 6.1 on page 218, write a Python function that calculates the LU\n",
    "  decomposition of a matrix.  The calculation is same as that for Gaussian\n",
    "  elimination, except that at each step of the calculation you need to\n",
    "  extract the appropriate elements of the matrix and assemble them to form\n",
    "  the lower diagonal matrix $ {L}$ of Eq. (6.32).  Test your function by\n",
    "  calculating the LU decomposition of the matrix from Eq. (6.2), then\n",
    "  multiplying the $ {L}$ and $ {U}$ you get and verifying that you\n",
    "  recover the original matrix once more.\n",
    "1. Build on your LU decomposition function to create a complete program\n",
    "  to solve Eq. (6.2) by performing a double backsubstitution as described\n",
    "  in this section.  Solve the same equations using the function\n",
    "  \\verb|solve| from the \\verb|numpy| package and verify that you get the\n",
    "  same answer either way.\n",
    "1. If you're feeling ambitious, try your hand at LU decomposition with\n",
    "  partial pivoting.  Partial pivoting works in the same way for LU\n",
    "  decomposition as it does for Gaussian elimination, swapping rows to get\n",
    "  the largest diagonal element as explained in Section 6.1.3, but the\n",
    "  extension to LU decomposition requires two additional stpng.  First,\n",
    "  every time you swap two rows you also have to swap the same rows in the\n",
    "  matrix $ {L}$.  Second, when you use your LU decomposition to solve a\n",
    "  set of equations $ {A}\\vec{x}=\\vec{v}$ you will also need to perform\n",
    "  the same sequence of swaps on the vector $\\vec{v}$ on the right-hand\n",
    "  side.  This means you need to record the swaps as you are doing the\n",
    "  decomposition so that you can recreate them later.  The simplest way to\n",
    "  do this is to set up a list or array in which the value of the $i$th\n",
    "  element records the row you swapped with on the $i$th step of the\n",
    "  process.  For instance, if you swapped the first row with the second then\n",
    "  the second with the fourth, the first two elements of the list would be 2\n",
    "  and 4.  Solving a set of equations for given $\\vec{v}$ involves first\n",
    "  performing the required sequence of swaps on the elements of $\\vec{v}$\n",
    "  then performing a double backsubstitution as usual.  (In ordinary\n",
    "  Gaussian elimination with pivoting, one swaps the elements of $\\vec{v}$\n",
    "  as the algorithm proceeds, rather than all at once, but the difference\n",
    "  has no effect on the results, so it's fine to perform all the swaps at\n",
    "  once if we wish.)\n",
    "\n",
    "  Modify the function you wrote for part (a) to perform LU decomposition\n",
    "  with partial pivoting.  The function should return the matrices $ {L}$\n",
    "  and $ {U}$ for the LU decomposition of the swapped matrix, plus a list\n",
    "  of the swaps made.  Then modify the rest of your program to solve\n",
    "  equations of the form $ {A}\\vec{x}=\\vec{v}$ using LU decomposition\n",
    "  with pivoting.  Test your program on the example from Eq. (6.17), which\n",
    "  cannot be solved without pivoting because of the zero in the first\n",
    "  element of the matrix.  Check your results against a solution of the same\n",
    "  equations using the \\verb|solve| function from \\verb|numpy|.\n",
    "\n",
    "LU decomposition with partial pivoting is the most widely used method for\n",
    "the solution of simultaneous equations in practice.  Precisely this method\n",
    "is used in the function \\verb|solve| from the \\verb|numpy| package.\n",
    "There's nothing wrong with using the \\verb|solve| function---it's well\n",
    "written, fast, and convenient.  But it does nothing you haven't already\n",
    "done yourself if you've solved this exercise."
   ]
  },
  {
   "cell_type": "markdown",
   "metadata": {},
   "source": [
    "### Exercise 6.4 \n",
    "\n",
    "  Write a program to solve the resistor network problem of\n",
    "Exercise 6.1 on page 220 using the function \\verb|solve| from\n",
    "\\verb|numpy.linalg|.  If you also did Exercise 6.1, you should check that\n",
    "you get the same answer both times."
   ]
  },
  {
   "cell_type": "markdown",
   "metadata": {},
   "source": [
    "### Exercise 6.5 \n",
    "\n",
    "  Here's a more complicated circuit problem:\n",
    "\n",
    "\n",
    "<img src=\"rescap.png\" width=300>\n",
    "\n",
    "The voltage $V_+$ is time-varying and sinusoidal of the form $V_+ = x_+\n",
    " e^{ i \\omega t}$ with $x_+$ a constant.  The resistors in the circuit can\n",
    "be treated using Ohm's law as usual.  For the capacitors the charge $Q$ and\n",
    "voltage $V$ across them are related by the capacitor law $Q=CV$, where $C$\n",
    "is the capacitance.  Differentiating both sides of this expression gives\n",
    "the current $I$ flowing in on one side of the capacitor and out on the\n",
    "other:\n",
    "$$\n",
    "I = { d Q\\over d t} = C { d V\\over d t}.\n",
    "$$\n",
    "\n",
    "1. Assuming the voltages at the points labeled 1, 2, and 3 are of the form\n",
    "$V_1 = x_1  e^{ i \\omega t}$, $V_2 = x_2  e^{ i \\omega t}$, and $V_3 = x_3\n",
    " e^{ i \\omega t}$, apply Kirchhoff's law at each of the three points, along\n",
    "with Ohm's law and the capacitor law, to show that the constants $x_1$,\n",
    "$x_2$, and $x_3$ satisfy the equations\n",
    "\\begin{align*}\n",
    "\\biggl( {1\\over R_1} + {1\\over R_4} +  i \\omega C_1 \\biggr) x_1\n",
    "  -  i \\omega C_1 x_2 &= {x_+\\over R_1}\\,, \\\\\n",
    "-  i \\omega C_1 x_1\n",
    "+ \\biggl( {1\\over R_2} + {1\\over R_5} +  i \\omega C_1 +  i \\omega C_2\n",
    "          \\biggr) x_2 -  i \\omega C_2 x_3 &= {x_+\\over R_2}\\,, \\\\\n",
    "-  i \\omega C_2 x_2\n",
    "+ \\biggl( {1\\over R_3} + {1\\over R_6} +  i \\omega C_2 \\biggr) x_3\n",
    "  &= {x_+\\over R_3}\\,.\n",
    "\\end{align*}\n",
    "1. Write a program to solve for $x_1$, $x_2$, and $x_3$ when\n",
    "\\begin{align*}\n",
    "R_1 &= R_3 = R_5 = 1\\,\\mathrm{k}\\Omega, \\\\\n",
    "R_2 &= R_4 = R_6 = 2\\,\\mathrm{k}\\Omega, \\\\\n",
    "C_1 &= 1\\,\\mu\\mathrm{F},\\qquad C_2 = 0.5\\,\\mu\\mathrm{F}, \\\\\n",
    "x_+ &= 3\\,\\mathrm{V},\\qquad \\omega = 1000\\,\\mathrm{s}^{-1}.\n",
    "\\end{align*}\n",
    "Notice that the matrix for this problem has complex elements.  You will\n",
    "need to define a complex array to hold it, but you can still use the\n",
    "\\verb|solve| function just as before to solve the equations---it works with\n",
    "either real or complex arguments.  Using your solution have your program\n",
    "calculate and print the amplitudes of the three voltages $V_1$, $V_2$,\n",
    "and $V_3$ and their phases in degrees.  (Hint: You may find the functions\n",
    "\\verb|polar| or \\verb|phase| in the \\verb|cmath| package useful.  If\n",
    "\\verb|z| is a complex number then ``\\verb|r,theta = polar(z)|'' will return\n",
    "the modulus and phase (in radians) of \\verb|z| and\n",
    "``\\verb|theta = phase(z)|'' will return the phase alone.)"
   ]
  },
  {
   "cell_type": "markdown",
   "metadata": {},
   "source": [
    "### Exercise 6.6 \n",
    "\n",
    "  Starting with either the program \\verb|springs.py| on page 237 or\n",
    "\\verb|springsb.py| on page 238, remove the code that makes a graph of the\n",
    "results and replace it with code that creates an animation of the masses as\n",
    "they vibrate back and forth, their displacements relative to their resting\n",
    "positions being given by the real part of Eq. (6.53).  For clarity, assume\n",
    "that the resting positions are two units apart in a horizontal line.  At a\n",
    "minimum your animation should show each of the individual masses, perhaps\n",
    "as small spheres.  (Spheres of radius about 0.2 or 0.3 seem to work well.)"
   ]
  },
  {
   "cell_type": "markdown",
   "metadata": {},
   "source": [
    "### Exercise 6.7 \n",
    "\n",
    "**A chain of resistors**\n",
    "\n",
    "  Consider a long chain of resistors\n",
    "wired up like this:\n",
    "\n",
    "<img src = \"reschain.png\">\n",
    "\n",
    "All the resistors have the same resistance $R$.  The power rail at the top\n",
    "is at voltage $V_+=5$V.  The problem is to find the voltages $V_1\\ldots\n",
    "V_N$ at the internal points in the circuit.\n",
    "\n",
    "1. Using Ohm's law and the Kirchhoff current law, which says that the\n",
    "  total net current flow out of (or into) any junction in a circuit must be\n",
    "  zero, show that the voltages $V_1\\ldots V_N$ satisfy the equations\n",
    "\\begin{align*}\n",
    "3V_1 - V_2 - V_3 &= V_+, \\\\\n",
    "-V_1 + 4V_2 - V_3 - V_4 &= V_+, \\\\\n",
    "                        &\\hspace{0.6em}\\vdots \\\\\n",
    "-V_{i-2} - V_{i-1} + 4V_i - V_{i+1} - V_{i+2} &= 0, \\\\\n",
    "                        &\\hspace{0.6em}\\vdots \\\\\n",
    "-V_{N-3} - V_{N-2} + 4V_{N-1} - V_N &= 0, \\\\\n",
    "-V_{N-2} - V_{N-1} + 3V_N &= 0.\n",
    "\\end{align*}\n",
    "Express these equations in vector form ${A}\\vec{v} = \\vec{w}$ and find\n",
    "the values of the matrix ${A}$ and the vector $\\vec{w}$.\n",
    "1. Write a program to solve for the values of the $V_i$ when there are\n",
    "  $N=6$ internal junctions with unknown voltages.  (Hint: All the values of\n",
    "  $V_i$ should lie between zero and $5$V.  If they don't, something is\n",
    "  wrong.)\n",
    "1. Now repeat your calculation for the case where there are $N=10\\,000$\n",
    "  internal junctions.  This part is not possible using standard tools like\n",
    "  the \\verb|solve| function.  You need to make use of the fact that the\n",
    "  matrix $\\vec{A}$ is banded and use the \\verb|banded| function from the\n",
    "  file \\verb|banded.py|, discussed in Appendix E."
   ]
  },
  {
   "cell_type": "markdown",
   "metadata": {},
   "source": [
    "### Exercise 6.8 \n",
    "\n",
    "**The QR algorithm**\n",
    "\n",
    "  In this exercise you'll write a\n",
    "program to calculate the eigenvalues and eigenvectors of a real symmetric\n",
    "matrix using the QR algorithm.  The first challenge is to write a program\n",
    "that finds the QR decomposition of a matrix.  Then we'll use that\n",
    "decomposition to find the eigenvalues.\n",
    "\n",
    "As described above, the QR decomposition expresses a real square\n",
    "matrix $ {A}$ in the form $ {A}= {Q} {R}$, where $ {Q}$ is\n",
    "an orthogonal matrix and $ {R}$ is an upper-triangular matrix.  Given an\n",
    "$N\\times N$ matrix $ {A}$ we can compute the QR decomposition as\n",
    "follows.\n",
    "\n",
    "Let us think of the matrix as a set of $N$ column\n",
    "vectors $\\vec{a}_0\\ldots\\vec{a}_{N-1}$ thus:\n",
    "$$\n",
    " {A} = \\begin{pmatrix}\n",
    "            | & | & | & \\cdots \\\\\n",
    "            \\vec{a}_0 & \\vec{a}_1 & \\vec{a}_2 & \\cdots \\\\\n",
    "            | & | & | & \\cdots\n",
    "          \\end{pmatrix},\n",
    "$$\n",
    "where we have numbered the vectors in Python fashion, starting from zero,\n",
    "which will be convenient when writing the program.  We now define two new\n",
    "sets of vectors $\\vec{u}_0\\ldots\\vec{u}_{N-1}$ and\n",
    "$\\vec{q}_0\\ldots\\vec{q}_{N-1}$ as follows:\n",
    "\\begin{align*}\n",
    "\\vec{u}_0 &= \\vec{a}_0,\n",
    "  & \\vec{q}_0 = {\\vec{u}_0\\over|\\vec{u}_0|}\\,,\\qquad \\\\\n",
    "\\vec{u}_1 &= \\vec{a}_1 - (\\vec{q}_0\\cdot\\vec{a}_1) \\vec{q}_0,\n",
    "  & \\vec{q}_1 = {\\vec{u}_1\\over|\\vec{u}_1|}\\,, \\qquad \\\\\n",
    "\\vec{u}_2 &= \\vec{a}_2 - (\\vec{q}_0\\cdot\\vec{a}_2) \\vec{q}_0\n",
    "             - (\\vec{q}_1\\cdot\\vec{a}_2) \\vec{q}_1,\n",
    "  & \\vec{q}_2 = {\\vec{u}_2\\over|\\vec{u}_2|}\\,, \\qquad\n",
    "\\end{align*}\n",
    "and so forth.  The general formulas for calculating $\\vec{u}_i$ and\n",
    "$\\vec{q}_i$ are\n",
    "$$\n",
    "\\vec{u}_i = \\vec{a}_i - \\sum_{j=0}^{i-1} (\\vec{q}_j\\cdot\\vec{a}_i)\n",
    "            \\vec{q}_j, \\qquad\n",
    "\\vec{q}_i = {\\vec{u}_i\\over|\\vec{u}_i|}.\n",
    "$$\n",
    "\n",
    "1. Show, by induction or otherwise, that the vectors $\\vec{q}_i$ are\n",
    "  orthonormal, i.e., that they satisfy\n",
    "$$\n",
    "\\vec{q}_i\\cdot\\vec{q}_j = \\biggl\\lbrace\\begin{array}{ll}\n",
    "                            1 & \\quad\\mbox{if $i=j$,} \\\\\n",
    "                            0 & \\quad\\mbox{if $i\\ne j$.}\n",
    "                          \\end{array}\n",
    "$$\n",
    "\n",
    "Now, rearranging the definitions of the vectors, we have\n",
    "\\begin{align*}\n",
    "\\vec{a}_0 &= |\\vec{u}_0|\\,\\vec{q}_0, \\\\\n",
    "\\vec{a}_1 &= |\\vec{u}_1|\\,\\vec{q}_1 + (\\vec{q}_0\\cdot\\vec{a}_1) \\vec{q}_0, \\\\\n",
    "\\vec{a}_2 &= |\\vec{u}_2|\\,\\vec{q}_2 + (\\vec{q}_0\\cdot\\vec{a}_2) \\vec{q}_0\n",
    "              + (\\vec{q}_1\\cdot\\vec{a}_2) \\vec{q}_1,\n",
    "\\end{align*}\n",
    "and so on.  Or we can group the vectors $\\vec{q}_i$ together as the\n",
    "columns of a matrix and write all of these equations as a single matrix\n",
    "equation\n",
    "$$A = \\begin{pmatrix}\n",
    "            | & | & | & \\cdots \\\\\n",
    "            \\vec{a}_0 & \\vec{a}_1 & \\vec{a}_2 & \\cdots \\\\\n",
    "            | & | & | & \\cdots\n",
    "          \\end{pmatrix}\n",
    " =\n",
    "\\begin{pmatrix}\n",
    "  | & | & | & \\cdots \\\\\n",
    "  \\vec{q}_0 & \\vec{q}_1 & \\vec{q}_2 & \\cdots \\\\\n",
    "  | & | & | & \\cdots\n",
    "\\end{pmatrix}\n",
    "\\begin{pmatrix}\n",
    "|\\vec{u}_0| & \\vec{q}_0\\cdot\\vec{a}_1 & \\vec{q}_0\\cdot\\vec{a}_2 & \\cdots \\\\\n",
    "0           & |\\vec{u}_1| & \\vec{q}_1\\cdot\\vec{a}_2 & \\cdots \\\\\n",
    "0           & 0           & |\\vec{u}_2| & \\cdots\n",
    "\\end{pmatrix}.\n",
    "$$\n",
    "(If this looks complicated it's worth multiplying out the matrices on the\n",
    "right to verify for yourself that you get the correct expressions for\n",
    "the $\\vec{a}_i$.)\n",
    "\n",
    "Notice now that the first matrix on the right-hand side of this equation,\n",
    "the matrix with columns $\\vec{q}_i$, is orthogonal, because the\n",
    "vectors $\\vec{q}_i$ are orthonormal, and the second matrix is upper\n",
    "triangular.  In other words, we have found the QR decomposition\n",
    "$ {A}= {Q} {R}$.  The matrices $ {Q}$ and $ {R}$ are\n",
    "$$\n",
    " {Q} =\n",
    "\\begin{pmatrix}\n",
    "  | & | & | & \\cdots \\\\\n",
    "  \\vec{q}_0 & \\vec{q}_1 & \\vec{q}_2 & \\cdots \\\\\n",
    "  | & | & | & \\cdots\n",
    "\\end{pmatrix}\n",
    ",\\qquad\n",
    " {R} =\n",
    "\\begin{pmatrix}\n",
    "|\\vec{u}_0| & \\vec{q}_0\\cdot\\vec{a}_1 & \\vec{q}_0\\cdot\\vec{a}_2 & \\cdots \\\\\n",
    "0           & |\\vec{u}_1| & \\vec{q}_1\\cdot\\vec{a}_2 & \\cdots \\\\\n",
    "0           & 0           & |\\vec{u}_2| & \\cdots\n",
    "\\end{pmatrix}.\n",
    "$$\n",
    "\n",
    "\n",
    "1. Write a Python function that takes as its argument a real square\n",
    "  matrix $ {A}$ and returns the two matrices $ {Q}$ and $ {R}$\n",
    "  that form its QR decomposition.  As a test case, try out your function on\n",
    "  the matrix\n",
    "$$\n",
    "A = \\begin{pmatrix}\n",
    "            1 & 4 & 8 & 4 \\\\\n",
    "            4 & 2 & 3 & 7 \\\\\n",
    "            8 & 3 & 6 & 9 \\\\\n",
    "            4 & 7 & 9 & 2\n",
    "          \\end{pmatrix}.\n",
    "$$\n",
    "Check the results by multiplying $ {Q}$ and $ {R}$ together to\n",
    "recover the original matrix $ {A}$ again.\n",
    "1. Using your function, write a complete program to calculate the\n",
    "  eigenvalues and eigenvectors of a real symmetric matrix using the QR\n",
    "  algorithm.  Continue the calculation until the magnitude of every\n",
    "  off-diagonal element of the matrix is smaller than $10^{-6}$.  Test your\n",
    "  program on the example matrix above.  You should find that the\n",
    "  eigenvalues are $1$, $21$, $-3$, and $-8$."
   ]
  },
  {
   "cell_type": "markdown",
   "metadata": {},
   "source": [
    "### Exercise 6.9 \n",
    "\n",
    "**Asymmetric quantum well**"
   ]
  },
  {
   "cell_type": "markdown",
   "metadata": {},
   "source": [
    "Quantum mechanics can be formulated as a matrix problem and solved\n",
    "on a computer using linear algebra methods.  Suppose, for example, we have\n",
    "a particle of mass $M$ in a one-dimensional quantum well of width $L$, but\n",
    "not a square well like the examples you've probably seen before.  Suppose\n",
    "instead that the potential $V(x)$ varies somehow inside the well: \n",
    "\n",
    "<img src=\"well.png\">\n",
    "\n",
    "We cannot solve such problems analytically in general, but we can solve\n",
    "them on the computer."
   ]
  },
  {
   "cell_type": "markdown",
   "metadata": {},
   "source": [
    "In a pure state of energy $E$, the spatial part of the wavefunction\n",
    "obeys the time-independent Schr\\\"odinger equation $\\hat{H}\\psi(x) =\n",
    "E\\psi(x)$, where the Hamiltonian operator $\\hat{H}$ is given by\n",
    "$$\n",
    "\\hat{H} = - {\\hbar^2\\over2M}\\,{ d^2\\over d x^2} + V(x).\n",
    "$$"
   ]
  },
  {
   "cell_type": "markdown",
   "metadata": {},
   "source": [
    "For simplicity, let's assume that the walls of the well are infinitely\n",
    "high, so that the wavefunction is zero outside the well, which means it\n",
    "must \\emph{go to} zero at $x=0$ and $x=L$.  In that case, the wavefunction\n",
    "can be expressed as a Fourier sine series thus:\n",
    "$$\n",
    "\\psi(x) = \\sum_{n=1}^\\infty \\psi_n \\sin {\\pi n x\\over L},\n",
    "$$\n",
    "where $\\psi_1,\\psi_2,\\ldots$ are the Fourier coefficients."
   ]
  },
  {
   "cell_type": "markdown",
   "metadata": {},
   "source": [
    "1. Noting that, for $m,n$ positive integers\n",
    "$$\n",
    "\\int_0^L \\sin {\\pi m x\\over L} \\,\\sin{\\pi n x\\over L} \\> d x\n",
    "  = \\begin{cases}\n",
    "      L/2 & \\qquad\\mbox{if $m=n$,} \\\\\n",
    "      0          & \\qquad\\mbox{otherwise,}\n",
    "    \\end{cases}\n",
    "$$\n",
    "show that the Schr\\\"odinger equation $\\hat{H}\\psi = E\\psi$ implies that\n",
    "$$\n",
    "\\sum_{n=1}^\\infty \\psi_n \\int_0^L \\sin{\\pi m x\\over L}\n",
    "                  \\hat{H}\\sin{\\pi n x\\over L} \\> d x\n",
    "  = \\frac{1}{2} L E \\psi_m.\n",
    "$$\n",
    "Hence, defining a matrix ${H}$ with elements\n",
    "\\begin{align*}\n",
    "H_{mn} &= {2\\over L} \\int_0^L \\sin{\\pi m x\\over L}\n",
    "          \\hat{H}\\sin{\\pi n x\\over L} \\> d x \\nonumber\\\\\n",
    "       &= {2\\over L} \\int_0^L \\sin{\\pi m x\\over L}\n",
    "          \\biggl[ - {\\hbar^2\\over2M}\\,{ d^2\\over d x^2} + V(x) \\biggr]\n",
    "          \\sin{\\pi n x\\over L} \\> d x,\n",
    "\\end{align*}\n",
    "show that Schr\\\"odinger's equation can be written in matrix form as\n",
    "${H}{\\psi} = E{\\psi}$, where ${\\psi}$\n",
    "is the vector $(\\psi_1,\\psi_2,\\ldots)$.  Thus ${\\psi}$ is an\n",
    "eigenvector of the \\defn{Hamiltonian matrix} ${H}$ with eigenvalue $E$.\n",
    "If we can calculate the eigenvalues of this matrix, then we know the\n",
    "allowed energies of the particle in the well.\n",
    "1. For the case $V(x)=ax/L$, evaluate the integral in $H_{mn}$\n",
    "  analytically and so find a general expression for the matrix\n",
    "  element $H_{mn}$.  Show that the matrix is real and symmetric.  You'll\n",
    "  probably find it useful to know that\n",
    "$$\n",
    "\\hspace{-2em}\n",
    "\\int_0^L x \\sin{\\pi m x\\over L} \\sin{\\pi n x\\over L} \\> d x\n",
    "  = \\begin{cases}\n",
    "      0 & \\quad\\mbox{if $m\\ne n$ and both even or both odd,} \\\\\n",
    "      {\\displaystyle-\\biggl({2L\\over\\pi}\\biggr)^2{mn\\over(m^2-n^2)^2}}\n",
    "        & \\quad\\mbox{if $m\\ne n$ and one is even, one is odd,} \\\\\n",
    "      L^2/4 & \\quad\\mbox{if $m=n$.}\n",
    "    \\end{cases}\n",
    "$$\n",
    "Write a Python program to evaluate your expression for $H_{mn}$ for\n",
    "arbitrary $m$ and $n$ when the particle in the well is an electron, the\n",
    "well has width $5\\,$\\AA, and $a=10\\,$eV.  (The mass and charge of an\n",
    "electron are $9.1094\\times10^{-31}\\,$kg and $1.6022\\times10^{-19}\\,$C\n",
    "respectively.)\n",
    "1. The matrix ${H}$ is in theory infinitely large, so we cannot\n",
    "  calculate all its eigenvalues.  But we can get a pretty accurate solution\n",
    "  for the first few of them by cutting off the matrix after the first few\n",
    "  elements.  Modify the program you wrote for part (b) above to create a\n",
    "  $10\\times10$ array of the elements of ${H}$ up to $m,n=10$.\n",
    "  Calculate the eigenvalues of this matrix using the appropriate function\n",
    "  from \\verb|numpy.linalg| and hence print out, in units of electron volts,\n",
    "  the first ten energy levels of the quantum well, within this\n",
    "  approximation.  You should find, for example, that the ground-state\n",
    "  energy of the system is around $5.84\\,$eV.  (Hint: Bear in mind that\n",
    "  matrix indices in Python start at zero, while the indices in standard\n",
    "  algebraic expressions, like those above, start at one.  You will need to\n",
    "  make allowances for this in your program.)\n",
    "1. Modify your program to use a $100\\times100$ array instead and again\n",
    "  calculate the first ten energy eigenvalues.  Comparing with the values\n",
    "  you calculated in part (c), what do you conclude about the accuracy of\n",
    "  the calculation?\n",
    "1. Now modify your program once more to calculate the\n",
    "  wavefunction $\\psi(x)$ for the ground state and the first two excited\n",
    "  states of the well.  Use your results to make a graph with three curves\n",
    "  showing the probability density $|\\psi(x)|^2$ as a function of $x$ in\n",
    "  each of these three states.  Pay special attention to the normalization\n",
    "  of the wavefunction---it should satisfy the condition $\\int_0^L\n",
    "  |\\psi(x)|^2 \\> d x=1$.  Is this true of your wavefunction?"
   ]
  },
  {
   "cell_type": "markdown",
   "metadata": {},
   "source": [
    "### Exercise 6.10 \n",
    "\n",
    "  Consider the equation $x = 1 -  e^{-cx}$, where $c$ is a known\n",
    "parameter and $x$ is unknown.  This equation arises in a variety of\n",
    "situations, including the physics of contact processes, mathematical models\n",
    "of epidemics, and the theory of random graphs.\n",
    "\n",
    "1. Write a program to solve this equation for $x$ using the relaxation\n",
    "  method for the case $c=2$.  Calculate your solution to an accuracy of at\n",
    "  least $10^{-6}$.\n",
    "1. Modify your program to calculate the solution for values of $c$ from\n",
    "  0 to 3 in stpng of 0.01 and make a plot of $x$ as a function of $c$.  You\n",
    "  should see a clear transition from a regime in which $x=0$ to a regime of\n",
    "  nonzero $x$.  This is another example of a phase transition.  In physics\n",
    "  this transition is known as the \\defn{percolation transition}; in\n",
    "  epidemiology it is the \\defn{epidemic threshold}."
   ]
  },
  {
   "cell_type": "markdown",
   "metadata": {},
   "source": [
    "考虑方程  $x = 1 - e^{-cx}$，其中 $c$ 是已知参数，$x$ 是未知数。这个方程出现在多种情况下，包括接触过程的物理学、流行病的数学模型以及随机图理论。 \n",
    "1. 编写一个程序，使用松弛法求解这个方程，对于 $c=2$ 的情况。计算您的解决方案，精度至少达到$10^{-6}$。 \n",
    "2. 修改您的程序，计算$c$ 的值从 0 到 3，步长为 0.01，绘制$x$随$c$变化的函数图。您应该看到一个明显的从$x=0$的区域到非零$x$的区域的转变。这是相变的另一个例子。在物理学中，这种转变被称为**渗透转变**；在流行病学中，它是**流行病阈值**。"
   ]
  },
  {
   "cell_type": "code",
   "execution_count": 1,
   "metadata": {},
   "outputs": [
    {
     "name": "stdout",
     "output_type": "stream",
     "text": [
      "对于 c = 2，方程的解是 x = 4.76837158203125e-07\n"
     ]
    },
    {
     "name": "stderr",
     "output_type": "stream",
     "text": [
      "/usr/local/lib/python3.11/site-packages/IPython/core/pylabtools.py:152: UserWarning: Glyph 38543 (\\N{CJK UNIFIED IDEOGRAPH-968F}) missing from current font.\n",
      "  fig.canvas.print_figure(bytes_io, **kw)\n",
      "/usr/local/lib/python3.11/site-packages/IPython/core/pylabtools.py:152: UserWarning: Glyph 21464 (\\N{CJK UNIFIED IDEOGRAPH-53D8}) missing from current font.\n",
      "  fig.canvas.print_figure(bytes_io, **kw)\n",
      "/usr/local/lib/python3.11/site-packages/IPython/core/pylabtools.py:152: UserWarning: Glyph 21270 (\\N{CJK UNIFIED IDEOGRAPH-5316}) missing from current font.\n",
      "  fig.canvas.print_figure(bytes_io, **kw)\n",
      "/usr/local/lib/python3.11/site-packages/IPython/core/pylabtools.py:152: UserWarning: Glyph 30340 (\\N{CJK UNIFIED IDEOGRAPH-7684}) missing from current font.\n",
      "  fig.canvas.print_figure(bytes_io, **kw)\n",
      "/usr/local/lib/python3.11/site-packages/IPython/core/pylabtools.py:152: UserWarning: Glyph 20989 (\\N{CJK UNIFIED IDEOGRAPH-51FD}) missing from current font.\n",
      "  fig.canvas.print_figure(bytes_io, **kw)\n",
      "/usr/local/lib/python3.11/site-packages/IPython/core/pylabtools.py:152: UserWarning: Glyph 25968 (\\N{CJK UNIFIED IDEOGRAPH-6570}) missing from current font.\n",
      "  fig.canvas.print_figure(bytes_io, **kw)\n",
      "/usr/local/lib/python3.11/site-packages/IPython/core/pylabtools.py:152: UserWarning: Glyph 22270 (\\N{CJK UNIFIED IDEOGRAPH-56FE}) missing from current font.\n",
      "  fig.canvas.print_figure(bytes_io, **kw)\n"
     ]
    },
    {
     "data": {
      "image/png": "[encoded data removed]",
      "text/plain": [
       "<Figure size 640x480 with 1 Axes>"
      ]
     },
     "metadata": {},
     "output_type": "display_data"
    }
   ],
   "source": [
    "import math\n",
    "import numpy as np\n",
    "import matplotlib.pyplot as plt\n",
    "\n",
    "# 二分法求解方程\n",
    "def binary_search(c, tolerance=1e-6):\n",
    "    left, right = 0, 1  # 初始搜索区间\n",
    "    while abs(right - left) > tolerance:\n",
    "        mid = (left + right) / 2\n",
    "        if 1 - math.exp(-c * mid) - mid > 0:\n",
    "            right = mid\n",
    "        else:\n",
    "            left = mid\n",
    "    return (left + right) / 2\n",
    "\n",
    "# 计算不同c值对应的x值\n",
    "def calculate_x_values(c_min, c_max, step):\n",
    "    c_values = np.arange(c_min, c_max + step, step)\n",
    "    x_values = [binary_search(c) for c in c_values]\n",
    "    return c_values, x_values\n",
    "\n",
    "# 解决 c = 2 的情况\n",
    "c_value = 2\n",
    "solution = binary_search(c_value)\n",
    "print(f\"对于 c = {c_value}，方程的解是 x = {solution}\")\n",
    "\n",
    "# 计算 c 从 0 到 3 的 x 值，并绘制函数图\n",
    "c_values, x_values = calculate_x_values(0, 3, 0.01)\n",
    "\n",
    "# 绘制 x 随 c 变化的函数图\n",
    "plt.plot(c_values, x_values, marker='o')\n",
    "plt.xlabel('c')\n",
    "plt.ylabel('x')\n",
    "plt.title('x 随 c 变化的函数图')\n",
    "plt.grid(True)\n",
    "plt.show()"
   ]
  },
  {
   "cell_type": "markdown",
   "metadata": {},
   "source": [
    "### Exercise 6.11 \n",
    "\n",
    "**Overrelaxation**\n",
    "\n",
    "  If you did not already do Exercise 6.10, you should do it before\n",
    "this one.\n",
    "\n",
    "The ordinary relaxation method involves iterating the equation $x' = f(x)$,\n",
    "starting from an initial guess, until it converges.  As we have seen, this\n",
    "is often a fast and easy way to find solutions to nonlinear equations.\n",
    "However, it is possible in some cases to make the method work even faster\n",
    "using the technique of \\defn{overrelaxation}.  Suppose our initial guess at\n",
    "the solution of a particular equation is, say, $x=1$, and the final, true\n",
    "solution is $x=5$.  After the first step of the iterative process, we might\n",
    "then see a value of, say, $x=3$.  In the overrelaxation method, we observe\n",
    "this value and note that $x$ is increasing, then we deliberately overshoot\n",
    "the calculated value, in the hope that this will get us closer to the final\n",
    "solution---in this case we might pass over $x=3$ and go straight to a value\n",
    "of $x=4$ perhaps, which is closer to the final solution of $x=5$ and hence\n",
    "should get us to that solution quicker.  The overrelaxation method\n",
    "provides a formula for performing this kind of overshooting in a controlled\n",
    "fashion and often, though not always, it does get us to our solution\n",
    "faster.  In detail, it works as follows.\n",
    "\n",
    "We can rewrite the equation $x'=f(x)$ in the form $x' = x + \\Delta x$,\n",
    "where\n",
    "$$\n",
    "\\Delta x = x' - x = f(x) - x.\n",
    "$$\n",
    "The overrelaxation method involves iteration of the modified equation\n",
    "$$\n",
    "x' = x + (1+\\omega)\\,\\Delta x,\n",
    "$$\n",
    "(keeping the definition of $\\Delta x$ the same).  If the parameter $\\omega$\n",
    "is zero, then this is the same as the ordinary relaxation method, but for\n",
    "$\\omega>0$ the method takes the amount $\\Delta x$ by which the value of $x$\n",
    "would have been changed and changes by a little more.  Using $\\Delta\n",
    "x=f(x)-x$, we can also write $x'$ as\n",
    "$$\n",
    "x' = x + (1+\\omega) \\bigl[ f(x) - x \\bigr]\n",
    "   = (1+\\omega) f(x) - \\omega x,\n",
    "$$\n",
    "which is the form in which it is usually written.\n",
    "\n",
    "For the method to work the value of $\\omega$ must be chosen correctly,\n",
    "although there is some wiggle room---there is an optimal value, but other\n",
    "values close to it will typically also give good results.  Unfortunately,\n",
    "there is no general theory that tells us what the optimal value is.\n",
    "Usually it is found by trial and error.\n",
    "\n",
    "1. Derive an equivalent of Eq. (6.81) for the overrelaxation method and\n",
    "  hence show that the error on $x'$, the equivalent of Eq. (6.83), is given\n",
    "  by\n",
    "$$\n",
    "\\epsilon' \\simeq {x-x'\\over1-1/[(1+\\omega) f'(x)-\\omega]}.\n",
    "$$\n",
    "1. Consider again the equation $x=1- e^{-cx}$ that we solved in\n",
    "  Exercise 6.10.  Take the program you wrote for part (a) of that exercise,\n",
    "  which solved the equation for the case $c=2$, and modify it to print out\n",
    "  the number of iterations it takes to converge to a solution accurate to\n",
    "  $10^{-6}$.\n",
    "1. Now write a new program (or modify the previous one) to solve the\n",
    "  same equation $x=1- e^{-cx}$ for $c=2$, again to an accuracy of\n",
    "  $10^{-6}$, but this time using overrelaxation.  Have your program print\n",
    "  out the answers it finds along with the number of iterations it took to\n",
    "  find them.  Experiment with different values of $\\omega$ to see how fast\n",
    "  you can get the method to converge.  A value of $\\omega=0.5$ is a\n",
    "  reasonable starting point.  With some trial and error you should be able\n",
    "  to get the calculation to converge about twice as fast as the simple\n",
    "  relaxation method, i.e., in about half as many iterations.\n",
    "1. Are there any circumstances under which using a value $\\omega<0$\n",
    "  would help us find a solution faster than we can with the ordinary\n",
    "  relaxation method?  (Hint: The answer is yes, but why?)"
   ]
  },
  {
   "cell_type": "markdown",
   "metadata": {},
   "source": [
    "### Exercise 6.12 \n",
    "\n",
    "  The biochemical process of \\defn{glycolysis}, the\n",
    "  breakdown of glucose in the body to release energy, can be modeled by the\n",
    "  equations\n",
    "$$\n",
    "{ d x\\over d t} = -x + ay + x^2 y, \\qquad\n",
    "{ d y\\over d t} = b - ay - x^2 y.\n",
    "$$\n",
    "Here $x$ and $y$ represent concentrations of two chemicals, ADP and F6P,\n",
    "and $a$ and $b$ are positive constants.  One of the important features of\n",
    "nonlinear linear equations like these is their \\defn{stationary\n",
    "  points}, meaning values of $x$ and $y$ at which the derivatives of both\n",
    "variables become zero simultaneously, so that the variables stop changing\n",
    "and become constant in time.  Setting the derivatives to zero above, the\n",
    "stationary points of our glycolysis equations are solutions of\n",
    "$$\n",
    "-x + ay + x^2 y = 0, \\qquad b - ay - x^2 y = 0.\n",
    "$$\n",
    "\n",
    "1. Demonstrate analytically that the solution of these equations is\n",
    "$$\n",
    "x = b,\\qquad y = {b\\over a+b^2}.\n",
    "$$\n",
    "1. Show that the equations can be rearranged to read\n",
    "$$\n",
    "x = y(a+x^2),\\qquad y = {b\\over a+x^2}\n",
    "$$\n",
    "and write a program to solve these for the stationary point using the\n",
    "relaxation method with $a=1$ and $b=2$.  You should find that the method\n",
    "fails to converge to a solution in this case.\n",
    "1. Find a different way to rearrange the equations such that when you\n",
    "  apply the relaxation method again it now converges to a fixed point and\n",
    "  gives a solution.  Verify that the solution you get agrees with part (a)."
   ]
  },
  {
   "cell_type": "markdown",
   "metadata": {},
   "source": [
    "### Exercise 6.13\n",
    "\n",
    "**Wien's displacement constant**\n",
    "\n",
    "  Planck's radiation law tells us that\n",
    "the intensity of radiation per unit area and per unit wavelength $\\lambda$\n",
    "from a black body at temperature $T$ is\n",
    "$$\n",
    "  I(\\lambda) = {2\\pi hc^2\\lambda^{-5}\\over e^{hc/\\lambda k_BT}-1}\\,,\n",
    "$$\n",
    "where $h$ is Planck's constant, $c$ is the speed of light, and $k_B$ is\n",
    "Boltzmann's constant.\n",
    "\n",
    "\n",
    "1. Show by differentiating that the wavelength $\\lambda$ at which the\n",
    "  emitted radiation is strongest is the solution of the equation\n",
    "$$\n",
    "5  e^{-hc/\\lambda k_BT} + {hc\\over\\lambda k_BT} - 5 = 0.\n",
    "$$\n",
    "Make the substitution $x=hc/\\lambda k_BT$ and hence show that the\n",
    "wavelength of maximum radiation obeys the \\defn{Wien displacement\n",
    "  law}:\n",
    "$$\n",
    "\\lambda = {b\\over T}\\,,\n",
    "$$\n",
    "where the so-called \\defn{Wien displacement constant} is $b=hc/k_Bx$, and\n",
    "$x$ is the solution to the nonlinear equation\n",
    "$$\n",
    "5  e^{-x} + x - 5 = 0.\n",
    "$$\n",
    "1. Write a program to solve this equation to an accuracy\n",
    "  of $\\epsilon=10^{-6}$ using the binary search method, and hence find a\n",
    "  value for the displacement constant.\n",
    "1. The displacement law is the basis for the method of\n",
    "  \\defn{optical pyrometry}, a method for measuring the temperatures\n",
    "  of objects by observing the color of the thermal radiation they emit.\n",
    "  The method is commonly used to estimate the surface temperatures of\n",
    "  astronomical bodies, such as the Sun.  The wavelength peak in the\n",
    "  Sun's emitted radiation falls at $\\lambda=502\\,\\textrm{nm}$.  From the\n",
    "  equations above and your value of the displacement constant, estimate the\n",
    "  surface temperature of the Sun."
   ]
  },
  {
   "cell_type": "markdown",
   "metadata": {},
   "source": [
    "### 维恩位移常数\n",
    "\n",
    "由普朗克辐射定律, 温度为$T$的黑体, 单位波长$\\lambda$单位面积的辐射强度是\n",
    "$$I(\\lambda)=\\frac{2\\pi hc^2\\lambda^{-5}}{e^{hc/\\lambda k_BT}-1},$$\n",
    "这里$h$是普朗克常数, $c$是光速, $k_B$是玻尔兹曼常数.\n",
    "\n",
    "1. 将上式对波长$\\lambda$求导数, 达到辐射强度最大的波长满足方程\n",
    "\t$$5e^{-hc/\\lambda k_bT}+\\frac{hc}{\\lambda k_B T}-5=0.$$\n",
    "\t作变量代换$x=hc/\\lambda k_BT$, 说明辐射最强的波长满足**维恩位移定律**:\n",
    "\t$$\\lambda = \\frac{b}{T}$$\n",
    "\t其中$b=hc/k_B x$被称为维恩位移常数, $x$是非线性方程\n",
    "\t$$5e^{-x}+x-5=0$$\n",
    "\t的解.\n",
    "\t\n",
    "    "
   ]
  },
  {
   "cell_type": "markdown",
   "metadata": {},
   "source": [
    "1. 写一个**二分法**的程序, 解上面的方程, 求根精度是$\\epsilon=10^{-6}$, 计算维恩位移常数.\n",
    "\n",
    "\n",
    "2. 维恩位移定律是光学测温方法的基础, 光学测温法是通过观察物体热辐射的颜色来测量其温度的方法. 这个方法通常用于天体表明温度的测量, 比如太阳. 已知太阳表面辐射的峰值出现在波长$\\lambda=502\\rm\\,nm$. 从前面的方程和你得到的位移常量估计太阳的表面温度."
   ]
  },
  {
   "cell_type": "markdown",
   "metadata": {},
   "source": [
    "1. 写一个**二分法**的程序, 解上面的方程, 求根精度是$\\epsilon=10^{-6}$, 计算维恩位移常数.\n",
    "\n",
    "\n",
    "2. 已知太阳表面辐射的峰值出现在波长$\\lambda=502\\rm\\,nm$. 从前面的方程和你得到的位移常量估计太阳的表面温度."
   ]
  },
  {
   "cell_type": "markdown",
   "metadata": {},
   "source": [
    "#### 首先画图查找根的大致位置"
   ]
  },
  {
   "cell_type": "code",
   "execution_count": 3,
   "metadata": {},
   "outputs": [
    {
     "data": {
      "text/plain": [
       "[<matplotlib.lines.Line2D at 0x260c8973970>,\n",
       " <matplotlib.lines.Line2D at 0x260c89737f0>]"
      ]
     },
     "execution_count": 3,
     "metadata": {},
     "output_type": "execute_result"
    },
    {
     "data": {
      "image/png": "[encoded data removed]",
      "text/plain": [
       "<Figure size 432x288 with 1 Axes>"
      ]
     },
     "metadata": {
      "needs_background": "light"
     },
     "output_type": "display_data"
    }
   ],
   "source": [
    "x = np.linspace(-1,6,100)\n",
    "plt.plot(x,5*np.exp(-x),'r',x,5-x)"
   ]
  },
  {
   "cell_type": "code",
   "execution_count": 2,
   "metadata": {},
   "outputs": [],
   "source": [
    "def bisect(f,a,b,ep = 1.0e-6,imax=100):\n",
    "    \"\"\"二分法代码\n",
    "        f: 要求解的方程\n",
    "        a, b: 选的边界点\n",
    "        ep: 求根精度\n",
    "        imax: 最大迭代次数， 防止死循环\n",
    "    \"\"\"\n",
    "    c = (a+b)*0.5\n",
    "    i = 0\n",
    "    while (abs(f(c))>ep) and i < imax:\n",
    "        if f(c)*f(a) >0:\n",
    "            a = c\n",
    "        else: b = c\n",
    "        c = (a+b)*0.5\n",
    "        i += 1\n",
    "    if i == imax: print(\"迭代达到上限\")\n",
    "    return c,i"
   ]
  },
  {
   "cell_type": "code",
   "execution_count": null,
   "metadata": {},
   "outputs": [],
   "source": [
    "def f(x):\n",
    "    return 5*np.exp(-x)+x-5\n",
    "\n",
    "x,k = bisect(f,4,6)\n",
    "print(x,k)"
   ]
  },
  {
   "cell_type": "code",
   "execution_count": 5,
   "metadata": {},
   "outputs": [
    {
     "name": "stdout",
     "output_type": "stream",
     "text": [
      "太阳温度为: 5772.45K\n",
      "0.002897771955\n"
     ]
    }
   ],
   "source": [
    "from scipy.constants import Wien as b\n",
    "nm = 1e-9 #m\n",
    "lamda = 502*nm\n",
    "T = b/lamda\n",
    "print(f'太阳温度为: {T:.2f}K')\n",
    "print(b)"
   ]
  },
  {
   "cell_type": "markdown",
   "metadata": {},
   "source": [
    "### Exercise 6.14 \n",
    "\n",
    "  Consider a square potential well of width $w$, with walls\n",
    "of height $V$:\n",
    "\n",
    "\n",
    "<img src=\"smallwell.png\">\n",
    "\n",
    "Using Schr\\\"odinger's equation, it can be shown that the allowed\n",
    "energies $E$ of a single quantum particle of mass $m$ trapped in the well\n",
    "are solutions of\n",
    "$$\n",
    "\\tan \\sqrt{w^2mE/2\\hbar^2} = \\left\\lbrace\\begin{array}{ll}\n",
    "  \\sqrt{(V-E)/E} & \\qquad\\mbox{for the even numbered states,} \\\\\n",
    "  - \\sqrt{E/(V-E)} & \\qquad\\mbox{for the odd numbered states,}\n",
    "\\end{array}\\right.\n",
    "$$\n",
    "where the states are numbered starting from 0, with the ground state being\n",
    "state 0, the first excited state being state 1, and so forth.\n",
    "\n",
    "1. For an electron (mass $9.1094\\times10^{-31}\\,$kg) in a well with $V =\n",
    "  20\\,$eV and $w = 1\\,$nm, write a Python program to plot the three\n",
    "  quantities\n",
    "$$\n",
    "y_1 = \\tan \\sqrt{w^2mE/2\\hbar^2},\\qquad\n",
    "y_2 = \\sqrt{V-E\\over E},\\qquad\n",
    "y_3 = -\\sqrt{E\\over V-E},\n",
    "$$\n",
    "on the same graph, as a function of $E$ from $E=0$ to $E=20\\,$eV.  From\n",
    "your plot make approximate estimates of the energies of the first six\n",
    "energy levels of the particle.\n",
    "1. Write a second program to calculate the values of the first six\n",
    "  energy levels in electron volts to an accuracy of $0.001\\,$eV using\n",
    "  binary search."
   ]
  },
  {
   "cell_type": "markdown",
   "metadata": {},
   "source": [
    "### 解薛定谔方程\n",
    "\n",
    "有一个宽度为$w$的方势阱, 势阱高度为$V$, \n",
    "\n",
    "由薛定谔方程, 势阱中质量为$m$的粒子的能级是下面的超越方程的解\n",
    "$$\n",
    "\\tan\\sqrt{w^2mE/2\\hbar^2}=\\left\\{\\begin{aligned}\n",
    "\\sqrt{(V-E)/E},&\\quad \\mbox{偶宇称}\\\\\n",
    "-\\sqrt{E/(V-E)},&\\quad \\mbox{奇宇称}\n",
    "\\end{aligned}\n",
    "\\right.\n",
    "$$\n",
    "其中基态是0, 第一激发态是1, 以此类推.\n",
    "\n",
    "\n",
    "1. 设一个电子(质量$9.1094\\times10^{-31}$kg)处于一个$V=20$eV, $w=1$nm的势阱中, 写程序在一张图中画出三个量\n",
    "\t$$y_1=\\tan\\sqrt{w^2mE/2\\hbar^2},\\quad y_2=\\sqrt{\\frac{V-E}{E}},\\quad y_3=-\\sqrt{\\frac{E}{V-E}}, $$\n",
    "\t$E$从0变化到$20$eV. 从图中近似估计前6个能级.  将$E$的变化范围写成$0.001<E<19.999$可以避免分母为零.  (提示: 1. 注意单位制要统一; 2. 在运算中避免过小的数值, 比如电子质量的量级是$10^{-31}$, $w=1\\times10^{-9}$, $\\hbar$的量级$10^{-34}$, 电子伏eV=1.6021766208e-19, 这些可以先行约掉一些，避免计算误差.)\n",
    "\t\n",
    "2. 用二分法算出六个能级, 单位是电子伏(eV), 精度是0.001 eV. 解出的6个能级分别约为0.318 eV, 1.270 eV, 2.851 eV, 5.050 eV, 7.850 eV, 11.215 eV.\n"
   ]
  },
  {
   "cell_type": "markdown",
   "metadata": {},
   "source": [
    "##### 首先画图查找根的大致位置"
   ]
  },
  {
   "cell_type": "code",
   "execution_count": 7,
   "metadata": {},
   "outputs": [
    {
     "data": {
      "text/plain": [
       "[<matplotlib.lines.Line2D at 0x260c8bbdd60>]"
      ]
     },
     "execution_count": 7,
     "metadata": {},
     "output_type": "execute_result"
    },
    {
     "data": {
      "image/png": "[encoded data removed]",
      "text/plain": [
       "<Figure size 432x288 with 1 Axes>"
      ]
     },
     "metadata": {
      "needs_background": "light"
     },
     "output_type": "display_data"
    }
   ],
   "source": [
    "m0=9.1094   \n",
    "ev0 = 1.6021766208\n",
    "w0 = 1.\n",
    "hbar0 = 6.6267004/(2.*np.pi)\n",
    "V = 20     #eV\n",
    "#m0, ev0, w0, hbar0 都忽略指数部分, 因为它们会互相约掉\n",
    "#如果不忽略指数部分, 由于数值较小可能会导致较大误差\n",
    "E = np.linspace(0.001,19.999,1000)\n",
    "y1 = np.tan(np.sqrt(.5*m0*E*ev0)*w0/hbar0)\n",
    "plt.plot(E,y1,'r-')\n",
    "y2 = np.sqrt((V-E)/E)\n",
    "plt.plot(E,y2)\n",
    "plt.ylim(-10,10)\n",
    "y3 = -np.sqrt(E/(V-E))\n",
    "plt.plot(E,y3)"
   ]
  },
  {
   "cell_type": "markdown",
   "metadata": {},
   "source": [
    "根据图像找出根的大致范围，再用二分法确定高精度的根"
   ]
  },
  {
   "cell_type": "code",
   "execution_count": 8,
   "metadata": {},
   "outputs": [
    {
     "name": "stdout",
     "output_type": "stream",
     "text": [
      "E0 is 0.318\n",
      "E1 is 1.270\n",
      "E2 is 2.852\n",
      "E3 is 5.051\n",
      "E4 is 7.851\n",
      "E5 is 11.217\n"
     ]
    }
   ],
   "source": [
    "rgs = np.array([[0.30,0.34],[1.25,1.29],\n",
    "                [2.8,3.0],[4.75,5.25],\n",
    "                [7.6,8.2],[11.0,11.5]]) #二分法求根的范围\n",
    "def f_even(E): #偶宇称方程\n",
    "    return np.tan(np.sqrt(.5*m0*E*ev0)*w0/hbar0)\\\n",
    "             - np.sqrt((V-E)/E)\n",
    "def f_odd(E):  #奇宇称方程\n",
    "    return np.tan(np.sqrt(.5*m0*E*ev0)*w0/hbar0) \\\n",
    "            + np.sqrt(E/(V-E))\n",
    "for i in range(6):\n",
    "    if i%2: #奇宇称能级计算\n",
    "        print(\"E{:d} is {:.3f}\".format(i, \n",
    "              bisect(f_odd, rgs[i][0],rgs[i][1],ep=1e-3)[0]))\n",
    "    else: #偶宇称能级计算\n",
    "        print(\"E{:d} is {:.3f}\".format(i, \n",
    "              bisect(f_even, rgs[i][0],rgs[i][1],ep=1e-3)[0]))"
   ]
  },
  {
   "cell_type": "markdown",
   "metadata": {},
   "source": [
    "### Exercise 6.15 \n",
    "\n",
    "**The roots of a polynomial**\n",
    "\n",
    "  Consider the sixth-order polynomial\n",
    "$$\n",
    "P(x) = 924 x^6 - 2772 x^5 + 3150 x^4 - 1680 x^3 + 420 x^2 - 42 x + 1.\n",
    "$$\n",
    "There is no general formula for the roots of a sixth-order polynomial, but\n",
    "one can find them easily enough using a computer.\n",
    "\n",
    "1. Make a plot of $P(x)$ from $x=0$ to $x=1$ and by inspecting it find\n",
    "  rough values for the six roots of the polynomial---the points at which\n",
    "  the function is zero.\n",
    "1. Write a Python program to solve for the positions of all six roots to\n",
    "  at least ten decimal places of accuracy, using Newton's method.\n",
    "\n",
    "Note that the polynomial in this example is just the sixth Legendre\n",
    "polynomial (mapped onto the interval from zero to one), so the calculation\n",
    "performed here is the same as finding the integration points for 6-point\n",
    "Gaussian quadrature (see Section 5.6.2), and indeed Newton's method is the\n",
    "method of choice for calculating Gaussian quadrature points."
   ]
  },
  {
   "cell_type": "markdown",
   "metadata": {},
   "source": [
    "**多项式的根**\n",
    "                      \n",
    "考虑6次多项式\n",
    "$$P(x)=924x^6-2772x^5+3150x^4-1680x^3+420x^2-42x+1. $$\n",
    "一般4次以上的多项式就没有求解的一般公式了, 但是可以用计算机求解.\n",
    "\n",
    "1. 画$P(x)$的图像, $x$从0到1, 找到6个根的大致位置.\n",
    "2. 用切线法找到6个根的位置, 精确到小数点后面10位.\n",
    "\n",
    "本题中的多项式就是6阶勒让德多项式(映射到[0,1]区间), 使用这里的计算等同于计算Gauss积分的6个插值点, 实际上切线法正是计算Gauss积分样本点所采用的算法."
   ]
  },
  {
   "cell_type": "code",
   "execution_count": 83,
   "metadata": {},
   "outputs": [
    {
     "data": {
      "image/png": "[encoded data removed]",
      "text/plain": [
       "<Figure size 432x288 with 1 Axes>"
      ]
     },
     "metadata": {
      "needs_background": "light"
     },
     "output_type": "display_data"
    },
    {
     "data": {
      "text/latex": [
       "$\\displaystyle 5544 x^{5} - 13860 x^{4} + 12600 x^{3} - 5040 x^{2} + 840 x - 42$"
      ],
      "text/plain": [
       "5544*x**5 - 13860*x**4 + 12600*x**3 - 5040*x**2 + 840*x - 42"
      ]
     },
     "execution_count": 83,
     "metadata": {},
     "output_type": "execute_result"
    }
   ],
   "source": [
    "from sympy import plot,diff,symbols\n",
    "x = symbols('x')\n",
    "plot(924*x**6-2772*x**5+3150*x**4-1680*x**3+420*x*x-42*x+1,(x,0,1))\n",
    "diff(924*x**6-2772*x**5+3150*x**4-1680*x**3+420*x*x-42*x+1,x)"
   ]
  },
  {
   "cell_type": "code",
   "execution_count": 85,
   "metadata": {},
   "outputs": [
    {
     "data": {
      "text/plain": [
       "[<matplotlib.lines.Line2D at 0x260cb833760>]"
      ]
     },
     "execution_count": 85,
     "metadata": {},
     "output_type": "execute_result"
    },
    {
     "data": {
      "image/png": "[encoded data removed]",
      "text/plain": [
       "<Figure size 432x288 with 1 Axes>"
      ]
     },
     "metadata": {
      "needs_background": "light"
     },
     "output_type": "display_data"
    }
   ],
   "source": [
    "def p(x):\n",
    "    return 924*x**6-2772*x**5+3150*x**4-1680*x**3+420*x*x-42*x+1\n",
    "def df(x):\n",
    "    return 5544*x**5-13860*x**4+12600*x**3-5040*x**2+840*x-42\n",
    "x = np.linspace(0,1,100)\n",
    "plt.plot(x,p(x))\n",
    "plt.plot([0,1],[0,0])"
   ]
  },
  {
   "cell_type": "code",
   "execution_count": 86,
   "metadata": {},
   "outputs": [],
   "source": [
    "def rootNewton(f, df, xs, ep=1.0e-5, Nm=100):\n",
    "    \"\"\"\n",
    "    f: 要求解的函数\n",
    "    df: 函数导数\n",
    "    xs: 初始猜测值\n",
    "    ep: 求根的精度\n",
    "    Nm: 最大迭代次数\n",
    "    \"\"\"\n",
    "    x = xs + 2*ep  #使迭代条件为真的一个设置\n",
    "    k = 0\n",
    "    while abs(x-xs)> ep and k<100:\n",
    "        k = k+1\n",
    "        xs = x\n",
    "        x = x - f(x)/df(x) #迭代公式\n",
    "    if k == Nm: raise('达到迭代次数上限')\n",
    "    return x, k"
   ]
  },
  {
   "cell_type": "code",
   "execution_count": 89,
   "metadata": {},
   "outputs": [
    {
     "name": "stdout",
     "output_type": "stream",
     "text": [
      "[0.03376524282513546, 0.16939530676686773, 0.38069040695838524, 0.6193095930416106, 0.8306046932336915, 0.9662347571015558]\n"
     ]
    }
   ],
   "source": [
    "xs = [0.01,0.2,0.4,0.6,0.86,1.0]\n",
    "xf = []\n",
    "for x in xs:\n",
    "    xf.append(rootNewton(p,df,x)[0])\n",
    "print(xf)"
   ]
  },
  {
   "cell_type": "code",
   "execution_count": 88,
   "metadata": {},
   "outputs": [
    {
     "name": "stdout",
     "output_type": "stream",
     "text": [
      "[0.03376524 0.16939531 0.38069041 0.61930959 0.83060469 0.96623476]\n"
     ]
    }
   ],
   "source": [
    "from scipy.special import roots_legendre\n",
    "xp,_=roots_legendre(6)\n",
    "xr = xp*0.5+0.5\n",
    "print(xr)"
   ]
  },
  {
   "cell_type": "markdown",
   "metadata": {},
   "source": [
    "### Exercise 6.16 \n",
    "\n",
    "**The Lagrange point**\n",
    "\n",
    "  There is a magical point between the Earth and the Moon, called the\n",
    "$L_1$ Lagrange point, at which a satellite will orbit the Earth in perfect\n",
    "synchrony with the Moon, staying always in between the two.  This works\n",
    "because the inward pull of the Earth and the outward pull of the Moon\n",
    "combine to create exactly the needed centripetal force that kepng the\n",
    "satellite in its orbit.  Here's the setup: \\bigskip\n",
    "\n",
    "<img src=\"l1.png\">\n",
    "\n",
    "\n",
    "\n",
    "1. Assuming circular orbits, and assuming that the Earth is much more\n",
    "  massive than either the Moon or the satellite, show that the distance $r$\n",
    "  from the center of the Earth to the $L_1$ point satisfies\n",
    "$$\n",
    "{GM\\over r^2} - {Gm\\over(R-r)^2} = \\omega^2 r,\n",
    "$$\n",
    "where $M$ and $m$ are the Earth and Moon masses, $G$ is Newton's\n",
    "gravitational constant, and $\\omega$ is the angular velocity of both the\n",
    "Moon and the satellite.\n",
    "1. The equation above is a fifth-order polynomial equation in $r$ (also\n",
    "  called a quintic equation).  Such equations cannot be solved exactly in\n",
    "  closed form, but it's straightforward to solve them numerically.  Write a\n",
    "  program that uses either Newton's method or the secant method to solve\n",
    "  for the distance $r$ from the Earth to the $L_1$ point.  Compute a\n",
    "  solution accurate to at least four significant figures.\n",
    "\n",
    "  The values of the various parameters are:\n",
    "\\begin{align*}\n",
    "G &= 6.674\\times10^{-11}\\,\\mathrm{m}^3\\mathrm{kg}^{-1}\\mathrm{s}^{-2}, \\\\\n",
    "M &= 5.974\\times10^{24}\\,\\mathrm{kg}, \\\\\n",
    "m &= 7.348\\times10^{22}\\,\\mathrm{kg}, \\\\\n",
    "R &= 3.844\\times10^8\\,\\mathrm{m}, \\\\\n",
    "\\omega &= 2.662\\times10^{-6}\\,\\mathrm{s}^{-1}.\n",
    "\\end{align*}\n",
    "You will also need to choose a suitable starting value for $r$, or two\n",
    "starting values if you use the secant method."
   ]
  },
  {
   "cell_type": "markdown",
   "metadata": {},
   "source": [
    "**拉格朗日点**\n",
    "\n",
    "在月亮和地球之间有一个神奇的点, 被称为$L_1$拉格朗日点, 位于这个点的地球卫星和月球完全同步, 永远处于两者之间. 这是由于地球和月亮作用于卫星的万有引力将卫星保持在它的轨道上. 如下图所示:\n",
    "<img src=\"l1.png\" width=250>\n",
    "\n",
    "1. 设轨道是圆形的, 并假设地球比月亮和卫星的质量大得多, 请说明从地心到$L_1$点的距离$r$满足\n",
    "\t$$\\frac{GM}{r^2}-\\frac{Gm}{(R-r)^2}=\\omega^2r, $$\n",
    "其中$M$和$m$分别是地球和月亮的质量, $G$是万有引力常数, $\\omega$是月亮和卫星的角速度.\n",
    "\n",
    "2. 上面的方程是关于$r$的5次多项式. 这个方程不能求解析解, 但是可以求数值解. 用切线法或者弦截法求解对应于$L_1$点的$r$. 解至少精确到4位有效数字.\n",
    "\n",
    "其它常数的值如下:\n",
    "\\begin{align*}\n",
    "G &= 6.674\\times10^{-11}\\,\\mathrm{m}^3\\mathrm{kg}^{-1}\\mathrm{s}^{-2}, \\\\\n",
    "M &= 5.974\\times10^{24}\\,\\mathrm{kg}, \\\\\n",
    "m &= 7.348\\times10^{22}\\,\\mathrm{kg}, \\\\\n",
    "R &= 3.844\\times10^8\\,\\mathrm{m}, \\\\\n",
    "\\omega &= 2.662\\times10^{-6}\\,\\mathrm{s}^{-1}.\n",
    "\\end{align*}\n",
    "如果用切线法，你需要选择一个合适的初值, 如果用弦截法, 需要两个初始点.\n"
   ]
  },
  {
   "cell_type": "markdown",
   "metadata": {},
   "source": [
    "3. 试用fsolve()求这个方程的根，和第2问的结果相比较."
   ]
  },
  {
   "cell_type": "code",
   "execution_count": 16,
   "metadata": {},
   "outputs": [
    {
     "name": "stderr",
     "output_type": "stream",
     "text": [
      "<ipython-input-16-2739f69930e0>:8: RuntimeWarning: divide by zero encountered in true_divide\n",
      "  return G*M/r**2-G*m/(R-r)**2-w**2*r\n",
      "<ipython-input-16-2739f69930e0>:8: RuntimeWarning: invalid value encountered in true_divide\n",
      "  return G*M/r**2-G*m/(R-r)**2-w**2*r\n"
     ]
    },
    {
     "data": {
      "text/plain": [
       "[<matplotlib.lines.Line2D at 0x20988207b80>,\n",
       " <matplotlib.lines.Line2D at 0x20988207c40>]"
      ]
     },
     "execution_count": 16,
     "metadata": {},
     "output_type": "execute_result"
    }
   ],
   "source": [
    "%matplotlib qt5\n",
    "def f(r,G=6.674,M = 5.974e13,m = 7.348e11,R = 3.844e8,w = 2.662e-6):\n",
    "    M = 5.974e24 #kg\n",
    "    m = 7.348e22 #kg\n",
    "    R = 3.844e8 #m\n",
    "    return G*M/r**2-G*m/(R-r)**2-w**2*r\n",
    "R = 3.844e8 #m\n",
    "x = np.linspace(3.2/3.8*R,R,1000)\n",
    "y1 = f(x,w=0)\n",
    "y2 = -f(x,G=0)\n",
    "plt.plot(x,y1,x,y2)"
   ]
  },
  {
   "cell_type": "code",
   "execution_count": 32,
   "metadata": {},
   "outputs": [
    {
     "name": "stdout",
     "output_type": "stream",
     "text": [
      "第一个拉格朗日点L1距离地球：326045.07公里\n"
     ]
    }
   ],
   "source": [
    "def f(r):\n",
    "    G = 6.674 #e-11m^3/kg/s^2\n",
    "    M = 5.974e13 #e11*kg\n",
    "    m = 7.348e11 #e11*kg\n",
    "    R = 3.844e8 #m\n",
    "    w = 2.662e-6 #s^-1\n",
    "    return G*M/r**2-G*m/(R-r)**2-w**2*r\n",
    "def secand(f,xf,xs,iter_max=1000,ep=1e-5):\n",
    "    \"\"\"\n",
    "    利用弦截法求方程的根\n",
    "    f: 需要解的方程\n",
    "    xf,xs: 两个初始点\n",
    "    \"\"\"\n",
    "    iter = 0\n",
    "    x = xf+2*ep  #使循环条件满足的一个设置\n",
    "    while abs(x-xf)>ep and iter<iter_max:\n",
    "        x = xs-f(xs)*(xs-xf)/(f(xs)-f(xf)) #迭代公式\n",
    "        xf, xs = xs, x\n",
    "        iter += 1\n",
    "    if iter == iter_max: raise('达到迭代上限')\n",
    "    return (x,iter)\n",
    "res,_ = secand(f,3.0e8,3.8e8)\n",
    "print(f\"第一个拉格朗日点L1距离地球：{res*1e-3:.2f}公里\")"
   ]
  },
  {
   "cell_type": "code",
   "execution_count": 30,
   "metadata": {},
   "outputs": [
    {
     "data": {
      "text/plain": [
       "326045071.66535544"
      ]
     },
     "execution_count": 30,
     "metadata": {},
     "output_type": "execute_result"
    }
   ],
   "source": []
  },
  {
   "cell_type": "markdown",
   "metadata": {},
   "source": [
    "### Exercise 6.17\n",
    "\n",
    "**Nonlinear circuits**\n",
    "\n",
    "  Exercise 6.1 used regular simultaneous equations to solve for the\n",
    "behavior of circuits of resistors.  Resistors are linear---current is\n",
    "proportional to voltage---and the resulting equations we need to solve are\n",
    "therefore also linear and can be solved by standard matrix methods.  Real\n",
    "circuits, however, often include nonlinear components.  To solve for the\n",
    "behavior of these circuits we need to solve nonlinear equations.\n",
    "\n",
    "\n",
    "Consider the following simple circuit, a variation on the classic\n",
    "Wheatstone bridge:\n",
    "\n",
    "\n",
    "<img src=\"nlcircuit.png\">\n",
    "\n",
    "The resistors obey the normal Ohm law, but the diode obeys the diode\n",
    "equation:\n",
    "$$\n",
    "I = I_0 ( e^{V/V_T} - 1),\n",
    "$$\n",
    "where $V$ is the voltage across the diode and $I_0$ and $V_T$ are\n",
    "constants.\n",
    "\n",
    "\n",
    "1. The Kirchhoff current law says that the total net current flowing\n",
    "  into or out of every point in a circuit must be zero.  Applying the law\n",
    "  to voltage $V_1$ in the circuit above we get\n",
    "$$\n",
    "{V_1-V_+\\over R_1} + {V_1\\over R_2}\n",
    "  + I_0\\bigl[ e^{(V_1-V_2)/V_T} - 1\\bigr] = 0.\n",
    "$$\n",
    "Derive the corresponding equation for voltage $V_2$.\n",
    "1. Solve the two nonlinear equations for the voltages $V_1$ and $V_2$\n",
    "  with the conditions\n",
    "\\begin{align*}\n",
    "V_+ &= 5\\,\\textrm{V}, \\\\\n",
    "R_1 &= 1\\,\\mathrm{k}\\Omega, \\qquad\n",
    "R_2 = 4\\,\\mathrm{k}\\Omega, \\qquad\n",
    "R_3 = 3\\,\\mathrm{k}\\Omega, \\qquad\n",
    "R_4 = 2\\,\\mathrm{k}\\Omega, \\\\\n",
    "I_0 &= 3\\,\\textrm{nA},\\qquad\n",
    "V_T = 0.05\\,\\textrm{V}.\n",
    "\\end{align*}\n",
    "You can use either the relaxation method or Newton's method to solve the\n",
    "equations.  If you use Newton's method you can solve Eq. (6.108) for\n",
    "$\\Delta\\vec{x}$ using the function \\verb|solve()| from \\verb|numpy.linalg|\n",
    "if you want to, but in this case the matrix is only a $2\\times2$ matrix, so\n",
    "it's easy to calculate the inverse directly too.\n",
    "1. The electronic engineer's rule of thumb for diodes is that the\n",
    "  voltage across a (forward biased) diode is always about 0.6 volts.\n",
    "  Confirm that your results agree with this rule."
   ]
  },
  {
   "cell_type": "markdown",
   "metadata": {},
   "source": [
    "**非线性电路**"
   ]
  },
  {
   "cell_type": "markdown",
   "metadata": {},
   "source": [
    "考虑下图中的简单电路, 这是Wheatstone桥的一个变型:\n",
    "\n",
    "<img src=\"nlcircuit.png\">\n",
    "    \n",
    "电阻服从正则欧姆定律, 但是二极管服从二极管方程：\n",
    "$$I = I_0(e^{V/V_T}-1), $$\n",
    "其中$V$是二极管两端的电压, $I_0$和$V_T$是常数.\n",
    "\n",
    "1. 由基尔霍夫电流定律, 电路中每个节点流入和流出的总电流为0. 将这个定律应用到$V_1$, 得到:\n",
    "$${V_1-V_+\\over R_1} + {V_1\\over R_2}\n",
    "\t+ I_0\\bigl[e^{(V_1-V_2)/V_T} - 1\\bigr] = 0.$$\n",
    "\t推导关于$V_2$的对应方程.\n",
    "2. 解关于$V_1$和$V_2$的两个非线性方程, 条件为\n",
    "\t\\begin{align*}\n",
    "\tV_+ &= 5\\,\\textrm{V}, \\\\\n",
    "\tR_1 &= 1\\,\\mathrm{k}\\Omega, \\qquad\n",
    "\tR_2 = 4\\,\\mathrm{k}\\Omega, \\qquad\n",
    "\tR_3 = 3\\,\\mathrm{k}\\Omega, \\qquad\n",
    "\tR_4 = 2\\,\\mathrm{k}\\Omega, \\\\\n",
    "\tI_0 &= 3\\,\\textrm{nA},\\qquad\n",
    "\tV_T = 0.05\\,\\textrm{V}.\n",
    "\t\\end{align*}\n",
    "3. 电子工程师的二极管经验法则是二极管两端的电压一直都约为0.6瓦.\n"
   ]
  },
  {
   "cell_type": "markdown",
   "metadata": {},
   "source": [
    "### Exercise 6.18\n",
    "\n",
    "**The temperature of a light bulb**\n",
    "\n",
    "  An incandescent light bulb is a simple device---it contains a\n",
    "filament, usually made of tungsten, heated by the flow of electricity until\n",
    "it becomes hot enough to radiate thermally.  Essentially all of the power\n",
    "consumed by such a bulb is radiated as electromagnetic energy, but some of\n",
    "the radiation is not in the visible wavelengths, which means it is useless\n",
    "for lighting purposes.\n",
    "\n",
    "Let us define the efficiency of a light bulb to be the fraction of the\n",
    "radiated energy that falls in the visible band.  It's a good approximation\n",
    "to assume that the radiation from a filament at temperature $T$ obeys the\n",
    "Planck radiation law, meaning that the power radiated per unit\n",
    "wavelength $\\lambda$ obeys\n",
    "$$\n",
    "  I(\\lambda) = 2\\pi A hc^2 {\\lambda^{-5}\\over e^{hc/\\lambda k_BT}-1},\n",
    "$$\n",
    "where $A$ is the surface area of the filament, $h$ is Planck's constant,\n",
    "$c$ is the speed of light, and $k_B$ is Boltzmann's constant.  The visible\n",
    "wavelengths run from $\\lambda_1=390\\,$nm to $\\lambda_2=750\\,$nm, so the\n",
    "total energy radiated in the visible window is\n",
    "$\\int_{\\lambda_1}^{\\lambda_2} I(\\lambda)\\> d\\lambda$ and the total energy\n",
    "at all wavelengths is $\\int_0^\\infty I(\\lambda)\\> d\\lambda$.  Dividing one\n",
    "expression by the other and substituting for $I(\\lambda)$ from above, we\n",
    "get an expression for the efficiency $\\eta$ of the light bulb thus:\n",
    "$$\n",
    "\\eta = {\\int_{\\lambda_1}^{\\lambda_2} \\lambda^{-5}/( e^{hc/\\lambda\n",
    "        k_BT}-1) \\> d\\lambda\\over\n",
    "        \\int_0^\\infty \\lambda^{-5}/( e^{hc/\\lambda k_BT}-1) \\> d\\lambda},\n",
    "$$\n",
    "where the leading constants and the area $A$ have canceled out.  Making\n",
    "the substitution $x=hc/\\lambda k_BT$, this can also be written as\n",
    "$$\n",
    "\\eta = {\\int_{hc/\\lambda_2 k_BT}^{hc/\\lambda_1 k_BT} x^3/( e^x-1) \\> d x\n",
    "        \\over \\int_0^\\infty x^3/( e^x-1) \\> d x}\n",
    "     = {15\\over\\pi^4}\n",
    "       \\int_{hc/\\lambda_2 k_BT}^{hc/\\lambda_1 k_BT}\n",
    "       {x^3\\over e^x-1} \\> d x,\n",
    "$$\n",
    "where we have made use of the known exact value of the integral in the\n",
    "denominator.\n",
    "\n",
    "\n",
    "1. Write a Python function that takes a temperature $T$ as its argument\n",
    "  and calculates the value of $\\eta$ for that temperature from the formula\n",
    "  above.  The integral in the formula cannot be done analytically, but you\n",
    "  can do it numerically using any method of your choice.  (For instance,\n",
    "  Gaussian quadrature with 100 sample points works fine.)  Use your\n",
    "  function to make a graph of $\\eta$ as a function of temperature between\n",
    "  $300\\,$K and $10\\,000\\,$K.  You should see that there is an intermediate\n",
    "  temperature where the efficiency is a maximum.\n",
    "1. Calculate the temperature of maximum efficiency of the light bulb to\n",
    "  within $1\\,$K using golden ratio search.  (Hint: An accuracy of $1\\,$K is\n",
    "  the equivalent of a few parts in ten thousand in this case.  To get this\n",
    "  kind of accuracy in your calculation you'll need to use values for the\n",
    "  fundamental constants that are suitably accurate, i.e., you will need\n",
    "  values accurate to several significant figures.)\n",
    "1. Is it practical to run a tungsten-filament light bulb at the\n",
    "  temperature you found?  If not, why not?"
   ]
  },
  {
   "cell_type": "markdown",
   "metadata": {},
   "source": [
    "**灯泡的温度**\n",
    "\n",
    "白炽灯是一种简单的装置---它一个由钨制成的丝, 被电流加热到足够高的温度以进行热辐射. \n",
    "基本上\n",
    "这种灯泡消耗的所有功率都以电磁能的形式辐射出去, 但是有部分辐射不在可见光波段, 所以这些辐射不能用于照明.\n",
    "\n",
    "我们将灯泡的效率定义为可见光波段的辐射能所占的比例. 假设温度为$T$的纤维辐射服从普朗克辐射定律, 即每单位波长辐射的概率服从\n",
    "$$\n",
    "I(\\lambda) = 2\\pi A hc^2 {\\lambda^{-5}\\over e^{hc/\\lambda k_BT}-1},\n",
    "$$\n",
    "其中$A$是纤维表面温度, $h$是普朗克常数, $c$是光速, $k_B$是玻尔兹曼常数. 可见光波长从$\\lambda_1=390$nm到$\\lambda_2=750$nm, 所以可见光波段的总辐射为$\\int_{\\lambda_1}^{\\lambda_2}I(\\lambda)d\\lambda $, 总辐射能为 $\\int_{0}^{\\infty}I(\\lambda)d\\lambda $. 将一个表达式除以另一个, 并将$I(\\lambda)$替换为上式有:\n",
    "$$\n",
    "\\eta = {\\int_{\\lambda_1}^{\\lambda_2} \\lambda^{-5}/(e^{hc/\\lambda\n",
    "\t\tk_BT}-1) d\\lambda\\over\n",
    "\t\\int_0^\\infty \\lambda^{-5}/(e^{hc/\\lambda k_BT}-1) d\\lambda},\n",
    "$$\n",
    "其中前面的常数和面积$A$被消去. 做变量代换$x=hc/\\lambda k_BT$, 上式可写为\n",
    "$$\n",
    "\\eta = {\\int_{hc/\\lambda_2 k_BT}^{hc/\\lambda_1 k_BT} x^3/(e^x-1) d x\n",
    "\t\\over \\int_0^\\infty x^3/(e^x-1) d x}\n",
    "= {15\\over\\pi^4}\n",
    "\\int_{hc/\\lambda_2 k_BT}^{hc/\\lambda_1 k_BT}\n",
    "{x^3\\over e^x-1} d x,\n",
    "$$\n",
    "其中我们认为分母中的积分已知.\n",
    "\n",
    "\n",
    "1. 写程序, 以$T$作为参数计算$\\eta$. 公式中的积分无法求解析解, 但是可以使用我们学过的数值积分法则求解(比如100个样本点的Gauss积分). 用你的函数画出$\\eta$和$T$的关系图, $T$的变化范围是300 K到10\\,000 K. 可以看到中间有一个温度效率最大.\n",
    "2. 使用黄金分割法计算灯泡的最大效率, 精度为1 K. (提示: 在本题中, 1 K的精度相对于万分之几. 要达到这个精度需要基本常数也达到一个合适的精度, 即需要基本常数的精度达到几位有效数字.)\n",
    "3. 在实际生活中, 钨丝灯是否能保持在你发现的温度? 如果不能, 为什么?"
   ]
  },
  {
   "cell_type": "code",
   "execution_count": 26,
   "metadata": {},
   "outputs": [
    {
     "data": {
      "image/png": "[encoded data removed]",
      "text/plain": [
       "<Figure size 640x480 with 1 Axes>"
      ]
     },
     "metadata": {},
     "output_type": "display_data"
    }
   ],
   "source": [
    "import numpy as np, matplotlib.pyplot as plt\n",
    "from scipy.integrate import quad\n",
    "\n",
    "import numpy as np\n",
    "import matplotlib.pyplot as plt\n",
    "from scipy.integrate import fixed_quad\n",
    "\n",
    "# Constants\n",
    "h = 6.626e-34  # Planck constant\n",
    "c = 2.998e8    # Speed of light \n",
    "k = 1.381e-23  # Boltzmann constant\n",
    "l1 = 390e-9    # Lower wavelength of visible light\n",
    "l2 = 750e-9    # Upper wavelength of visible light\n",
    "\n",
    "def integrand(x):\n",
    "    return x**3 / (np.exp(x) - 1)\n",
    "\n",
    "def efficiency(T):\n",
    "    a = h*c/(l2*k*T) \n",
    "    b = h*c/(l1*k*T)\n",
    "    I, _ = fixed_quad(integrand, a, b, n=100)\n",
    "    return 15/np.pi**4 * I\n",
    "\n",
    "T = np.linspace(300, 10000, 100)\n",
    "eta = [efficiency(t) for t in T]\n",
    "\n",
    "plt.plot(T, eta)\n",
    "plt.plot(optimal_temperature,max_efficiency,'ro')\n",
    "plt.xlabel('Temperature (K)')\n",
    "plt.ylabel('Efficiency')"
   ]
  },
  {
   "cell_type": "code",
   "execution_count": 32,
   "metadata": {},
   "outputs": [
    {
     "name": "stdout",
     "output_type": "stream",
     "text": [
      "Optimal temperature: 6927 K\n",
      "Maximum efficiency: 0.452\n"
     ]
    }
   ],
   "source": [
    "gr = (np.sqrt(5) + 1) / 2 # Golden ratio\n",
    "def golden_search(f, a, b, tol=1e-9):\n",
    "    c = b - (b - a) / gr4\n",
    "\n",
    "    \n",
    "    d = a + (b - a) / gr\n",
    "    while abs(b - a) > tol:\n",
    "        if f(c) < f(d):\n",
    "            b = d\n",
    "        else:\n",
    "            a = c\n",
    "        c = b - (b - a) / gr\n",
    "        d = a + (b - a) / gr\n",
    "    return (b + a) / 2\n",
    "\n",
    "T_opt = golden_search(lambda t: -efficiency(t), 1000, 10000, tol=1)\n",
    "print(f'Optimal temperature: {T_opt:.0f} K')\n",
    "print(f'Maximum efficiency: {efficiency(T_opt):.3f}')"
   ]
  },
  {
   "cell_type": "markdown",
   "metadata": {},
   "source": [
    "所以在6927K时,白炽灯的效率达到最大值45.2%。要达到这个精度,各物理常数需要至少4位有效数字的精度。\n",
    "\n",
    "在实际生活中,钨丝灯很难稳定在6900K左右的最佳温度。主要原因有:\n",
    "(1) 钨的熔点为3695K,在6600K下钨丝会迅速蒸发,灯泡寿命很短。\n",
    "\n",
    "(2) 高温下钨丝电阻急剧增大,灯丝易断。\n",
    "\n",
    "(3) 玻璃灯泡在高温下易熔化变形。\n",
    "\n",
    "(4) 高温下钨丝会与灯泡内残留的气体发生反应。\n",
    "\n",
    "因此实际的白炽灯一般工作在2700K左右,效率只有5%,大部分能量都以无法被人眼感知的红外辐射形式损耗掉了。这也是白炽灯逐渐被淘汰的原因之一。"
   ]
  },
  {
   "cell_type": "code",
   "execution_count": 33,
   "metadata": {},
   "outputs": [
    {
     "name": "stdout",
     "output_type": "stream",
     "text": [
      "1.618033988749895\n"
     ]
    }
   ],
   "source": [
    "print(gr)"
   ]
  },
  {
   "cell_type": "code",
   "execution_count": 34,
   "metadata": {},
   "outputs": [
    {
     "name": "stdout",
     "output_type": "stream",
     "text": [
      "0.3819660112501052 0.6180339887498948\n"
     ]
    }
   ],
   "source": [
    "a=0\n",
    "b=1\n",
    "c = b - (b - a) / gr\n",
    "d = a + (b - a) / gr\n",
    "print(c,d)"
   ]
  },
  {
   "cell_type": "code",
   "execution_count": 35,
   "metadata": {},
   "outputs": [
    {
     "data": {
      "text/plain": [
       "0.618"
      ]
     },
     "execution_count": 35,
     "metadata": {},
     "output_type": "execute_result"
    }
   ],
   "source": [
    "a+0.618"
   ]
  },
  {
   "cell_type": "code",
   "execution_count": 36,
   "metadata": {},
   "outputs": [
    {
     "data": {
      "text/plain": [
       "0.382"
      ]
     },
     "execution_count": 36,
     "metadata": {},
     "output_type": "execute_result"
    }
   ],
   "source": [
    "b-0.618"
   ]
  },
  {
   "cell_type": "code",
   "execution_count": null,
   "metadata": {},
   "outputs": [],
   "source": []
  }
 ],
 "metadata": {
  "kernelspec": {
   "display_name": "Python3",
   "language": "python",
   "name": "python3"
  },
  "language_info": {
   "codemirror_mode": {
    "name": "ipython",
    "version": 3
   },
   "file_extension": ".py",
   "mimetype": "text/x-python",
   "name": "python",
   "nbconvert_exporter": "python",
   "pygments_lexer": "ipython3",
   "version": "3.9.6"
  }
 },
 "nbformat": 4,
 "nbformat_minor": 4
}
