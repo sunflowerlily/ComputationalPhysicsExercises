{
 "cells": [
  {
   "cell_type": "markdown",
   "metadata": {},
   "source": [
    "## 2.2 Output and Input Statements"
   ]
  },
  {
   "cell_type": "markdown",
   "metadata": {},
   "source": [
    "###  Exercise 2.1 Another ball dropped from a tower\n",
    "\n",
    "A ball is dropped from a tower of height $h$ with initial velocity\n",
    "zero.  Write a program that asks the user to enter the height in meters of\n",
    "the tower and then calculates and prints the time the ball takes until it\n",
    "hits the ground, ignoring air resistance.  Use your program to calculate\n",
    "the time for a ball dropped from a $100\\,$m high tower."
   ]
  },
  {
   "cell_type": "markdown",
   "metadata": {},
   "source": [
    "### Exercise 2.2 Altitude of a satellite\n",
    "\n",
    "A satellite is to be launched into a circular orbit around the\n",
    "Earth so that it orbits the planet once every $T$ seconds.\n",
    "\n",
    "1. Show that the altitude $h$ above the Earth's surface that the\n",
    "  satellite must have is\n",
    "$$\n",
    "h = \\biggl( {GMT^2\\over4\\pi^2} \\biggr)^{1/3} - R,\n",
    "$$\n",
    "where\n",
    "$G=6.67\\times10^{-11}\\,\\textrm{m}^3\\,\\textrm{kg}^{-1}\\,\\textrm{s}^{-2}$ is\n",
    "Newton's gravitational constant, $M=5.97\\times10^{24}\\,$kg is the mass of\n",
    "the Earth, and $R=6371\\,$km is its radius.\n",
    "2. Write a program that asks the user to enter the desired value of $T$\n",
    "  and then calculates and prints out the correct altitude in meters.\n",
    "3. Use your program to calculate the altitudes of satellites that orbit\n",
    "  the Earth once a day (so-called ``geosynchronous'' orbit), once every 90\n",
    "  minutes, and once every 45 minutes.  What do you conclude from the last\n",
    "  of these calculations?\n",
    "4. Technically a geosynchronous satellite is one that orbits the Earth\n",
    "  once per **sidereal day**, which is 23.93 hours, not 24 hours.  Why\n",
    "  is this?  And how much difference will it make to the altitude of the\n",
    "  satellite?\n"
   ]
  },
  {
   "cell_type": "markdown",
   "metadata": {},
   "source": [
    "## 2.2.5 Functions, Packages, and Modules"
   ]
  },
  {
   "cell_type": "markdown",
   "metadata": {},
   "source": [
    "### Exercise 2.3 \n",
    "Write a program to perform the inverse operation to that of\n",
    "Example 2.2.  That is, ask the user for the Cartesian coordinates $x,y$ of\n",
    "a point in two-dimensional space, and calculate and print the corresponding\n",
    "polar coordinates, with the angle $\\theta$ given in degrees."
   ]
  },
  {
   "cell_type": "code",
   "execution_count": 6,
   "metadata": {},
   "outputs": [
    {
     "name": "stdout",
     "output_type": "stream",
     "text": [
      "Enter a x:4\n",
      "Enter a y:3\n",
      "r =  5.0 theta =  36.86989764584402\n"
     ]
    }
   ],
   "source": [
    "#解：\n",
    "import math\n",
    "x = float(input(\"Enter a x:\"))\n",
    "y = float(input(\"Enter a y:\"))\n",
    "r = math.sqrt(x*x+y*y)\n",
    "theta = math.atan(y/x)*180/math.pi\n",
    "print(\"r = \",r,\"theta = \", theta)"
   ]
  },
  {
   "cell_type": "markdown",
   "metadata": {},
   "source": [
    "### Exercise 2.4\n",
    "\n",
    " A spaceship travels from Earth in a straight line at relativistic\n",
    "speed $v$ to another planet $x$ light years away.  Write a program to ask\n",
    "the user for the value of $x$ and the speed $v$ as a fraction of the speed\n",
    "of light $c$, then print out the time in years that the spaceship takes to\n",
    "reach its destination \n",
    "  (a) in the rest frame of an observer on Earth and\n",
    "  (b) as perceived by a passenger on board the ship.  Use your program to\n",
    "calculate the answers for a planet 10 light years away with $v=0.99c$."
   ]
  },
  {
   "cell_type": "markdown",
   "metadata": {},
   "source": [
    "一艘宇宙飞船从地球出发，以相对论速度$v$沿直线向$x$光年以外的另一个行星运动。写程序使用户输入$x$的值和速度$v$,这里$v$是相对于光速的比率，输出到达目的地需要的时间(以年为单位), (a) 在地球上观察值的静止坐标系；(b) 在飞船乘客的移动坐标系. 设行星位于10光年处，光速为$v=0.99c$."
   ]
  },
  {
   "cell_type": "markdown",
   "metadata": {},
   "source": [
    "(a)在地面参考系，运动时间$$t=l/v,$$\n",
    "\n",
    "(b)在飞船坐标系\n",
    "首先求洛伦兹因子\n",
    "$$\\gamma=\\frac{1}{\\sqrt{1-v^2/c^2}},$$\n",
    "在飞船坐标系，距离等于$$l= l_0/\\gamma,$$ 运动时间$$t=l/v$$"
   ]
  },
  {
   "cell_type": "markdown",
   "metadata": {},
   "source": [
    "#### 宇宙线中的$\\pi$介子的运动距离\n",
    "\n",
    "已知静止$\\pi$介子的寿命是$\\tau_0$, 宇宙线中$\\pi$介子的速度为$v$, 求在地面上看$\\pi$运动的距离."
   ]
  },
  {
   "cell_type": "markdown",
   "metadata": {},
   "source": [
    "解: 在地面上看, $\\pi$介子的寿命为$\\gamma\\tau_0$, 运动距离为$v\\gamma\\tau_0$."
   ]
  },
  {
   "cell_type": "markdown",
   "metadata": {},
   "source": [
    "### Exercise 2.5\n",
    "\n",
    "**Quantum potential step**\n",
    "\n",
    " A well-known quantum mechanics problem involves a particle of\n",
    "mass $m$ that encounters a one-dimensional potential step, like this:\n",
    "\n",
    "<img src=\"qstep.png\" alt=\"qstep\" title=\"qstep\" width=300>\n",
    "\n",
    "The particle with initial kinetic energy $E$ and\n",
    "wavevector $k_1=\\sqrt{2mE}/\\hbar$ enters from the left and encounters a\n",
    "sudden jump in potential energy of height $V$ at position $x=0$.  By\n",
    "solving the Schr\\\"odinger equation, one can show that when $E>V$ the\n",
    "particle may either (a) pass the step, in which case it has a lower kinetic\n",
    "energy of $E-V$ on the other side and a correspondingly smaller wavevector\n",
    "of $k_2=\\sqrt{2m(E-V)}/\\hbar$, or (b) it may be reflected, keeping all of\n",
    "its kinetic energy and an unchanged wavevector but moving in the opposite\n",
    "direction.  The probabilities $T$ and $R$ for transmission and\n",
    "reflection are given by\n",
    "$$\n",
    "T = {4k_1k_2\\over(k_1+k_2)^2}\\,,\\qquad\n",
    "R = \\biggl( {k_1-k_2\\over k_1+k_2} \\biggr)^2.\n",
    "$$\n",
    "\n",
    "Suppose we have a particle with mass equal to the electron mass\n",
    "$m=9.11\\times10^{-31}\\,$kg and energy $10\\,$eV encountering a potential\n",
    "step of height $9\\,$eV.  Write a Python program to compute and print out\n",
    "the transmission and reflection probabilities using the formulas above."
   ]
  },
  {
   "cell_type": "markdown",
   "metadata": {},
   "source": [
    "### Exercise 2.6\n",
    "\n",
    "**Planetary orbits**\n",
    "\n",
    "The orbit in space of one body\n",
    "around another, such as a planet around the Sun, need not be\n",
    "circular.  In general it takes the form of an ellipse, with the body\n",
    "sometimes closer in and sometimes further out.  If you are given the\n",
    "distance $\\ell_1$ of closest approach that a planet makes to the Sun, also\n",
    "called its *perihelion*, and its linear velocity $v_1$ at\n",
    "perihelion, then any other property of the orbit can be calculated\n",
    "from these two as follows.\n",
    "\n",
    "1. Kepler's second law tells us that the distance $\\ell_2$ and\n",
    "  velocity $v_2$ of the planet at its most distant point, or\n",
    "  *aphelion*, satisfy $\\ell_2 v_2 = \\ell_1 v_1$.  At the same\n",
    "  time the total energy, kinetic plus gravitational, of a planet with\n",
    "  velocity $v$ and distance $r$ from the Sun is given by\n",
    "$$\n",
    "E = \\frac{1}{2} m v^2 - G {mM\\over r},\n",
    "$$\n",
    "where $m$ is the planet's mass, $M=1.9891\\times10^{30}\\,$kg is the mass of\n",
    "the Sun, and $G=6.6738\\times10^{-11}\\,\\mathrm{m^3\\,kg^{-1}\\,s^{-2}}$ is\n",
    "Newton's gravitational constant.  Given that energy must be conserved, show\n",
    "that $v_2$ is the smaller root of the quadratic equation\n",
    "$$\n",
    "v_2^2 - {2GM\\over v_1\\ell_1} v_2 - \\biggl[ v_1^2 - {2GM\\over\\ell_1}\n",
    "  \\biggr] = 0.\n",
    "$$\n",
    "Once we have $v_2$ we can calculate $\\ell_2$ using the relation $\\ell_2 =\n",
    "\\ell_1 v_1/v_2$.\n",
    "2. Given the values of $v_1$, $\\ell_1$, and $\\ell_2$, other parameters\n",
    "  of the orbit are given by simple formulas can that be derived from\n",
    "  Kepler's laws and the fact that the orbit is an ellipse:\n",
    "\\begin{align*}\n",
    "\\textrm{Semi-major axis:} \\qquad a &= \\frac{1}{2}(\\ell_1+\\ell_2), \\\\\n",
    "\\textrm{Semi-minor axis:} \\qquad b &= \\sqrt{\\ell_1\\ell_2}\\,, \\\\\n",
    "\\textrm{Orbital period:} \\hspace{1.80em}\n",
    "  T &= {2\\pi ab\\over\\ell_1 v_1}\\,, \\\\\n",
    "\\textrm{Orbital eccentricity:} \\qquad e &=\n",
    "  {\\ell_2-\\ell_1\\over\\ell_2+\\ell_1}.\n",
    "\\end{align*}\n",
    "Write a program that asks the user to enter the distance to the Sun and\n",
    "velocity at perihelion, then calculates and prints the quantities\n",
    "$\\ell_2$, $v_2$, $T$, and $e$.\n",
    "3. Test your program by having it calculate the properties of the orbits\n",
    "  of the Earth (for which $\\ell_1=1.4710\\times10^{11}\\,$m and\n",
    "  $v_1=3.0287\\times10^4\\,\\mathrm{m\\,s^{-1}}$) and Halley's comet\n",
    "  ($\\ell_1=8.7830\\times10^{10}\\,$m and $v_1=5.4529\\times10^4\\,\\mathrm{m\\,s^{-1}}$).  Among other things, you\n",
    "  should find that the orbital period of the Earth is one year and that of\n",
    "  Halley's comet is about 76 years.\n"
   ]
  },
  {
   "cell_type": "markdown",
   "metadata": {},
   "source": [
    "### Exercise 2.7\n",
    "**Catalan numbers**\n",
    "\n",
    " The Catalan numbers $C_n$ are a sequence of integers 1, 1, 2, 5,\n",
    "14, 42, 132, $\\cdots$ that play an important role in quantum mechanics and the\n",
    "theory of disordered systems.  (They were central to Eugene Wigner's proof\n",
    "of the so-called semicircle law.)  They are given by\n",
    "$$\n",
    "C_0 = 1,\\qquad C_{n+1} = {4n+2\\over n+2}\\,C_n.\n",
    "$$\n",
    "Write a program that prints in increasing order all Catalan numbers less\n",
    "than or equal to one billion."
   ]
  },
  {
   "cell_type": "code",
   "execution_count": 25,
   "metadata": {},
   "outputs": [
    {
     "name": "stdout",
     "output_type": "stream",
     "text": [
      "1\n",
      "1\n",
      "2\n",
      "5\n",
      "14\n",
      "42\n",
      "132\n",
      "429\n",
      "1430\n",
      "4862\n",
      "16796\n",
      "58786\n",
      "208012\n",
      "742900\n",
      "2674440\n",
      "9694845\n",
      "35357670\n",
      "129644790\n",
      "477638700\n"
     ]
    }
   ],
   "source": [
    "x = [1]\n",
    "n = 0\n",
    "xi = 1\n",
    "while xi < 10**9:\n",
    "    print(xi)\n",
    "    xi = xi*(4*n+2)//(n+2)\n",
    "    n += 1"
   ]
  },
  {
   "cell_type": "markdown",
   "metadata": {},
   "source": [
    "### Exercise 2.8 \n",
    "\n",
    "Suppose arrays *a* and *b* are defined as follows:"
   ]
  },
  {
   "cell_type": "code",
   "execution_count": 9,
   "metadata": {},
   "outputs": [],
   "source": [
    "from numpy import array\n",
    "a = array([1,2,3,4],int)\n",
    "b = array([2,4,6,8],int)"
   ]
  },
  {
   "cell_type": "markdown",
   "metadata": {},
   "source": [
    "What will the computer print upon executing the following lines?  (Try to\n",
    "work out the answer before trying it on the computer.)"
   ]
  },
  {
   "cell_type": "code",
   "execution_count": 10,
   "metadata": {},
   "outputs": [
    {
     "name": "stdout",
     "output_type": "stream",
     "text": [
      "[3. 3. 3. 3.]\n",
      "[1.         1.33333333 1.5        1.6       ]\n",
      "[1.         0.5        0.33333333 0.25      ]\n"
     ]
    }
   ],
   "source": [
    "print(b/a+1)\n",
    "print(b/(a+1))\n",
    "print(1/a)"
   ]
  },
  {
   "cell_type": "markdown",
   "metadata": {},
   "source": [
    "### Exercise 2.9\n",
    "\n",
    "**The Madelung constant**\n",
    "\n",
    "In condensed matter physics the Madelung constant gives the total\n",
    "electric potential felt by an atom in a solid.  It depends on the charges\n",
    "on the other atoms nearby and their locations.  Consider for instance solid\n",
    "sodium chloride---table salt.  The sodium chloride crystal has atoms\n",
    "arranged on a cubic lattice, but with alternating sodium and chlorine\n",
    "atoms, the sodium ones having a single positive charge $+e$ and the\n",
    "chlorine ones a single negative charge $-e$, where $e$ is the charge on the\n",
    "electron.  If we label each position on the lattice by three integer\n",
    "coordinates $(i,j,k)$, then the sodium atoms fall at positions where\n",
    "$i+j+k$ is even, and the chlorine atoms at positions where $i+j+k$ is odd.\n",
    "\n",
    "Consider a sodium atom at the origin, $i=j=k=0$, and let us calculate the\n",
    "Madelung constant.  If the spacing of atoms on the lattice is $a$, then the\n",
    "distance from the origin to the atom at position $(i,j,k)$ is\n",
    "$$\n",
    "\\sqrt{(ia)^2 + (ja)^2 + (ka)^2} = a \\sqrt{i^2+j^2+k^2},\n",
    "$$\n",
    "and the potential at the origin created by such an atom is\n",
    "$$\n",
    "V(i,j,k) = \\pm {e\\over4\\pi\\epsilon_0 a\\sqrt{i^2+j^2+k^2}},\n",
    "$$\n",
    "with $\\epsilon_0$ being the permittivity of the vacuum and the sign of the\n",
    "expression depending on whether $i+j+k$ is even or odd.  The total\n",
    "potential felt by the sodium atom is then the sum of this quantity over all\n",
    "other atoms.  Let us assume a cubic box around the sodium at the origin,\n",
    "with $L$ atoms in all directions.  Then\n",
    "$$\n",
    "V_\\textrm{total} = \\sum_{\\substack{i,j,k=-L\\\\ \\textrm{not }i=j=k=0}}^L\n",
    "                   \\hspace{-0.5em} V(i,j,k)\n",
    "                 = {e\\over4\\pi\\epsilon_0 a}\\,M,\n",
    "$$\n",
    "where $M$ is the Madelung constant, at least approximately---technically\n",
    "the Madelung constant is the value of $M$ when $L\\to\\infty$, but one can\n",
    "get a good approximation just by using a large value of $L$.\n",
    "\n",
    "Write a program to calculate and print the Madelung constant for sodium\n",
    "chloride.  Use as large a value of $L$ as you can, while still having your\n",
    "program run in reasonable time---say in a minute or less."
   ]
  },
  {
   "cell_type": "code",
   "execution_count": 40,
   "metadata": {},
   "outputs": [
    {
     "name": "stdout",
     "output_type": "stream",
     "text": [
      "[1.7475686037717892, 1.7475648452181796, 1.7475646441313486, 1.7475646102945983, 1.7475646010482142, 1.7475645977276646, 1.7475645963045872, 1.7475645956144015, 1.7475645952474654]\n"
     ]
    },
    {
     "data": {
      "image/png": "[encoded data removed]",
      "text/plain": [
       "<Figure size 432x288 with 1 Axes>"
      ]
     },
     "metadata": {
      "needs_background": "light"
     },
     "output_type": "display_data"
    }
   ],
   "source": [
    "from math import sqrt\n",
    "import matplotlib.pyplot as plt\n",
    "L = 28\n",
    "def Madelung(L):\n",
    "    M = 0\n",
    "    for i in range(-L,L):\n",
    "        for j in range(-L, L):\n",
    "            for k in range(-L, L):\n",
    "                if i == 0 and j == 0 and k == 0: \n",
    "                    continue\n",
    "                M += (-1)**(i+j+k+1)/sqrt(i*i+j*j+k*k)\n",
    "    return(M)\n",
    "\n",
    "L = [i for i in range(10,100,10)]\n",
    "M = [Madelung(i) for i in L]\n",
    "plt.plot(L,M,'ro-')\n",
    "print(M)"
   ]
  },
  {
   "cell_type": "markdown",
   "metadata": {},
   "source": [
    "### Exercise 2.10\n",
    "\n",
    "**The semi-empirical mass formula**\n",
    "\n",
    "In nuclear physics, the semi-empirical mass formula is a formula\n",
    "for calculating the approximate nuclear binding energy $B$ of an atomic\n",
    "nucleus with atomic number $Z$ and mass number $A$:\n",
    "$$\n",
    "B = a_1 A - a_2 A^{2/3} - a_3 {Z^2\\over A^{1/3}}\n",
    "    - a_4 {(A - 2Z)^2\\over A} + {a_5\\over A^{1/2}}\\,,\n",
    "$$\n",
    "where, in units of millions of electron volts, the constants are\n",
    "$a_1=15.8$, $a_2=18.3$, $a_3=0.714$, $a_4=23.2$, and\n",
    "$$\n",
    "a_5 = \\left\\lbrace\\begin{array}{ll}\n",
    "      0     &\\quad\\mbox{if $A$ is odd,} \\\\\n",
    "      12.0  &\\quad\\mbox{if $A$ and $Z$ are both even,} \\\\\n",
    "      -12.0 &\\quad\\mbox{if $A$ is even and $Z$ is odd.}\n",
    "      \\end{array}\\right.\n",
    "$$\n",
    "\n",
    "1. Write a program that takes as its input the values of $A$ and $Z$,\n",
    "  and prints out the binding energy for the corresponding atom.  Use your\n",
    "  program to find the binding energy of an atom with $A=58$ and $Z=28$.\n",
    "  (Hint: The correct answer is around $490\\,$MeV.)\n",
    "2. Modify your program to print out not the total binding energy $B$,\n",
    "  but the binding energy per nucleon, which is $B/A$.\n",
    "3. Now modify your program so that it takes as input just a single value\n",
    "  of the atomic number $Z$ and then goes through all values of $A$ from\n",
    "  $A=Z$ to $A=3Z$, to find the one that has the largest binding energy per\n",
    "  nucleon.  This is the most stable nucleus with the given atomic number.\n",
    "  Have your program print out the value of $A$ for this most stable nucleus\n",
    "  and the value of the binding energy per nucleon.\n",
    "4. Modify your program again so that, instead of taking $Z$ as input, it\n",
    "  runs through all values of $Z$ from 1 to 100 and prints out the most\n",
    "  stable value of $A$ for each one.  At what value of $Z$ does the maximum\n",
    "  binding energy per nucleon occur?  (The true answer, in real life, is\n",
    "  $Z=28$, which is nickel.  You should find that the semi-empirical mass\n",
    "  formula gets the answer roughly right, but not exactly.)\n"
   ]
  },
  {
   "cell_type": "markdown",
   "metadata": {},
   "source": [
    "### Exercise 2.11 \n",
    "\n",
    "*Binomial coefficients*\n",
    "\n",
    " The binomial coefficient ${n\\choose k}$ is an integer equal to\n",
    "$$\n",
    "{n\\choose k} = {n!\\over k!(n-k)!}\n",
    "  = {n\\times(n-1)\\times(n-2)\\times\\ldots\\times(n-k+1)\\over\n",
    "     1\\times2\\times\\ldots\\times k}\n",
    "$$\n",
    "when $k\\ge1$, or ${n\\choose0}=1$ when $k=0$.\n",
    "\n",
    "1. Using this form for the binomial coefficient, write a user-defined\n",
    "  function *binomial(n,k)* that calculates the binomial coefficient\n",
    "  for given $n$ and $k$.  Make sure your function returns the answer in the\n",
    "  form of an integer (not a float) and gives the correct value of 1 for the\n",
    "  case where $k=0$.\n",
    "2. Using your function write a program to print out the first 20 lines\n",
    "  of ``Pascal's triangle.''  The $n$th line of Pascal's triangle contains\n",
    "  $n+1$ numbers, which are the coefficients ${n\\choose 0}$, ${n\\choose1}$,\n",
    "  and so on up to ${n\\choose n}$.  Thus the first few lines are\n",
    "\n",
    "```\n",
    "1 1 \n",
    "1 2 1 \n",
    "1 3 3 1 \n",
    "1 4 6 4 1\n",
    "```\n",
    "\n",
    "3. The probability that an unbiased coin, tossed $n$ times, will come up\n",
    "  heads $k$ times is ${n\\choose k}/2^n$.  Write a program to calculate\n",
    "  (a) the total probability that a coin tossed 100 times comes up heads\n",
    "  exactly 60 times, and (b) the probability that it comes up heads 60 or\n",
    "  more times.\n"
   ]
  },
  {
   "cell_type": "markdown",
   "metadata": {},
   "source": [
    "### Exercise 2.12 \n",
    "\n",
    "**Prime numbers**\n",
    "\n",
    " The program in Example 2.8 is not a very efficient way of\n",
    "calculating prime numbers: it checks each number to see if it is divisible\n",
    "by any number less than it.  We can develop a much faster program for prime\n",
    "numbers by making use of the following observations:\n",
    "\n",
    "1. A number $n$ is prime if it has no prime factors less than $n$.\n",
    "  Hence we only need to check if it is divisible by other primes.\n",
    "2. If a number $n$ is non-prime, having a factor $r$, then $n=rs$, where\n",
    "  $s$ is also a factor.  If $r\\ge\\sqrt{n}$ then $n = rs \\ge \\sqrt{n}s$,\n",
    "  which implies that $s\\le\\sqrt{n}$.  In other words, any non-prime must\n",
    "  have factors, and hence also prime factors, less than or equal\n",
    "  to $\\sqrt{n}$.  Thus to determine if a number is prime we have to check\n",
    "  its prime factors only up to and including $\\sqrt{n}$---if there are none\n",
    "  then the number is prime.\n",
    "3. If we find even a single prime factor less than $\\sqrt{n}$ then we\n",
    "  know that the number is non-prime, and hence there is no need to check\n",
    "  any further---we can abandon this number and move on to something else.\n",
    "\n",
    "Write a Python program that finds all the primes up to ten thousand.\n",
    "Create a list to store the primes, which starts out with just the one prime\n",
    "number 2 in it.  Then for each number $n$ from 3 to $10\\,000$ check whether\n",
    "the number is divisible by any of the primes in the list up to and\n",
    "including $\\sqrt{n}$.  As soon as you find a single prime factor you can\n",
    "stop checking the rest of them---you know $n$ is not a prime.  If you find\n",
    "no prime factors $\\sqrt{n}$ or less then $n$ is prime and you should add it\n",
    "to the list.  You can print out the list all in one go at the end of the\n",
    "program, or you can print out the individual numbers as you find them."
   ]
  },
  {
   "cell_type": "code",
   "execution_count": 46,
   "metadata": {},
   "outputs": [
    {
     "name": "stdout",
     "output_type": "stream",
     "text": [
      "[2, 3, 5, 7, 11, 13, 17, 19, 23, 29, 31, 37, 41, 43, 47, 53, 59, 61, 67, 71, 73, 79, 83, 89, 97, 101, 103, 107, 109, 113, 127, 131, 137, 139, 149, 151, 157, 163, 167, 173, 179, 181, 191, 193, 197, 199, 211, 223, 227, 229, 233, 239, 241, 251, 257, 263, 269, 271, 277, 281, 283, 293, 307, 311, 313, 317, 331, 337, 347, 349, 353, 359, 367, 373, 379, 383, 389, 397, 401, 409, 419, 421, 431, 433, 439, 443, 449, 457, 461, 463, 467, 479, 487, 491, 499, 503, 509, 521, 523, 541, 547, 557, 563, 569, 571, 577, 587, 593, 599, 601, 607, 613, 617, 619, 631, 641, 643, 647, 653, 659, 661, 673, 677, 683, 691, 701, 709, 719, 727, 733, 739, 743, 751, 757, 761, 769, 773, 787, 797, 809, 811, 821, 823, 827, 829, 839, 853, 857, 859, 863, 877, 881, 883, 887, 907, 911, 919, 929, 937, 941, 947, 953, 967, 971, 977, 983, 991, 997, 1009, 1013, 1019, 1021, 1031, 1033, 1039, 1049, 1051, 1061, 1063, 1069, 1087, 1091, 1093, 1097, 1103, 1109, 1117, 1123, 1129, 1151, 1153, 1163, 1171, 1181, 1187, 1193, 1201, 1213, 1217, 1223, 1229, 1231, 1237, 1249, 1259, 1277, 1279, 1283, 1289, 1291, 1297, 1301, 1303, 1307, 1319, 1321, 1327, 1361, 1367, 1373, 1381, 1399, 1409, 1423, 1427, 1429, 1433, 1439, 1447, 1451, 1453, 1459, 1471, 1481, 1483, 1487, 1489, 1493, 1499, 1511, 1523, 1531, 1543, 1549, 1553, 1559, 1567, 1571, 1579, 1583, 1597, 1601, 1607, 1609, 1613, 1619, 1621, 1627, 1637, 1657, 1663, 1667, 1669, 1693, 1697, 1699, 1709, 1721, 1723, 1733, 1741, 1747, 1753, 1759, 1777, 1783, 1787, 1789, 1801, 1811, 1823, 1831, 1847, 1861, 1867, 1871, 1873, 1877, 1879, 1889, 1901, 1907, 1913, 1931, 1933, 1949, 1951, 1973, 1979, 1987, 1993, 1997, 1999, 2003, 2011, 2017, 2027, 2029, 2039, 2053, 2063, 2069, 2081, 2083, 2087, 2089, 2099, 2111, 2113, 2129, 2131, 2137, 2141, 2143, 2153, 2161, 2179, 2203, 2207, 2213, 2221, 2237, 2239, 2243, 2251, 2267, 2269, 2273, 2281, 2287, 2293, 2297, 2309, 2311, 2333, 2339, 2341, 2347, 2351, 2357, 2371, 2377, 2381, 2383, 2389, 2393, 2399, 2411, 2417, 2423, 2437, 2441, 2447, 2459, 2467, 2473, 2477, 2503, 2521, 2531, 2539, 2543, 2549, 2551, 2557, 2579, 2591, 2593, 2609, 2617, 2621, 2633, 2647, 2657, 2659, 2663, 2671, 2677, 2683, 2687, 2689, 2693, 2699, 2707, 2711, 2713, 2719, 2729, 2731, 2741, 2749, 2753, 2767, 2777, 2789, 2791, 2797, 2801, 2803, 2819, 2833, 2837, 2843, 2851, 2857, 2861, 2879, 2887, 2897, 2903, 2909, 2917, 2927, 2939, 2953, 2957, 2963, 2969, 2971, 2999, 3001, 3011, 3019, 3023, 3037, 3041, 3049, 3061, 3067, 3079, 3083, 3089, 3109, 3119, 3121, 3137, 3163, 3167, 3169, 3181, 3187, 3191, 3203, 3209, 3217, 3221, 3229, 3251, 3253, 3257, 3259, 3271, 3299, 3301, 3307, 3313, 3319, 3323, 3329, 3331, 3343, 3347, 3359, 3361, 3371, 3373, 3389, 3391, 3407, 3413, 3433, 3449, 3457, 3461, 3463, 3467, 3469, 3491, 3499, 3511, 3517, 3527, 3529, 3533, 3539, 3541, 3547, 3557, 3559, 3571, 3581, 3583, 3593, 3607, 3613, 3617, 3623, 3631, 3637, 3643, 3659, 3671, 3673, 3677, 3691, 3697, 3701, 3709, 3719, 3727, 3733, 3739, 3761, 3767, 3769, 3779, 3793, 3797, 3803, 3821, 3823, 3833, 3847, 3851, 3853, 3863, 3877, 3881, 3889, 3907, 3911, 3917, 3919, 3923, 3929, 3931, 3943, 3947, 3967, 3989, 4001, 4003, 4007, 4013, 4019, 4021, 4027, 4049, 4051, 4057, 4073, 4079, 4091, 4093, 4099, 4111, 4127, 4129, 4133, 4139, 4153, 4157, 4159, 4177, 4201, 4211, 4217, 4219, 4229, 4231, 4241, 4243, 4253, 4259, 4261, 4271, 4273, 4283, 4289, 4297, 4327, 4337, 4339, 4349, 4357, 4363, 4373, 4391, 4397, 4409, 4421, 4423, 4441, 4447, 4451, 4457, 4463, 4481, 4483, 4493, 4507, 4513, 4517, 4519, 4523, 4547, 4549, 4561, 4567, 4583, 4591, 4597, 4603, 4621, 4637, 4639, 4643, 4649, 4651, 4657, 4663, 4673, 4679, 4691, 4703, 4721, 4723, 4729, 4733, 4751, 4759, 4783, 4787, 4789, 4793, 4799, 4801, 4813, 4817, 4831, 4861, 4871, 4877, 4889, 4903, 4909, 4919, 4931, 4933, 4937, 4943, 4951, 4957, 4967, 4969, 4973, 4987, 4993, 4999, 5003, 5009, 5011, 5021, 5023, 5039, 5051, 5059, 5077, 5081, 5087, 5099, 5101, 5107, 5113, 5119, 5147, 5153, 5167, 5171, 5179, 5189, 5197, 5209, 5227, 5231, 5233, 5237, 5261, 5273, 5279, 5281, 5297, 5303, 5309, 5323, 5333, 5347, 5351, 5381, 5387, 5393, 5399, 5407, 5413, 5417, 5419, 5431, 5437, 5441, 5443, 5449, 5471, 5477, 5479, 5483, 5501, 5503, 5507, 5519, 5521, 5527, 5531, 5557, 5563, 5569, 5573, 5581, 5591, 5623, 5639, 5641, 5647, 5651, 5653, 5657, 5659, 5669, 5683, 5689, 5693, 5701, 5711, 5717, 5737, 5741, 5743, 5749, 5779, 5783, 5791, 5801, 5807, 5813, 5821, 5827, 5839, 5843, 5849, 5851, 5857, 5861, 5867, 5869, 5879, 5881, 5897, 5903, 5923, 5927, 5939, 5953, 5981, 5987, 6007, 6011, 6029, 6037, 6043, 6047, 6053, 6067, 6073, 6079, 6089, 6091, 6101, 6113, 6121, 6131, 6133, 6143, 6151, 6163, 6173, 6197, 6199, 6203, 6211, 6217, 6221, 6229, 6247, 6257, 6263, 6269, 6271, 6277, 6287, 6299, 6301, 6311, 6317, 6323, 6329, 6337, 6343, 6353, 6359, 6361, 6367, 6373, 6379, 6389, 6397, 6421, 6427, 6449, 6451, 6469, 6473, 6481, 6491, 6521, 6529, 6547, 6551, 6553, 6563, 6569, 6571, 6577, 6581, 6599, 6607, 6619, 6637, 6653, 6659, 6661, 6673, 6679, 6689, 6691, 6701, 6703, 6709, 6719, 6733, 6737, 6761, 6763, 6779, 6781, 6791, 6793, 6803, 6823, 6827, 6829, 6833, 6841, 6857, 6863, 6869, 6871, 6883, 6899, 6907, 6911, 6917, 6947, 6949, 6959, 6961, 6967, 6971, 6977, 6983, 6991, 6997, 7001, 7013, 7019, 7027, 7039, 7043, 7057, 7069, 7079, 7103, 7109, 7121, 7127, 7129, 7151, 7159, 7177, 7187, 7193, 7207, 7211, 7213, 7219, 7229, 7237, 7243, 7247, 7253, 7283, 7297, 7307, 7309, 7321, 7331, 7333, 7349, 7351, 7369, 7393, 7411, 7417, 7433, 7451, 7457, 7459, 7477, 7481, 7487, 7489, 7499, 7507, 7517, 7523, 7529, 7537, 7541, 7547, 7549, 7559, 7561, 7573, 7577, 7583, 7589, 7591, 7603, 7607, 7621, 7639, 7643, 7649, 7669, 7673, 7681, 7687, 7691, 7699, 7703, 7717, 7723, 7727, 7741, 7753, 7757, 7759, 7789, 7793, 7817, 7823, 7829, 7841, 7853, 7867, 7873, 7877, 7879, 7883, 7901, 7907, 7919, 7927, 7933, 7937, 7949, 7951, 7963, 7993, 8009, 8011, 8017, 8039, 8053, 8059, 8069, 8081, 8087, 8089, 8093, 8101, 8111, 8117, 8123, 8147, 8161, 8167, 8171, 8179, 8191, 8209, 8219, 8221, 8231, 8233, 8237, 8243, 8263, 8269, 8273, 8287, 8291, 8293, 8297, 8311, 8317, 8329, 8353, 8363, 8369, 8377, 8387, 8389, 8419, 8423, 8429, 8431, 8443, 8447, 8461, 8467, 8501, 8513, 8521, 8527, 8537, 8539, 8543, 8563, 8573, 8581, 8597, 8599, 8609, 8623, 8627, 8629, 8641, 8647, 8663, 8669, 8677, 8681, 8689, 8693, 8699, 8707, 8713, 8719, 8731, 8737, 8741, 8747, 8753, 8761, 8779, 8783, 8803, 8807, 8819, 8821, 8831, 8837, 8839, 8849, 8861, 8863, 8867, 8887, 8893, 8923, 8929, 8933, 8941, 8951, 8963, 8969, 8971, 8999, 9001, 9007, 9011, 9013, 9029, 9041, 9043, 9049, 9059, 9067, 9091, 9103, 9109, 9127, 9133, 9137, 9151, 9157, 9161, 9173, 9181, 9187, 9199, 9203, 9209, 9221, 9227, 9239, 9241, 9257, 9277, 9281, 9283, 9293, 9311, 9319, 9323, 9337, 9341, 9343, 9349, 9371, 9377, 9391, 9397, 9403, 9413, 9419, 9421, 9431, 9433, 9437, 9439, 9461, 9463, 9467, 9473, 9479, 9491, 9497, 9511, 9521, 9533, 9539, 9547, 9551, 9587, 9601, 9613, 9619, 9623, 9629, 9631, 9643, 9649, 9661, 9677, 9679, 9689, 9697, 9719, 9721, 9733, 9739, 9743, 9749, 9767, 9769, 9781, 9787, 9791, 9803, 9811, 9817, 9829, 9833, 9839, 9851, 9857, 9859, 9871, 9883, 9887, 9901, 9907, 9923, 9929, 9931, 9941, 9949, 9967, 9973]\n"
     ]
    }
   ],
   "source": [
    "p = [2]\n",
    "Max = 10000\n",
    "for i in range(3,Max):\n",
    "    fac = int(sqrt(i)) + 1\n",
    "    for j in range(2,fac):\n",
    "        if i%j == 0:\n",
    "            break\n",
    "    else:\n",
    "        p.append(i) \n",
    "print(p)"
   ]
  },
  {
   "cell_type": "markdown",
   "metadata": {},
   "source": [
    "### Exercise 2.13\n",
    "\n",
    "**Recursion**\n",
    "\n",
    "A useful feature of user-defined functions is *recursion*, the\n",
    "ability of a function to call itself.  For example, consider the following\n",
    "definition of the factorial $n!$ of a positive integer $n$:\n",
    "$$\n",
    "n! = \\biggl\\lbrace\\begin{array}{ll}\n",
    "  1 & \\qquad\\mbox{if $n=1$,} \\\\\n",
    "  n\\times(n-1)! & \\qquad\\mbox{if $n>1$.}\n",
    "\\end{array}\n",
    "$$\n",
    "This constitutes a complete definition of the factorial which allows us to\n",
    "calculate the value of $n!$ for any positive integer.  We can employ this\n",
    "definition directly to create a Python function for factorials, like this:"
   ]
  },
  {
   "cell_type": "code",
   "execution_count": null,
   "metadata": {},
   "outputs": [],
   "source": [
    "def factorial(n):\n",
    "    if n==1:\n",
    "        return 1\n",
    "    else:\n",
    "        return n*factorial(n-1)"
   ]
  },
  {
   "cell_type": "markdown",
   "metadata": {},
   "source": [
    "Note how, if $n$ is not equal to 1, the function calls itself to calculate\n",
    "the factorial of $n-1$.  This is recursion.  If we now say\n",
    "``*print(factorial(5))*'' the computer will correctly print the\n",
    "answer 120.\n",
    "\n",
    "1. We encountered the Catalan numbers $C_n$ previously in Exercise 2.7\n",
    "  on page 46.  With just a little rearrangement, the definition given there\n",
    "  can be rewritten in the form\n",
    "$$\n",
    "C_n = \\left\\lbrace\\begin{array}{ll}\n",
    "  \\rule[-9pt]{0pt}{10pt}1 & \\qquad\\mbox{if $n=0$,} \\\\\n",
    "  \\dfrac{4n-2}{n+1}\\,C_{n-1} & \\qquad\\mbox{if $n>0$.}\n",
    "\\end{array}\\right.\n",
    "$$\n",
    "Write a Python function, using recursion, that calculates $C_n$.  Use your\n",
    "function to calculate and print $C_{100}$."
   ]
  },
  {
   "cell_type": "code",
   "execution_count": 49,
   "metadata": {},
   "outputs": [
    {
     "name": "stdout",
     "output_type": "stream",
     "text": [
      "50901483529087538867798630100308273847121730568\n"
     ]
    }
   ],
   "source": [
    "def Catalan(n):\n",
    "    if n==0:\n",
    "        return 1\n",
    "    else:\n",
    "        return (4*n-2)//(n+1)*Catalan(n-1)\n",
    "print(Catalan(100))"
   ]
  },
  {
   "cell_type": "markdown",
   "metadata": {},
   "source": [
    "2. Euclid showed that the greatest common divisor $g(m,n)$ of two\n",
    "  nonnegative integers $m$ and $n$ satisfies\n",
    "$$\n",
    "g(m,n) = \\biggl\\lbrace\\begin{array}{ll}\n",
    "  m & \\qquad\\mbox{if $n=0$,} \\\\\n",
    "  g(n,m\\>\\textrm{mod}\\>n) & \\qquad\\mbox{if $n>0$.}\n",
    "\\end{array}\n",
    "$$\n",
    "Write a Python function *g(m,n)* that employs recursion to calculate\n",
    "the greatest common divisor of $m$ and $n$ using this formula.  Use your\n",
    "function to calculate and print the greatest common divisor of 108 and 192."
   ]
  },
  {
   "cell_type": "code",
   "execution_count": 54,
   "metadata": {},
   "outputs": [
    {
     "name": "stdout",
     "output_type": "stream",
     "text": [
      "12\n"
     ]
    }
   ],
   "source": [
    "def g(m,n):\n",
    "    if n==0:\n",
    "        return m\n",
    "    else:\n",
    "        return g(n,m%n)\n",
    "print(g(108,192))"
   ]
  },
  {
   "cell_type": "markdown",
   "metadata": {},
   "source": [
    "Comparing the calculation of the Catalan numbers in part (a) above with\n",
    "that of Exercise 2.7, we see that it's possible to do the calculation two\n",
    "ways, either directly or using recursion.  In most cases, if a quantity can\n",
    "be calculated **without** recursion, then it will be faster to do so,\n",
    "and we normally recommend taking this route if possible.  There are some\n",
    "calculations, however, that are essentially impossible (or at least much\n",
    "more difficult) without recursion.  We will see some examples later in this\n",
    "book."
   ]
  },
  {
   "cell_type": "code",
   "execution_count": null,
   "metadata": {},
   "outputs": [],
   "source": []
  }
 ],
 "metadata": {
  "kernelspec": {
   "display_name": "Python 3",
   "language": "python",
   "name": "python3"
  },
  "language_info": {
   "codemirror_mode": {
    "name": "ipython",
    "version": 3
   },
   "file_extension": ".py",
   "mimetype": "text/x-python",
   "name": "python",
   "nbconvert_exporter": "python",
   "pygments_lexer": "ipython3",
   "version": "3.8.5"
  }
 },
 "nbformat": 4,
 "nbformat_minor": 4
}
