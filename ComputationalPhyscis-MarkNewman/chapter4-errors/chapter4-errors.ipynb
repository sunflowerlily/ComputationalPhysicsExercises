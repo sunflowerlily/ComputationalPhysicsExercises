{
 "cells": [
  {
   "cell_type": "markdown",
   "metadata": {},
   "source": [
    "## Exercises for Chapter 4\n",
    "```\n",
    "%%%%%%%%%%%%%%%%%%%%%%%%%%%%%%%%%%%%%%%%%%%%%%%%%%%%%%%%%%%%%%%%%%%%%%\n",
    "%%%                                                                %%%\n",
    "%%%     COMPUTATIONAL PHYSICS, M. NEWMAN, CHAPTER 4, EXERCISES     %%%\n",
    "%%%                                                                %%%\n",
    "%%%%%%%%%%%%%%%%%%%%%%%%%%%%%%%%%%%%%%%%%%%%%%%%%%%%%%%%%%%%%%%%%%%%%%\n",
    "```"
   ]
  },
  {
   "cell_type": "markdown",
   "metadata": {},
   "source": [
    "### Exercise 4.1\n",
    "\n",
    " Write a program to calculate and print the factorial of a\n",
    "number entered by the user.  If you wish you can base your program on the\n",
    "user-defined function for factorial given in Section 2.6, but write your\n",
    "program so that it calculates the factorial using \\emph{integer}\n",
    "variables, not floating-point ones.  Use your program to calculate the\n",
    "factorial of 200.\n",
    "\n",
    "Now modify your program to use floating-point variables instead and again\n",
    "calculate the factorial of 200.  What do you find?  Explain."
   ]
  },
  {
   "cell_type": "code",
   "execution_count": 9,
   "metadata": {},
   "outputs": [
    {
     "name": "stdout",
     "output_type": "stream",
     "text": [
      "inf\n"
     ]
    }
   ],
   "source": [
    "def factorial(n,f = 0):\n",
    "    if f == 0:\n",
    "        result = 1\n",
    "    else:\n",
    "        result = 1.\n",
    "    for i in range(1, n + 1):\n",
    "        result *= i\n",
    "    return result\n",
    "try:\n",
    "    print(factorial(200,1))\n",
    "except OverflowError as e:\n",
    "    print(\"Overflow Error:\", e)\n"
   ]
  },
  {
   "cell_type": "code",
   "execution_count": 1,
   "metadata": {},
   "outputs": [
    {
     "data": {
      "text/plain": [
       "788657867364790503552363213932185062295135977687173263294742533244359449963403342920304284011984623904177212138919638830257642790242637105061926624952829931113462857270763317237396988943922445621451664240254033291864131227428294853277524242407573903240321257405579568660226031904170324062351700858796178922222789623703897374720000000000000000000000000000000000000000000000000"
      ]
     },
     "execution_count": 1,
     "metadata": {},
     "output_type": "execute_result"
    }
   ],
   "source": [
    "def factorial(n):\n",
    "    if n == 1 or n == 0:\n",
    "        return 1\n",
    "    else:\n",
    "        return n*factorial(n-1)\n",
    "factorial(200)"
   ]
  },
  {
   "cell_type": "code",
   "execution_count": 2,
   "metadata": {},
   "outputs": [
    {
     "data": {
      "text/plain": [
       "inf"
      ]
     },
     "execution_count": 2,
     "metadata": {},
     "output_type": "execute_result"
    }
   ],
   "source": [
    "def factorial(n):\n",
    "    if n == 1. or n == 0:\n",
    "        return 1.\n",
    "    else:\n",
    "        return n*factorial(n-1.)\n",
    "factorial(200)"
   ]
  },
  {
   "cell_type": "markdown",
   "metadata": {},
   "source": [
    "### Exercise 4.2\n",
    "\n",
    "**Quadratic equations**\n",
    "\n",
    "\n",
    "1. Write a program that takes as input three numbers, $a$, $b$,\n",
    "  and $c$, and prints out the two solutions to the quadratic equation\n",
    "  $ax^2+bx+c=0$ using the standard formula\n",
    "$$\n",
    "x = {-b \\pm \\sqrt{b^2-4ac}\\over2a}.\n",
    "$$\n",
    "Use your program to compute the solutions of $0.001 x^2 + 1000 x + 0.001 =\n",
    "0$."
   ]
  },
  {
   "cell_type": "markdown",
   "metadata": {},
   "source": [
    "### 二次方程\n",
    "\n",
    "1. 编写一个程序，输入三个数字 $a$、$b$ 和 $c$，并使用标准公式计算并打印出二次方程 $ax^2+bx+c=0$ 的两个解：\n",
    "   $$\n",
    "   x = \\frac{-b \\pm \\sqrt{b^2-4ac}}{2a}.\n",
    "   $$\n",
    "   使用你的程序计算 $0.001 x^2 + 1000 x + 0.001 = 0$ 的解。"
   ]
  },
  {
   "cell_type": "markdown",
   "metadata": {},
   "source": [
    "2. There is another way to write the solutions to a quadratic equation.\n",
    "  Multiplying top and bottom of the solution above by\n",
    "  $-b\\mp\\sqrt{b^2-4ac}$, show that the solutions can also be written as\n",
    "$$\n",
    "x = {2c\\over-b\\mp\\sqrt{b^2-4ac}}.\n",
    "$$\n",
    "Add further lines to your program to print out these values in addition to\n",
    "the earlier ones and again use the program to solve $0.001 x^2 + 1000 x +\n",
    "0.001 = 0$.  What do you see?  How do you explain it?"
   ]
  },
  {
   "cell_type": "markdown",
   "metadata": {},
   "source": [
    "2. 有另一种方法来写二次方程的解。通过将上述解的分子和分母都乘以$-b\\mp\\sqrt{b^2-4ac}$, 证明解也可以写成\n",
    "$$\n",
    "x = {2c\\over-b\\mp\\sqrt{b^2-4ac}}.\n",
    "$$\n",
    "在你的程序中添加更多的代码行，以便除了之前的值之外还打印出这些值，并再次使用程序来解 \n",
    "$0.001 x^2 + 1000 x +\n",
    "0.001 = 0$. 你看到了什么？你如何解释它？"
   ]
  },
  {
   "cell_type": "code",
   "execution_count": 24,
   "metadata": {},
   "outputs": [],
   "source": [
    "def standard_quadratic_equation_solver(a,b,c):\n",
    "    s = np.sqrt(b**2-4*a*c)\n",
    "    print(b,s)\n",
    "    return ((-b+s)/2/a,(-b-s)/2/a)\n",
    "def modified_quadratic_equation_solver(a,b,c):\n",
    "    s = np.sqrt(b**2-4*a*c)\n",
    "    print(b,s)\n",
    "    return (2*c/(-b-s),2*c/(-b+s))\n",
    "def best_quadratic_equation_solver(a,b,c):\n",
    "    s = np.sqrt(b**2-4*a*c)\n",
    "    if np.abs(-b-s)<1e-5:\n",
    "        return (-b+s)/2/a,2*c/(-b+s)\n",
    "    else:\n",
    "        return 2*c/(-b-s), (-b-s)/2/a"
   ]
  },
  {
   "cell_type": "code",
   "execution_count": 23,
   "metadata": {},
   "outputs": [
    {
     "data": {
      "text/plain": [
       "(-1.000000000001e-06, -999999.999999)"
      ]
     },
     "execution_count": 23,
     "metadata": {},
     "output_type": "execute_result"
    }
   ],
   "source": [
    "best_quadratic_equation_solver(a,b,c)"
   ]
  },
  {
   "cell_type": "markdown",
   "metadata": {},
   "source": [
    "3. Using what you have learned, write a new program that calculates both\n",
    "  roots of a quadratic equation accurately in all cases.\n",
    "\n",
    "This is a good example of how computers don't always work the way you\n",
    "expect them to.  If you simply apply the standard formula for the quadratic\n",
    "equation, the computer will sometimes get the wrong answer.  In practice\n",
    "the method you have worked out here is the correct way to solve a quadratic\n",
    "equation on a computer, even though it's more complicated than the standard\n",
    "formula.  If you were writing a program that involved solving many\n",
    "quadratic equations this method might be a good candidate for a\n",
    "user-defined function: you could put the details of the solution method\n",
    "inside a function to save yourself the trouble of going through it step by\n",
    "step every time you have a new equation to solve."
   ]
  },
  {
   "cell_type": "markdown",
   "metadata": {},
   "source": [
    "3. 利用你所学的知识，编写一个新的程序，能够准确地计算二次方程的所有根。\n",
    "\n",
    "这是一个很好的例子，展示了计算机有时并不总是按照你预期的方式工作。如果你简单地应用标准的二次方程公式，计算机有时会得到错误的答案。实际上，你在这里计算出的方法是在计算机上解二次方程的正确方式，尽管它比标准公式更复杂。如果你正在编写一个涉及解决许多二次方程的程序，这种方法可能是一个很好的用户自定义函数的候选者：你可以将解决方案的细节放在一个函数中，这样每次你有了新的方程要解决时，就不必一步步地重复这个过程。"
   ]
  },
  {
   "cell_type": "markdown",
   "metadata": {},
   "source": [
    "### Exercise 4.3 \n",
    "\n",
    "\n",
    "**Calculating derivatives**\n",
    "\n",
    " Suppose we have a function $f(x)$ and we want to\n",
    "calculate its derivative at a point $x$.  We can do that with pencil and\n",
    "paper if we know the mathematical form of the function, or we can do it on\n",
    "the computer by making use of the definition of the derivative:\n",
    "$$\n",
    "{d f\\over d x} = \\lim_{\\delta\\to0} {f(x+\\delta)-f(x)\\over\\delta}.\n",
    "$$\n",
    "On the computer we can't actually take the limit as $\\delta$ goes to\n",
    "zero, but we can get a reasonable approximation just by making $\\delta$\n",
    "small.\n",
    "\n",
    "1. Write a program that defines a function \\verb|f(x)| returning the\n",
    "  value $x(x-1)$, then calculates the derivative of the function at the\n",
    "  point $x=1$ using the formula above with $\\delta=10^{-2}$.  Calculate\n",
    "  the true value of the same derivative analytically and compare with the\n",
    "  answer your program gives.  The two will not agree perfectly.  Why not?\n",
    "2. Repeat the calculation for $\\delta=10^{-4}$, $10^{-6}$, $10^{-8}$,\n",
    "  $10^{-10}$, $10^{-12}$, and $10^{-14}$.  You should see that the accuracy\n",
    "  of the calculation initially gets better as $\\delta$ gets smaller, but\n",
    "  then gets worse again.  Why is this?\n",
    "\n",
    "We will look at numerical derivatives in more detail in Section~5.10, where\n",
    "we will study techniques for dealing with these issues and maximizing the\n",
    "accuracy of our calculations."
   ]
  },
  {
   "cell_type": "markdown",
   "metadata": {},
   "source": [
    "**计算微分**\n",
    "\n",
    "设求函数$f(x)$在$x$点的导数. 其导数的计算公式为\n",
    "$$\n",
    "{d f\\over d x} = \\lim_{\\delta\\to0} {f(x+\\delta)-f(x)\\over\\delta}.\n",
    "$$\n",
    "在计算机中, 我们无法实现$\\delta\\to 0$, 但是我们可以使$\\delta$尽量小.\n",
    "\n",
    "1. 写程序定义函数$f(x)$, 返回$x(x-1)$, 用上面的公式计算函数在$x=1$点的导数，取$\\delta=10^{-2}$. 将计算结果和解析解对比，二者存在差异，为什么？\n",
    "\n",
    "\n",
    "2. 令$\\delta=10^{-4}$, $10^{-6}$, $10^{-8}$,\n",
    "  $10^{-10}$, $10^{-12}$, 和 $10^{-14}$. 你会发现计算结果随着$\\delta$变小开始变好，但是之后又变差. 为什么？"
   ]
  },
  {
   "cell_type": "code",
   "execution_count": 9,
   "metadata": {},
   "outputs": [
    {
     "name": "stdout",
     "output_type": "stream",
     "text": [
      "1.010000000000001\n",
      "1.0000999999998899\n",
      "1.0000009999177333\n",
      "1.0000000039225287\n",
      "1.000000082840371\n",
      "1.0000889005833413\n",
      "0.9992007221626509\n"
     ]
    }
   ],
   "source": [
    "def f(x):\n",
    "    return x*(x-1)\n",
    "x = 1\n",
    "d = [10**i for i in range(-2,-16,-2)]\n",
    "for dx in d:\n",
    "    df = (f(x+dx)-f(x))/dx\n",
    "    print(df)"
   ]
  },
  {
   "cell_type": "markdown",
   "metadata": {},
   "source": [
    "### Exercise 4.4\n",
    "\n",
    "**Calculating integrals**\n",
    "\n",
    "Suppose we want to calculate the value of the\n",
    "integral\n",
    "$$\n",
    "I = \\int_{-1}^1 \\sqrt{1-x^2} d x.\n",
    "$$\n",
    "The integrand looks like a semicircle of radius~1:\n",
    "\n",
    "<img src=\"semicircle.png\" alt=\"semicircle\" title=\"semicircle\" width=300>\n",
    "\n",
    "and hence the value of the integral---the area under the\n",
    "curve---must be $\\frac{1}{2}\\pi=1.57079632679\\ldots$\n",
    "\n",
    "Alternatively, we can evaluate the integral on the computer by dividing the\n",
    "domain of integration into a large number $N$ of slices of width $h=2/N$\n",
    "each and then using the Riemann definition of the integral:\n",
    "$$\n",
    "I = \\lim_{N\\to\\infty} \\sum_{k=1}^N hy_k\\,,\n",
    "$$\n",
    "where\n",
    "$$\n",
    "y_k = \\sqrt{1 - x_k^2}\\qquad\\mbox{and}\\qquad\n",
    "x_k = -1 + hk.\n",
    "$$\n",
    "We cannot in practice take the limit $N\\to\\infty$, but we can make a\n",
    "reasonable approximation by just making $N$ large.\n",
    "\n",
    "1. Write a program to evaluate the integral above with $N=100$ and\n",
    "  compare the result with the exact value.  The two will not agree very\n",
    "  well, because $N=100$ is not a sufficiently large number of slices.\n",
    "2. Increase the value of $N$ to get a more accurate value for the\n",
    "  integral.  If we require that the program runs in about one second or\n",
    "  less, how accurate a value can you get?\n",
    "\n",
    "Evaluating integrals is a common task in computational physics\n",
    "calculations.  We will study techniques for doing integrals in detail in\n",
    "the next chapter.  As we will see, there are substantially quicker and more\n",
    "accurate methods than the simple one we have used here."
   ]
  },
  {
   "cell_type": "markdown",
   "metadata": {},
   "source": [
    "**计算积分**\n",
    "\n",
    "假设求下面的积分\n",
    "$$\n",
    "I = \\int_{-1}^1 \\sqrt{1-x^2} d x.\n",
    "$$\n",
    "实际上是求半径为1的半圆的面积:\n",
    "\n",
    "<img src=\"semicircle.png\" alt=\"semicircle\" title=\"semicircle\" width=300>\n",
    "\n",
    "因此积分的面积的解析解为$\\frac{1}{2}\\pi=1.57079632679\\ldots$.\n",
    "\n",
    "相对的，我们可以把积分区间分成$N$个子区间, 子区间长度为$h=2/N$, 积分可以表示为\n",
    "$$\n",
    "I = \\lim_{N\\to\\infty} \\sum_{k=1}^N hy_k\\,,\n",
    "$$\n",
    "这里\n",
    "$$\n",
    "y_k = \\sqrt{1 - x_k^2}, \\qquad\n",
    "x_k = -1 + hk.\n",
    "$$\n",
    "实际计算中我们不能取$N\\to\\infty$，但是我们可以令$N$尽量大.\n",
    "\n",
    "1. 写程序用上面的公式计算积分, 取$N=100$, 并与解析解比较. 二者存在差异, 因为$N=100$不是一个足够大的数.\n",
    "\n",
    "\n",
    "2. 增加$N$以计算更准确的积分值. 如果我们要求程序运行时间小于等于1秒, 你能得到的结果有多精确?\n",
    "\n",
    "计算积分在计算物理中比较常见，我们会在后面的章节学习更快更精确的算法."
   ]
  },
  {
   "cell_type": "code",
   "execution_count": null,
   "metadata": {},
   "outputs": [
    {
     "name": "stdout",
     "output_type": "stream",
     "text": [
      "1.569109019600906 -0.0016873071939904616\n",
      "1.5707946634653682 -1.6633295283341454e-06\n",
      "1.5707963251406545 -1.6542420766541e-09\n",
      "1.570796327697819 9.029224035117522e-10\n"
     ]
    }
   ],
   "source": [
    "def f(x):\n",
    "    return np.sqrt(1-x*x)\n",
    "def integral(f,a,b,N):\n",
    "    x = np.linspace(a,b,N)\n",
    "    h = x[1]-x[0]\n",
    "    return np.sum(h*f(x))\n",
    "N = [10**i for i in range(2,15,2)]\n",
    "for n in N:\n",
    "    a = integral(f,-1,1,n)\n",
    "    print(a,a-np.pi/2)"
   ]
  },
  {
   "cell_type": "code",
   "execution_count": null,
   "metadata": {},
   "outputs": [],
   "source": []
  }
 ],
 "metadata": {
  "kernelspec": {
   "display_name": "Python3",
   "language": "python",
   "name": "python3"
  },
  "language_info": {
   "codemirror_mode": {
    "name": "ipython",
    "version": 3
   },
   "file_extension": ".py",
   "mimetype": "text/x-python",
   "name": "python",
   "nbconvert_exporter": "python",
   "pygments_lexer": "ipython3",
   "version": "3.9.6"
  }
 },
 "nbformat": 4,
 "nbformat_minor": 4
}
