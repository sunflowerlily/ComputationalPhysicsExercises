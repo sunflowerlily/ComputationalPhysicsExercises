{
 "cells": [
  {
   "cell_type": "markdown",
   "metadata": {},
   "source": [
    "# 计算物理基础 第七章 课后习题"
   ]
  },
  {
   "cell_type": "code",
   "execution_count": null,
   "metadata": {},
   "outputs": [],
   "source": [
    "import numpy as np, matplotlib.pyplot as plt"
   ]
  },
  {
   "cell_type": "markdown",
   "metadata": {},
   "source": []
  },
  {
   "cell_type": "markdown",
   "metadata": {},
   "source": [
    "### 1.\n",
    "对热传导方程一节中的例子如下，\n",
    "以有限长细杆的热传导问题为例显示差分公式，定解问题公式为\n",
    "\n",
    "$$\n",
    "\\begin{cases} \n",
    "u_t = a^2 u_{xx} \\\\\n",
    "u(0, t) = 0, \\quad u(l, t) = 0 \\\\\n",
    "u(x, t = 0) = \\varphi(x) \n",
    "\\end{cases}\n",
    "$$\n",
    "其中 $l = 20$， $t = 25$， $a^2 = 10$ 且\n",
    "\n",
    "$$\n",
    "\\varphi(x) = \n",
    "\\begin{cases} \n",
    "1 & (10 \\leqslant x \\leqslant 11) \\\\\n",
    "0 & (x < 10, x > 11) \n",
    "\\end{cases}\n",
    "$$\n",
    "\n",
    "计算不稳定的情况。"
   ]
  },
  {
   "cell_type": "code",
   "execution_count": null,
   "metadata": {},
   "outputs": [
    {
     "name": "stdout",
     "output_type": "stream",
     "text": [
      "示例1\n",
      "稳定性参数 r = 6.0025\n",
      "警告：r > 0.5，方案可能不稳定！\n"
     ]
    },
    {
     "ename": "ValueError",
     "evalue": "The truth value of an array with more than one element is ambiguous. Use a.any() or a.all()",
     "output_type": "error",
     "traceback": [
      "\u001b[0;31m---------------------------------------------------------------------------\u001b[0m",
      "\u001b[0;31mValueError\u001b[0m                                Traceback (most recent call last)",
      "Cell \u001b[0;32mIn[8], line 141\u001b[0m\n\u001b[1;32m    139\u001b[0m \u001b[38;5;28;01mif\u001b[39;00m \u001b[38;5;18m__name__\u001b[39m \u001b[38;5;241m==\u001b[39m \u001b[38;5;124m\"\u001b[39m\u001b[38;5;124m__main__\u001b[39m\u001b[38;5;124m\"\u001b[39m:\n\u001b[1;32m    140\u001b[0m     \u001b[38;5;28mprint\u001b[39m(\u001b[38;5;124m\"\u001b[39m\u001b[38;5;124m示例1\u001b[39m\u001b[38;5;124m\"\u001b[39m)\n\u001b[0;32m--> 141\u001b[0m     example1()\n",
      "Cell \u001b[0;32mIn[8], line 131\u001b[0m, in \u001b[0;36mexample1\u001b[0;34m()\u001b[0m\n\u001b[1;32m    128\u001b[0m boundary_conditions \u001b[38;5;241m=\u001b[39m (\u001b[38;5;241m0.0\u001b[39m, \u001b[38;5;241m0.0\u001b[39m)\n\u001b[1;32m    130\u001b[0m \u001b[38;5;66;03m# 求解\u001b[39;00m\n\u001b[0;32m--> 131\u001b[0m x, t, u \u001b[38;5;241m=\u001b[39m ftcs_heat_equation(L, T, Nx, Nt, alpha, \n\u001b[1;32m    132\u001b[0m                             initial_condition, boundary_conditions)\n\u001b[1;32m    134\u001b[0m \u001b[38;5;66;03m# 可视化\u001b[39;00m\n\u001b[1;32m    135\u001b[0m visualize_solution(x, t, u)\n",
      "Cell \u001b[0;32mIn[8], line 41\u001b[0m, in \u001b[0;36mftcs_heat_equation\u001b[0;34m(L, T, Nx, Nt, alpha, initial_condition, boundary_conditions)\u001b[0m\n\u001b[1;32m     38\u001b[0m u \u001b[38;5;241m=\u001b[39m np\u001b[38;5;241m.\u001b[39mzeros((Nt \u001b[38;5;241m+\u001b[39m \u001b[38;5;241m1\u001b[39m, Nx))\n\u001b[1;32m     40\u001b[0m \u001b[38;5;66;03m# 设置初始条件\u001b[39;00m\n\u001b[0;32m---> 41\u001b[0m u[\u001b[38;5;241m0\u001b[39m, :] \u001b[38;5;241m=\u001b[39m initial_condition(x)\n\u001b[1;32m     43\u001b[0m \u001b[38;5;66;03m# 设置边界条件\u001b[39;00m\n\u001b[1;32m     44\u001b[0m left_bc, right_bc \u001b[38;5;241m=\u001b[39m boundary_conditions\n",
      "Cell \u001b[0;32mIn[8], line 121\u001b[0m, in \u001b[0;36mexample1.<locals>.initial_condition\u001b[0;34m(x)\u001b[0m\n\u001b[1;32m    120\u001b[0m \u001b[38;5;28;01mdef\u001b[39;00m \u001b[38;5;21minitial_condition\u001b[39m(x):\n\u001b[0;32m--> 121\u001b[0m     \u001b[38;5;28;01mif\u001b[39;00m x \u001b[38;5;241m<\u001b[39m\u001b[38;5;241m=\u001b[39m \u001b[38;5;241m10\u001b[39m \u001b[38;5;129;01mor\u001b[39;00m x \u001b[38;5;241m>\u001b[39m\u001b[38;5;241m=\u001b[39m \u001b[38;5;241m11\u001b[39m:\n\u001b[1;32m    122\u001b[0m         \u001b[38;5;28;01mreturn\u001b[39;00m \u001b[38;5;241m0\u001b[39m\n\u001b[1;32m    123\u001b[0m     \u001b[38;5;28;01melse\u001b[39;00m:\n",
      "\u001b[0;31mValueError\u001b[0m: The truth value of an array with more than one element is ambiguous. Use a.any() or a.all()"
     ]
    }
   ],
   "source": [
    "import numpy as np\n",
    "import matplotlib.pyplot as plt\n",
    "\n",
    "# 初始化参数\n",
    "Nx=20\n",
    "Nt=25\n",
    "x = np.arange(Nx+1)  # 对应 MATLAB 的 x=0:20，生成 0 到 20 的整数数组\n",
    "a2 = 10\n",
    "r = a2 * 0.01\n",
    "\n",
    "# 预设矩阵以存放求得的解，行数对应 x 的数量，列数对应时间步数\n",
    "u = np.zeros((Nx+1, Nt))  \n",
    "\n",
    "# 初始条件，对应 MATLAB 的 u(10:11,1)=1，注意 Python 索引从 0 开始\n",
    "u[10:12, 0] = 1  \n",
    "\n",
    "fig, (ax1, ax2) = plt.subplots(2, 1, figsize=(10, 8))\n",
    "\n",
    "# 求解及绘图循环，对应 MATLAB 的 for j=1:25\n",
    "for j in range(Nt-1):  # 因为 Python 中索引到 23 对应第 24 次迭代，来填充 u 的 2 到 25 列（索引 1 到 24）\n",
    "    # 执行差分更新，对应 MATLAB 的 u(2:20,j+1)=(1-2*r)*u(2:20,j)+r*( u(1:19,j)+ u(3:21,j));\n",
    "    u[1:-1, j + 1] = (1 - 2 * r) * u[1:-1, j] + r * (u[:-2, j] + u[2:, j])  \n",
    "    \n",
    "    # 绘图，对应 MATLAB 的 plot(x,u(:,j)); axis([0 21 0 1]); pause(0.1)\n",
    "    ax1.plot(x, u[:, j])\n",
    "    ax1.axis([0, 21, 0, 1])\n",
    "    ax1.set_title('Solution at each time step')\n",
    "    ax1.set_xlabel('Space (x)')\n",
    "    ax1.set_ylabel('Temperature (u)')\n",
    "    plt.pause(0.01) # 调整暂停时间以平滑动画\n",
    "    ax1.cla()  # 清空当前轴，为下一次绘图做准备\n",
    "\n",
    "# 绘制 3D 曲面图，对应 MATLAB 的 meshz(u)\n",
    "ax2 = fig.add_subplot(2, 1, 2, projection='3d') # 确保ax2是3D投影\n",
    "t = np.arange(Nt)  # 定义时间步数，使用Nt\n",
    "X, Y = np.meshgrid(x, t)  # x对应空间，t对应时间\n",
    "ax2.plot_surface(X, Y, u.T, cmap='viridis')  # 需要转置u以匹配网格维度\n",
    "ax2.set_title('3D Surface Plot of Temperature Distribution')\n",
    "ax2.set_xlabel('Space (x)')\n",
    "ax2.set_ylabel('Time (t)')\n",
    "ax2.set_zlabel('Temperature (u)')\n",
    "plt.show()"
   ]
  },
  {
   "cell_type": "markdown",
   "metadata": {},
   "source": [
    "### 2. \n",
    "对弦振动方程的例子计算不稳定的情况。"
   ]
  },
  {
   "cell_type": "code",
   "execution_count": null,
   "metadata": {},
   "outputs": [],
   "source": []
  },
  {
   "cell_type": "markdown",
   "metadata": {},
   "source": [
    "### 3. 解方程\n",
    "$$\n",
    "\\begin{cases} \n",
    "u_{xx} + u_{yy} = x\\text{e}^y \\quad (0 < x < 2, 0 < y < 1) \\\\\n",
    "u(0, y) = 0, \\quad u(2, y) = 2\\text{e}^y \\\\\n",
    "u(x, 0) = x, \\quad u(x, 1) = \\text{e}x \n",
    "\\end{cases}\n",
    "$$\n",
    "取$\\Delta x = 1/3, \\Delta y = 1/5$。"
   ]
  },
  {
   "cell_type": "code",
   "execution_count": null,
   "metadata": {},
   "outputs": [],
   "source": []
  },
  {
   "cell_type": "markdown",
   "metadata": {},
   "source": [
    "### 4. 解方程\n",
    "$$\n",
    "\\begin{cases} \n",
    "u_t = u_{xx} & (0 < x < 1, 0 < t < 0.5) \\\\\n",
    "u(x, 0) = \\sin \\pi x \\\\\n",
    "u(0, t) = u(1, t) = 0 \n",
    "\\end{cases}\n",
    "$$\n",
    "\n",
    "分别取 $\\Delta x = 0.1, \\Delta t = 0.01$ 和 $\\Delta x = 0.1, \\Delta t = 0.001$ 进行计算。并与解析解 $u(x, t) = \\exp(-\\pi^2t)\\sin(\\pi x)$ 比较。"
   ]
  },
  {
   "cell_type": "markdown",
   "metadata": {},
   "source": [
    "### 5. 用差分法和 PDETOOL 解方程\n",
    "\n",
    "$$\n",
    "\\begin{cases} \n",
    "u_{tt} = a^2 u_{xx} \\quad (0 < x < l, 0 < t) \\\\\n",
    "u(0, t) = 0, \\quad u(l, t) = A \\sin \\omega t \\\\\n",
    "u(x, 0) = 0, \\quad u_t(x, 0) = 0 \n",
    "\\end{cases}\n",
    "$$\n",
    "\n",
    "问题中的参数由自己选择。"
   ]
  },
  {
   "cell_type": "markdown",
   "metadata": {},
   "source": [
    "### 6. \n",
    "在圆域$\\rho < a$上用偏微分方程工具箱求解方程$\\triangle u = -xy$，边界条件是$u(\\rho = 0) = 0$。"
   ]
  },
  {
   "cell_type": "markdown",
   "metadata": {},
   "source": [
    "### 7. 用偏微分方程工具箱求解如下的定解问题\n",
    "\n",
    "$$\n",
    "\\begin{cases} \n",
    "u_t = a^2 u_{xx} \\\\\n",
    "u(0, t) = 0, \\quad u_x(l, t) = 0 \\\\\n",
    "u(x, 0) = u_0 x / l \n",
    "\\end{cases}\n",
    "$$"
   ]
  },
  {
   "cell_type": "markdown",
   "metadata": {},
   "source": [
    "### 8. 用辛普森积分公式和高斯-勒让德求积公式计算\n",
    "\n",
    "$$\\int_{-1}^{1} (1 - x^2)^{1/2} \\text{d}x = \\frac{\\pi}{2}$$\n",
    "\n",
    "注意对被积函数在 $x = \\pm1$ 附近的行为需要特别小心。对不同的坐标点数，比较这些方法的精度和效率。注意这个积分可以用一个“1”点的高斯-切比雪夫求积公式准确求值，这个公式的形式为\n",
    "\n",
    "$$\\int_{-1}^{1} (1 - x^2)^{1/2} f(x) \\text{d}x = \\sum_{n = 1}^{N} w_n f(x_n)$$\n",
    "\n",
    "其中\n",
    "\n",
    "$$x_n = \\cos \\frac{n}{N + 1}\\pi, \\quad w_n = \\frac{\\pi}{N + 1} \\sin^2 \\frac{n}{N + 1}\\pi$$ \n"
   ]
  },
  {
   "cell_type": "markdown",
   "metadata": {},
   "source": [
    "## 特殊函数作图"
   ]
  },
  {
   "cell_type": "markdown",
   "metadata": {},
   "source": [
    "### 9.\n",
    "根据量子力学，一维线性谐振子的波函数是\n",
    "$$\\psi_n=N_nH_n(\\xi)e^{-\\frac{1}{2}\\xi^2},\\quad n=0,1,2,\\cdots$$\n",
    "其中$N_n$为归一化常数, $H_n(\\xi)$是厄米多项式. 画出谐振子的前四个波函数(作图时可以不必考虑$N_n$), 并将图形与5.10.3节数值计算所得图形做比较."
   ]
  },
  {
   "cell_type": "markdown",
   "metadata": {},
   "source": [
    "#### 解"
   ]
  },
  {
   "cell_type": "code",
   "execution_count": null,
   "metadata": {},
   "outputs": [],
   "source": [
    "from scipy.special import hermite\n",
    "x = np.linspace(-10,10,100)\n",
    "for n in range(4):\n",
    "    Hn = hermite(n)\n",
    "    psi = Hn(x)*np.exp(-0.5*x*x)\n",
    "    plt.subplot(2,2,n+1)\n",
    "    plt.plot(x,psi)"
   ]
  },
  {
   "cell_type": "markdown",
   "metadata": {},
   "source": [
    "### 10.\n",
    "均匀细圆环, 半径为$a$, 环上带有$4\\pi\\varepsilon_0q$单位的电荷, 它在空间的电势分布为\n",
    "$$\n",
    "u(r,\\theta)=\\begin{cases}\n",
    "\\frac{q}{a}\\sum\\limits_{l=0}^{\\infty}(-1)^l\\frac{(2l)!}{2^{2l}l!l!}\\left(\\frac{r}{a}\\right)^{2l}P_{2l}(\\cos\\theta)&(r<a)\\\\\n",
    "\\frac{q}{a}\\sum\\limits_{l=0}^{\\infty}(-1)^l\\frac{(2l)!}{2^{2l}l!l!}\\left(\\frac{a}{r}\\right)^{2l+1}P_{2l}(\\cos\\theta)&(r>a)\\\\\n",
    "\\end{cases}\n",
    "$$\n",
    "画出空间的电场线分布."
   ]
  },
  {
   "cell_type": "markdown",
   "metadata": {},
   "source": [
    "#### 解\n",
    "首先球电势分布"
   ]
  },
  {
   "cell_type": "code",
   "execution_count": null,
   "metadata": {},
   "outputs": [],
   "source": [
    "from scipy.special import legendre,factorial\n",
    "a = 1\n",
    "q = 1\n",
    "xx,yy = np.mgrid[-2:2:100j,-2:2:100j]\n",
    "r,theta = np.sqrt(xx**2+yy**2), np.arctan2(yy, xx) #直角坐标转化成极坐标\n",
    "N = 30 #求和的项数\n",
    "u = 0\n",
    "for l in range(N):\n",
    "    f = np.where((r<a),(r/a)**(2*l),(a/r)**(2*l+1)) #当r<a和r>a分别选择不同的因子，其它项相同\n",
    "    legendre2l = legendre(2*l)\n",
    "    u += (-1)**l*factorial(2*l)/factorial(l)/factorial(l)/2**(2*l)*f*legendre2l(np.cos(theta))"
   ]
  },
  {
   "cell_type": "markdown",
   "metadata": {},
   "source": [
    "#### 画电势的三维图像"
   ]
  },
  {
   "cell_type": "code",
   "execution_count": null,
   "metadata": {},
   "outputs": [],
   "source": [
    "fig = plt.figure()\n",
    "ax = fig.add_subplot(projection='3d')\n",
    "ax.plot_surface(xx,yy,u)"
   ]
  },
  {
   "cell_type": "markdown",
   "metadata": {},
   "source": [
    "#### 画电势的强度图"
   ]
  },
  {
   "cell_type": "code",
   "execution_count": null,
   "metadata": {},
   "outputs": [],
   "source": [
    "plt.imshow(u)"
   ]
  },
  {
   "cell_type": "markdown",
   "metadata": {},
   "source": [
    "#### 画空间电场分布"
   ]
  },
  {
   "cell_type": "code",
   "execution_count": null,
   "metadata": {},
   "outputs": [],
   "source": [
    "EX, EY=np.gradient(-u,1)\n",
    "plt.contour(xx,yy, u)\n",
    "plt.streamplot(xx.T,yy.T, EX.T, EY.T, linewidth=1,cmap='rainbow',density=1, arrowstyle='->', arrowsize=1.5) #线性流形"
   ]
  }
 ],
 "metadata": {
  "kernelspec": {
   "display_name": "base",
   "language": "python",
   "name": "python3"
  },
  "language_info": {
   "codemirror_mode": {
    "name": "ipython",
    "version": 3
   },
   "file_extension": ".py",
   "mimetype": "text/x-python",
   "name": "python",
   "nbconvert_exporter": "python",
   "pygments_lexer": "ipython3",
   "version": "3.12.7"
  }
 },
 "nbformat": 4,
 "nbformat_minor": 4
}
