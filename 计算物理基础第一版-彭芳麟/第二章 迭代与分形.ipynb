{
 "cells": [
  {
   "cell_type": "markdown",
   "metadata": {},
   "source": [
    "# 计算物理基础第二章：迭代与分形图形"
   ]
  },
  {
   "cell_type": "code",
   "execution_count": 1,
   "metadata": {},
   "outputs": [],
   "source": [
    "import numpy as np, matplotlib.pyplot as plt\n",
    "from IPython.display import Latex"
   ]
  },
  {
   "cell_type": "markdown",
   "metadata": {},
   "source": [
    "### 1. 斐波那契数列"
   ]
  },
  {
   "cell_type": "markdown",
   "metadata": {},
   "source": [
    "编写函数文件，求小于任意自然数$n$的斐波那契数列各项，斐波那契数列定义如下：\n",
    "\n",
    "$$\\left\\{\\begin{align}\n",
    "        &f_1 = 1&(n=1)\\\\\n",
    "        &f_2 = 1&(n=2)\\\\\n",
    "        &f_n = f_{n-1} + f_{n-2}&(n\\le3)\n",
    "        \\end{align}\n",
    "        \\right.$$"
   ]
  },
  {
   "cell_type": "markdown",
   "metadata": {},
   "source": [
    "### 第一种:递归"
   ]
  },
  {
   "cell_type": "code",
   "execution_count": 6,
   "metadata": {},
   "outputs": [
    {
     "name": "stdout",
     "output_type": "stream",
     "text": [
      "[1, 1, 2, 3, 5, 8, 13, 21, 34, 55]\n"
     ]
    }
   ],
   "source": [
    "def Fibonacci(n):\n",
    "    if n == 1 or n == 2:\n",
    "        return 1\n",
    "    else: \n",
    "        return Fibonacci(n-1) + Fibonacci(n-2)\n",
    "n = 10\n",
    "f = []\n",
    "for i in range(n):\n",
    "    f.append(Fibonacci(i+1))\n",
    "print(f)"
   ]
  },
  {
   "cell_type": "markdown",
   "metadata": {},
   "source": [
    "### 第二种:循环"
   ]
  },
  {
   "cell_type": "code",
   "execution_count": 8,
   "metadata": {},
   "outputs": [
    {
     "data": {
      "text/plain": [
       "[1, 1, 2, 3, 5]"
      ]
     },
     "execution_count": 8,
     "metadata": {},
     "output_type": "execute_result"
    }
   ],
   "source": [
    "def Fibonacci_Loop_tool(n):\n",
    "    a, b = 0, 1\n",
    "    while n > 0:\n",
    "        a, b = b, a + b\n",
    "        n -= 1\n",
    "def Fibonacci_Loop(n):\n",
    "    result_list = []\n",
    "    a, b = 0, 1\n",
    "    while n > 0:\n",
    "        result_list.append(b)\n",
    "        a, b = b, a + b\n",
    "        n -= 1\n",
    "    return result_list\n",
    "Fibonacci_Loop(5)"
   ]
  },
  {
   "cell_type": "markdown",
   "metadata": {},
   "source": [
    "### 第三种：yield关键字"
   ]
  },
  {
   "cell_type": "code",
   "execution_count": 11,
   "metadata": {},
   "outputs": [
    {
     "data": {
      "text/plain": [
       "[1, 1, 2, 3, 5]"
      ]
     },
     "execution_count": 11,
     "metadata": {},
     "output_type": "execute_result"
    }
   ],
   "source": [
    "def Fibonacci_Yield_tool(n):\n",
    "    a, b = 0, 1\n",
    "    while n > 0:\n",
    "        yield b\n",
    "        a, b = b, a + b\n",
    "        n -= 1\n",
    "\n",
    "\n",
    "def Fibonacci_Yield(n):\n",
    "    # return [f for i, f in enumerate(Fibonacci_Yield_tool(n))]\n",
    "    return list(Fibonacci_Yield_tool(n))\n",
    "Fibonacci_Yield(5)"
   ]
  },
  {
   "cell_type": "markdown",
   "metadata": {},
   "source": [
    "### 第四种,矩阵求解_直接求出第n位数值"
   ]
  },
  {
   "cell_type": "code",
   "execution_count": 12,
   "metadata": {},
   "outputs": [],
   "source": [
    "Matrix = np.matrix('1 1;1 0')\n",
    "# 其n-1 次方的第一位,也就是Matrix(11)--下标11就是斐波那契数列的解\n",
    "def Fibonacci_Matrix_tool(n): # 递归求解,速度慢与直接求方\n",
    "    Matrix = np.matrix('1 1;1 0')\n",
    "    if n == 1:\n",
    "        return Matrix\n",
    "    if n == 2:\n",
    "        return pow(Matrix, 2)\n",
    "    elif n % 2 == 1:\n",
    "        return Fibonacci_Matrix_tool((n - 1) / 2) ** 2 * Matrix\n",
    "    else:\n",
    "        return Fibonacci_Matrix_tool(n / 2) ** 2\n",
    "\n",
    "\n",
    "def Fibonacci_Matrix_tool2(n):\n",
    "    Matrix = np.matrix('1 1;1 0')\n",
    "    return pow(Matrix, n) # pow函数速度快于 使用双星号 \"**\"\n",
    "\n",
    "\n",
    "def Fibonacci_Matrix(n):\n",
    "    result_list = []\n",
    "    for i in range(0, n): result_list.append(np.array(Fibonacci_Matrix_tool2(i))[0][0])\n",
    "    return result_list"
   ]
  },
  {
   "cell_type": "markdown",
   "metadata": {},
   "source": [
    "### 下面解法来自2016级天文班薛王陈"
   ]
  },
  {
   "cell_type": "code",
   "execution_count": 5,
   "metadata": {},
   "outputs": [
    {
     "data": {
      "text/plain": [
       "[1, 1, 2, 3, 5, 8, 13, 21, 34, 55]"
      ]
     },
     "execution_count": 5,
     "metadata": {},
     "output_type": "execute_result"
    }
   ],
   "source": [
    "def FibonacciSequence(n):\n",
    "    a = []\n",
    "    for i in range(n):\n",
    "        if i == 0 or i == 1:\n",
    "            a.append(1)\n",
    "        else:\n",
    "            a.append(a[i-1] + a[i-2])\n",
    "    return a\n",
    "FibonacciSequence(10)"
   ]
  },
  {
   "cell_type": "markdown",
   "metadata": {},
   "source": [
    "### 2. 康托尔集"
   ]
  },
  {
   "cell_type": "markdown",
   "metadata": {},
   "source": [
    "将一段线段划分为3等分，然后将中间删去，留下来的两段分别重复上述操作，经过无限次操作后，所得到的点集称为康托尔集，画出康托尔集的图形。"
   ]
  },
  {
   "cell_type": "code",
   "execution_count": 3,
   "metadata": {},
   "outputs": [
    {
     "data": {
      "image/png": "[encoded data removed]",
      "text/plain": [
       "<Figure size 640x480 with 9 Axes>"
      ]
     },
     "metadata": {},
     "output_type": "display_data"
    }
   ],
   "source": [
    "%matplotlib inline\n",
    "import numpy as np, matplotlib.pyplot as plt\n",
    "l = np.array(([0, 1/3], [2/3, 1]))\n",
    "plt.close('all')\n",
    "plt.subplot(3,3,1)\n",
    "for each in l:\n",
    "    plt.plot(each.real, each.imag, 'k')\n",
    "    plt.axis('off')\n",
    "for n in range(2,10):\n",
    "    l = np.vstack((l/3, l/3+2/3))\n",
    "    plt.subplot(3,3,n)\n",
    "    for each in l:\n",
    "        plt.plot(each.real, each.imag, 'k')\n",
    "    plt.axis('equal')\n",
    "    plt.axis('off')"
   ]
  },
  {
   "cell_type": "markdown",
   "metadata": {},
   "source": [
    "### 3. 科赫(Koch)曲线"
   ]
  },
  {
   "cell_type": "markdown",
   "metadata": {},
   "source": [
    "在单位长度的线段上对其三等分，将中间段换成一个去掉底边的等边三角形，再在每条直线\n",
    "上重复以上操作，如此进行下去，就得到分形曲线--科赫曲线"
   ]
  },
  {
   "cell_type": "code",
   "execution_count": 20,
   "metadata": {},
   "outputs": [
    {
     "data": {
      "image/png": "[encoded data removed]",
      "text/plain": [
       "<matplotlib.figure.Figure at 0x18ba5f34b38>"
      ]
     },
     "metadata": {},
     "output_type": "display_data"
    }
   ],
   "source": [
    "import numpy as np, matplotlib.pyplot as plt\n",
    "a = np.array([0, 1j])\n",
    "\n",
    "plt.subplot(2,3,1)\n",
    "\n",
    "plt.plot(a.real, a.imag)\n",
    "\n",
    "for i in range(5):\n",
    "    plt.subplot(2,3,i+2)\n",
    "    a1 = a/3\n",
    "    a = np.hstack([a1, a1*(0.5 + 0.86603j)+1j/3,\n",
    "                   (a1-1j/3)*(0.5 - 0.86603j) +\n",
    "                   1j*2/3, a1 + 2j/3])\n",
    "    plt.plot(a.real, a.imag)\n",
    "    plt.axis('equal')"
   ]
  },
  {
   "cell_type": "markdown",
   "metadata": {},
   "source": [
    "### 4. Minkowski 香肠"
   ]
  },
  {
   "cell_type": "markdown",
   "metadata": {},
   "source": [
    "将一条直线四等分，将中间两段去掉，分别在上下代之以两个正方形的三条边，然后对每一个边都重复这样的操作，\n",
    "所得的曲线叫“Minkowski”香肠。编出画图程序。"
   ]
  },
  {
   "cell_type": "code",
   "execution_count": 26,
   "metadata": {},
   "outputs": [
    {
     "data": {
      "image/png": "[encoded data removed]",
      "text/plain": [
       "<matplotlib.figure.Figure at 0x18ba5fca7f0>"
      ]
     },
     "metadata": {},
     "output_type": "display_data"
    }
   ],
   "source": [
    "import numpy as np, matplotlib.pyplot as plt\n",
    "a = np.array([0, 1])\n",
    "\n",
    "plt.subplot(2,3,1)\n",
    "\n",
    "plt.plot(a.real, a.imag)\n",
    "\n",
    "for i in range(5):\n",
    "    plt.subplot(2,3,i+2)\n",
    "    a1 = a/4\n",
    "    a = np.hstack([a1, a1*1j+1/4, a1+1/4+1j/4, a1*(-1j)+1/2+1j/4,\n",
    "                   a1*(-1j)+1/2, a1+1/2-1j/4,\n",
    "                   1j*a1+3/4-1j/4, a1 + 3/4])\n",
    "    plt.plot(a.real, a.imag)\n",
    "    plt.axis('equal')"
   ]
  },
  {
   "cell_type": "code",
   "execution_count": 21,
   "metadata": {},
   "outputs": [
    {
     "data": {
      "image/png": "[encoded data removed]",
      "text/plain": [
       "<Figure size 640x480 with 1 Axes>"
      ]
     },
     "metadata": {},
     "output_type": "display_data"
    }
   ],
   "source": [
    "import numpy as np\n",
    "import matplotlib.pyplot as plt\n",
    "initial_string = \"F\"\n",
    "rewrite_rule = {\n",
    "    \"F\": \"F+F-F-F+F\"\n",
    "}\n",
    "def apply_rule(s, rule):\n",
    "    return ''.join(rule.get(c, c) for c in s)\n",
    "\n",
    "def generate_koch_curve(initial_string, rewrite_rule, iterations):\n",
    "    current_string = initial_string\n",
    "    for _ in range(iterations):\n",
    "        current_string = apply_rule(current_string, rewrite_rule)\n",
    "    return current_string\n",
    "def plot_koch_curve(koch_curve):\n",
    "    x = 0\n",
    "    y = 0\n",
    "    angle = 0\n",
    "    stack = []\n",
    "    stack.append((x, y, angle))\n",
    "    for char in koch_curve:\n",
    "        if char == 'F':\n",
    "            x_new = x + 1 * np.cos(angle)\n",
    "            y_new = y + 1 * np.sin(angle)\n",
    "            plt.plot([x, x_new], [y, y_new], 'k')\n",
    "            x, y = x_new, y_new\n",
    "        elif char == '+':\n",
    "            angle += np.pi / 2\n",
    "        elif char == '-':\n",
    "            angle -= np.pi / 2\n",
    "    plt.axis('equal')\n",
    "    plt.axis('off')\n",
    "    plt.show()\n",
    "\n",
    "koch_curve = generate_koch_curve(initial_string, rewrite_rule, 2)\n",
    "plot_koch_curve(koch_curve)"
   ]
  },
  {
   "cell_type": "code",
   "execution_count": null,
   "metadata": {},
   "outputs": [],
   "source": []
  }
 ],
 "metadata": {
  "kernelspec": {
   "display_name": "Python 3 (ipykernel)",
   "language": "python",
   "name": "python3"
  },
  "language_info": {
   "codemirror_mode": {
    "name": "ipython",
    "version": 3
   },
   "file_extension": ".py",
   "mimetype": "text/x-python",
   "name": "python",
   "nbconvert_exporter": "python",
   "pygments_lexer": "ipython3",
   "version": "3.11.8"
  }
 },
 "nbformat": 4,
 "nbformat_minor": 4
}
